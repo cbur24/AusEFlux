{
 "cells": [
  {
   "cell_type": "markdown",
   "metadata": {},
   "source": [
    "## Develop a method for harmonizing data from OzWALD\n",
    "\n",
    "Requirements:\n",
    "* Must be reproducible in an operational context i.e. minumum of fuss to rerun the whole process each year, but first off we need a ~20yr archive to build the models and run historic predictions\n",
    "* For now, run at 5 km resolution\n",
    "* Intermediate files are fine, but lets keep the number of steps to a minimum\n",
    "* Some variables are already computed by OzWALD, but others need to be either computed on-the-fly or saved and stored as intermediate files.\n",
    "* Many of the pre-computed variables available in OzWALD require resampling spatially and temporally\n",
    "* A python environment is required, but should be a small as possible (but will undoubtedly still be cumbersome)\n",
    "* There is a soft requirement that the model be built on features as close to possible as the published 'AusEFlux' article in Biogeoscieneces.\n",
    "\n"
   ]
  },
  {
   "cell_type": "code",
   "execution_count": null,
   "metadata": {
    "tags": []
   },
   "outputs": [],
   "source": [
    "import os\n",
    "import pandas as pd\n",
    "import xarray as xr\n",
    "import numpy as np\n",
    "from odc.geo.xr import assign_crs\n",
    "from odc.geo.geobox import zoom_out\n",
    "\n",
    "import sys\n",
    "sys.path.append('/g/data/os22/chad_tmp/AusEFlux/src/')\n",
    "from _utils import start_local_dask, round_coords\n",
    "\n",
    "import warnings\n",
    "warnings.simplefilter(action='ignore', category=FutureWarning)"
   ]
  },
  {
   "cell_type": "code",
   "execution_count": null,
   "metadata": {
    "tags": []
   },
   "outputs": [],
   "source": [
    "client = start_local_dask(mem_safety_margin='2Gb')\n",
    "client"
   ]
  },
  {
   "cell_type": "code",
   "execution_count": null,
   "metadata": {},
   "outputs": [],
   "source": [
    "base = '/g/data/ub8/au/'\n",
    "results='/g/data/os22/chad_tmp/AusEFlux/data/5km/'\n",
    "years = [str(i) for i in range(2004,2023)]\n",
    "chunks=dict(latitude=500, longtiude=500, time=-1)"
   ]
  },
  {
   "cell_type": "code",
   "execution_count": null,
   "metadata": {
    "tags": []
   },
   "outputs": [],
   "source": [
    "def pre_preprocess(ds, var):\n",
    "    ds = ds.transpose('latitude', 'longitude', 'time')\n",
    "    ds = assign_crs(ds, crs='epsg:4326')\n",
    "    if var=='rain':\n",
    "        ds = ds.resample(time='MS', loffset=pd.Timedelta(14, 'd')).sum()\n",
    "    else:\n",
    "        ds = ds.resample(time='MS', loffset=pd.Timedelta(14, 'd')).mean()\n",
    "    ds = ds.to_array()\n",
    "    ds.attrs['nodata'] = np.nan\n",
    "    ds = ds.odc.reproject(common_grid, resampling='average')\n",
    "    ds = ds.squeeze().drop('variable')\n",
    "    ds = round_coords(ds)\n",
    "    ds.attrs['nodata'] = np.nan\n",
    "    return ds"
   ]
  },
  {
   "cell_type": "code",
   "execution_count": null,
   "metadata": {
    "tags": []
   },
   "outputs": [],
   "source": [
    "#grab the common grid to reproject too\n",
    "xx = xr.open_dataset(base+'MODIS/mosaic/MYD11A1.006/MYD11A1.006.LST_Day_1km.2019.nc')\n",
    "xx = assign_crs(xx, crs='epsg:4326')\n",
    "common_grid = zoom_out(xx.odc.geobox, 5)\n",
    "\n",
    "#loop through each year\n",
    "for year in years:\n",
    "    \n",
    "    print(year)\n",
    "    \n",
    "    inputs = {\n",
    "        # 'rain': 'OzWALD/daily/meteo/Pg/OzWALD.daily.Pg.'+year+'.nc',\n",
    "        # 'NDVI': 'OzWALD/8day/NDVI/OzWALD.NDVI.'+year+'.nc',\n",
    "        # 'LST':'MODIS/mosaic/MYD11A1.006/MYD11A1.006.LST_Day_1km.'+year+'.nc',\n",
    "        'Tmin': 'OzWALD/daily/meteo/Tmin/OzWALD.Tmin.'+year+'.nc', #tons of memory, deal with differently\n",
    "        # 'Tmax': 'OzWALD/daily/meteo/Tmax/OzWALD.Tmax.'+year+'.nc',\n",
    "        # 'VPeff': 'OzWALD/daily/meteo/VPeff/OzWALD.VPeff.'+year+'.nc',\n",
    "        # 'PV': 'OzWALD/8day/PV/OzWALD.PV.'+year+'.nc',\n",
    "        # 'BS': 'OzWALD/8day/BS/OzWALD.BS.'+year+'.nc',\n",
    "        # 'WCF': 'OzWALD/annual/OzWALD.WCF.Annual.nc',\n",
    "        # 'VegH': '/g/data/os22/chad_tmp/NEE_modelling/data/1km/VegH_1km_monthly_2002_2022.nc'\n",
    "         }\n",
    "    \n",
    "    for k,i in inputs.items():\n",
    "        if os.path.exists(results+k+'/'+k+'_5km_monthly_'+year+'.nc'):\n",
    "            print('skipping model '+name)\n",
    "            continue\n",
    "        else:\n",
    "            print('', k)\n",
    "\n",
    "        # Loop through the dataset and process them\n",
    "        # Handle some datasets differently\n",
    "        different = ['WCF', 'VegH']\n",
    "\n",
    "        if any(k in j for j in different):\n",
    "            if k=='VegH':\n",
    "                ds = xr.open_dataset(i, chunks=chunks)\n",
    "                ds = ds.isel(time=-1).squeeze().drop('time') #grab any time, its all the same\n",
    "                \n",
    "            if k=='WCF':    \n",
    "                ds = xr.open_dataset(base+i, chunks=chunks)\n",
    "                ds = ds.sel(time=year).squeeze().drop('time')\n",
    "                ds = ds.transpose('latitude', 'longitude')\n",
    "                ds = assign_crs(ds, crs='epsg:4326')\n",
    "\n",
    "            ds = ds.to_array()\n",
    "            ds.attrs['nodata'] = np.nan\n",
    "            ds = ds.odc.reproject(common_grid, resampling='average')\n",
    "            time = pd.date_range(year+\"-01\", year+\"-12\", freq='MS') \n",
    "            time = [t+pd.Timedelta(14, 'd') for t in time]\n",
    "            ds = ds.expand_dims(time=time)\n",
    "            ds= ds.squeeze().drop('variable')\n",
    "            ds = round_coords(ds)\n",
    "            ds.attrs['nodata'] = np.nan\n",
    "\n",
    "        else:\n",
    "            ds = xr.open_dataset(base+i, chunks=chunks)\n",
    "            ds = pre_preprocess(ds, k)\n",
    "\n",
    "        ds = ds.rename(k)\n",
    "\n",
    "        #bring into memory\n",
    "        ds = ds.compute() \n",
    "\n",
    "        #export result\n",
    "        folder = '/g/data/os22/chad_tmp/AusEFlux/data/5km/'+k\n",
    "\n",
    "        if not os.path.exists(folder):\n",
    "            os.makedirs(folder)\n",
    "\n",
    "        ds.to_netcdf(results+k+'/'+k+'_5km_monthly_'+year+'.nc')\n",
    "\n",
    "        del ds\n"
   ]
  },
  {
   "cell_type": "code",
   "execution_count": null,
   "metadata": {},
   "outputs": [],
   "source": []
  }
 ],
 "metadata": {
  "kernelspec": {
   "display_name": "Python 3 (ipykernel)",
   "language": "python",
   "name": "python3"
  },
  "language_info": {
   "codemirror_mode": {
    "name": "ipython",
    "version": 3
   },
   "file_extension": ".py",
   "mimetype": "text/x-python",
   "name": "python",
   "nbconvert_exporter": "python",
   "pygments_lexer": "ipython3",
   "version": "3.10.0"
  }
 },
 "nbformat": 4,
 "nbformat_minor": 4
}
