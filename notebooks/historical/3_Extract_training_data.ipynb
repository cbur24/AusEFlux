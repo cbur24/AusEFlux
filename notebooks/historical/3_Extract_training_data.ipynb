{
 "cells": [
  {
   "cell_type": "markdown",
   "metadata": {},
   "source": [
    "# Extract data from the OzFlux eddy covariance sites\n",
    "\n",
    "And append remote sensing data from the nearest pixel, using the datasets in `AusEflux/data/5km`\n",
    "\n",
    "Ozflux datasets are here https://dap.tern.org.au/thredds/catalog/ecosystem_process/ozflux/catalog.html\n",
    "\n"
   ]
  },
  {
   "cell_type": "markdown",
   "metadata": {},
   "source": [
    "## Load modules"
   ]
  },
  {
   "cell_type": "code",
   "execution_count": 1,
   "metadata": {},
   "outputs": [],
   "source": [
    "import warnings\n",
    "warnings.simplefilter(action='ignore')\n",
    "\n",
    "import sys\n",
    "sys.path.append('/g/data/os22/chad_tmp/AusEFlux/src/')\n",
    "from _training import extract_ozflux"
   ]
  },
  {
   "cell_type": "markdown",
   "metadata": {},
   "source": [
    "## load and save the data"
   ]
  },
  {
   "cell_type": "code",
   "execution_count": 2,
   "metadata": {},
   "outputs": [
    {
     "name": "stdout",
     "output_type": "stream",
     "text": [
      "Total number of sites to collect: 39\n",
      "AliceSpringsMulga\n",
      "   Extracting RS data...\n",
      "AlpinePeatland\n",
      " AlpinePeatland does not exist for this combination of versions, level...skipping.\n",
      "Boyagin\n",
      "   Extracting RS data...\n",
      "CalperumChowilla\n",
      "   Extracting RS data...\n",
      "CapeTribulation\n",
      "   Extracting RS data...\n",
      "Collie\n",
      "   Extracting RS data...\n",
      "CowBay\n",
      "   Extracting RS data...\n",
      "CumberlandPlain\n",
      "   Extracting RS data...\n",
      "DalyPasture\n",
      "   Extracting RS data...\n",
      "DalyUncleared\n",
      "   Extracting RS data...\n",
      "DigbyPlantation\n",
      " DigbyPlantation does not exist for this combination of versions, level...skipping.\n",
      "DryRiver\n",
      "   Extracting RS data...\n",
      "Emerald\n",
      "   Extracting RS data...\n",
      "Fletcherview\n",
      "   Extracting RS data...\n",
      "FoggDam\n",
      "   Extracting RS data...\n",
      "GatumPasture\n",
      " GatumPasture does not exist for this combination of versions, level...skipping.\n",
      "Gingin\n",
      "   Extracting RS data...\n",
      "GreatWesternWoodlands\n",
      "   Extracting RS data...\n",
      "HowardSprings\n",
      "   Extracting RS data...\n",
      "Litchfield\n",
      "   Extracting RS data...\n",
      "LongreachMitchellGrassRangeland\n",
      "   Extracting RS data...\n",
      "Loxton\n",
      "   Extracting RS data...\n",
      "Otway\n",
      "   Extracting RS data...\n",
      "RedDirtMelonFarm\n",
      "   Extracting RS data...\n",
      "Ridgefield\n",
      "   Extracting RS data...\n",
      "RiggsCreek\n",
      "   Extracting RS data...\n",
      "RobsonCreek\n",
      "   Extracting RS data...\n",
      "SamfordEcologicalResearchFacility\n",
      "   Extracting RS data...\n",
      "SilverPlains\n",
      "   Extracting RS data...\n",
      "SturtPlains\n",
      "   Extracting RS data...\n",
      "TiTreeEast\n",
      "   Extracting RS data...\n",
      "Tumbarumba\n",
      "   Extracting RS data...\n",
      "WallabyCreek\n",
      "   Extracting RS data...\n",
      "Warra\n",
      "   Extracting RS data...\n",
      "Whroo\n",
      "   Extracting RS data...\n",
      "WombatStateForest\n",
      "   Extracting RS data...\n",
      "Yanco\n",
      "   Extracting RS data...\n",
      "YarramundiControl\n",
      " YarramundiControl does not exist for this combination of versions, level...skipping.\n",
      "YarramundiIrrigated\n",
      " YarramundiIrrigated does not exist for this combination of versions, level...skipping.\n"
     ]
    }
   ],
   "source": [
    "ds = extract_ozflux(version='2023_v1',\n",
    "                        level='L6',\n",
    "                        type='default',\n",
    "                        rs_data_folder='/g/data/os22/chad_tmp/AusEFlux/data/5km/',\n",
    "                        save_ec_data='/g/data/os22/chad_tmp/AusEFlux/data/ozflux_netcdf/',\n",
    "                        return_coords=True,\n",
    "                        verbose=True,\n",
    "                        export_path='/g/data/os22/chad_tmp/AusEFlux/data/training_data/'\n",
    "                        )\n",
    "    "
   ]
  },
  {
   "cell_type": "markdown",
   "metadata": {},
   "source": [
    "### Loop through sites and extract lat/lon locations for a plot"
   ]
  },
  {
   "cell_type": "code",
   "execution_count": null,
   "metadata": {
    "tags": []
   },
   "outputs": [],
   "source": [
    "import os\n",
    "import pandas as pd\n",
    "import geopandas as gpd"
   ]
  },
  {
   "cell_type": "code",
   "execution_count": null,
   "metadata": {
    "tags": []
   },
   "outputs": [],
   "source": [
    "base = '/g/data/os22/chad_tmp/AusEFlux/data/training_data/'\n",
    "sites = os.listdir(base)\n",
    "\n",
    "td = []\n",
    "for site in sites:\n",
    "    if '.csv' in site:\n",
    "        xx = pd.read_csv(base+site)\n",
    "        \n",
    "        xx['site'] = site[0:-4]\n",
    "        xx = xx[['site', 'x_coord', 'y_coord']]\n",
    "        xx=xx.head(1)\n",
    "        td.append(xx)\n",
    "\n",
    "df = pd.concat(td).dropna()\n",
    "print('n_sites:', len(df))\n",
    "df.head(5)"
   ]
  },
  {
   "cell_type": "markdown",
   "metadata": {},
   "source": [
    "## Export site locations"
   ]
  },
  {
   "cell_type": "code",
   "execution_count": null,
   "metadata": {
    "tags": []
   },
   "outputs": [],
   "source": [
    "df.to_csv('/g/data/os22/chad_tmp/AusEFlux/data/'+'ozflux_site_locations.csv')"
   ]
  },
  {
   "cell_type": "markdown",
   "metadata": {
    "tags": []
   },
   "source": [
    "## Plot\n"
   ]
  },
  {
   "cell_type": "code",
   "execution_count": null,
   "metadata": {
    "tags": []
   },
   "outputs": [],
   "source": [
    "import contextily as ctx #for basemaps"
   ]
  },
  {
   "cell_type": "code",
   "execution_count": null,
   "metadata": {
    "tags": []
   },
   "outputs": [],
   "source": [
    "gdf = gpd.GeoDataFrame(\n",
    "    df, geometry=gpd.points_from_xy(df.x_coord, df.y_coord), crs=\"EPSG:4326\"\n",
    ")"
   ]
  },
  {
   "cell_type": "code",
   "execution_count": null,
   "metadata": {
    "tags": []
   },
   "outputs": [],
   "source": [
    "ax = gdf.plot(column='site', figsize=(10,10))\n",
    "gdf.apply(lambda x: ax.annotate(text=x['site'], xy=x.geometry.centroid.coords[0], ha='right', fontsize=8), axis=1);\n",
    "\n",
    "# Adding basemap might fail with max retries...something is wrong with contextily backend\n",
    "ctx.add_basemap(ax, source=ctx.providers.Esri.WorldImagery, crs='EPSG:4326', attribution='', attribution_size=1) "
   ]
  },
  {
   "cell_type": "code",
   "execution_count": null,
   "metadata": {},
   "outputs": [],
   "source": []
  }
 ],
 "metadata": {
  "kernelspec": {
   "display_name": "Python 3 (ipykernel)",
   "language": "python",
   "name": "python3"
  },
  "language_info": {
   "codemirror_mode": {
    "name": "ipython",
    "version": 3
   },
   "file_extension": ".py",
   "mimetype": "text/x-python",
   "name": "python",
   "nbconvert_exporter": "python",
   "pygments_lexer": "ipython3",
   "version": "3.10.0"
  }
 },
 "nbformat": 4,
 "nbformat_minor": 4
}
