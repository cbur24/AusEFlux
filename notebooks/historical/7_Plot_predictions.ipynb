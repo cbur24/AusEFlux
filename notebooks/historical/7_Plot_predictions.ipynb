{
 "cells": [
  {
   "cell_type": "markdown",
   "metadata": {},
   "source": [
    "# Plotting results of predictions\n",
    "\n",
    "Here, the outputs from `6_combine_ensembles.ipynb` are plotted.\n",
    "\n",
    "\n"
   ]
  },
  {
   "cell_type": "code",
   "execution_count": null,
   "metadata": {},
   "outputs": [],
   "source": [
    "import os\n",
    "import odc.geo\n",
    "import numpy as np\n",
    "import xarray as xr\n",
    "import geopandas as gpd\n",
    "# import contextily as ctx\n",
    "import matplotlib.pyplot as plt\n",
    "import matplotlib.dates as mdates\n",
    "from odc.geo.xr import assign_crs\n",
    "import contextily as ctx\n",
    "from matplotlib.colors import ListedColormap\n",
    "\n",
    "import sys\n",
    "sys.path.append('/g/data/os22/chad_tmp/AusEFlux/src/')\n",
    "from _prediction import allNaN_arg\n",
    "from _utils import xr_rasterize\n",
    "\n",
    "import warnings\n",
    "warnings.filterwarnings(\"ignore\")\n",
    "\n",
    "%matplotlib inline"
   ]
  },
  {
   "cell_type": "code",
   "execution_count": null,
   "metadata": {},
   "outputs": [],
   "source": [
    "# from datacube.utils.dask import start_local_dask\n",
    "# client = start_local_dask(mem_safety_margin='2Gb')\n",
    "# client"
   ]
  },
  {
   "cell_type": "markdown",
   "metadata": {},
   "source": [
    "## Analysis Parameters"
   ]
  },
  {
   "cell_type": "code",
   "execution_count": null,
   "metadata": {},
   "outputs": [],
   "source": [
    "var = 'NEE'\n",
    "version='v1.2'\n",
    "base = f'/g/data/os22/chad_tmp/AusEFlux/'"
   ]
  },
  {
   "cell_type": "markdown",
   "metadata": {},
   "source": [
    "### Open predictions"
   ]
  },
  {
   "cell_type": "code",
   "execution_count": null,
   "metadata": {},
   "outputs": [],
   "source": [
    "folder = base+f'results/AusEFlux/{var}/'\n",
    "files = [f'{folder}/{i}' for i in os.listdir(folder) if i.endswith(\".nc\")]\n",
    "files.sort()\n",
    "\n",
    "#combine annual files into one file\n",
    "ds = xr.open_mfdataset(files)\n",
    "ds = assign_crs(ds, crs='EPSG:4326')\n",
    "ds.attrs['nodata'] = np.nan\n",
    "ds = ds.compute()\n",
    "ds"
   ]
  },
  {
   "cell_type": "markdown",
   "metadata": {},
   "source": [
    "## Convert to PgC/year"
   ]
  },
  {
   "cell_type": "code",
   "execution_count": null,
   "metadata": {},
   "outputs": [],
   "source": [
    "grid = ds.odc.geobox.to_crs('EPSG:3577')\n",
    "ds_area = ds.odc.reproject(how=grid, resampling='nearest')"
   ]
  },
  {
   "cell_type": "code",
   "execution_count": null,
   "metadata": {},
   "outputs": [],
   "source": [
    "area_per_pixel = ds_area[var+'_median'].odc.geobox.resolution.x**2\n",
    "\n",
    "if var != 'ET':\n",
    "    ds_area = ds_area * area_per_pixel * 1e-15 * 12 # (pgC/year)\n",
    "else:\n",
    "    ds_area = ds_area * 12 # (mm/year)"
   ]
  },
  {
   "cell_type": "markdown",
   "metadata": {},
   "source": [
    "## Zonal timeseries\n"
   ]
  },
  {
   "cell_type": "code",
   "execution_count": null,
   "metadata": {},
   "outputs": [],
   "source": [
    "ds_1D = ds_area[var+'_median'].rename(var).sum(['x','y'])\n",
    "upper_1D = ds_area[var+'_25th_percentile'].sum(['x','y'])\n",
    "lower_1D = ds_area[var+'_75th_percentile'].sum(['x','y'])\n",
    "\n",
    "fire = xr.open_dataarray('/g/data/os22/chad_tmp/NEE_modelling/data/FireEmissions_10km_monthly_2003_2022.nc')\n",
    "fire = fire.sum(['x', 'y'])\n",
    "fire = fire*12\n",
    "\n",
    "if var == 'NEE':\n",
    "    ds_fire_1d = ds_1D+fire\n",
    "    ds_fire_1d.drop(['spatial_ref']).to_dataframe(name='NEE+fire')\n",
    "    "
   ]
  },
  {
   "cell_type": "code",
   "execution_count": null,
   "metadata": {},
   "outputs": [],
   "source": [
    "annual_ds = ds_area.resample(time='1Y').sum()\n",
    "annual_fire = fire.resample(time='1Y').sum()\n",
    "\n",
    "print('This long-term mean: ', ds_1D.mean().values)\n",
    "\n",
    "if var=='NEE':\n",
    "    print('This long-term mean + fire: ', ds_fire_1d.mean().values)\n",
    "print('This Study IAV (median model): ', (annual_ds[var+'_median'].sum(['x','y']) / 12).std().values)\n",
    "print('This Study IAV (median model) + FIRE: ',((annual_ds[var+'_median'].sum(['x','y'])+annual_fire)/12).std().values)\n",
    "\n",
    "ds_clim_mean = ds_area[var+'_median'].groupby('time.month').mean()\n",
    "print('Seasonal range of '+var, ds_clim_mean.sum(['x','y']).max().values - ds_clim_mean.sum(['x','y']).min().values)"
   ]
  },
  {
   "cell_type": "code",
   "execution_count": null,
   "metadata": {},
   "outputs": [],
   "source": [
    "df_1d = ds_1D.drop(['spatial_ref']).to_dataframe()\n",
    "\n",
    "with plt.style.context('ggplot'):\n",
    "    fig,ax = plt.subplots(1,2, figsize=(13,4), sharey=True, gridspec_kw={'width_ratios': [5, 1]})\n",
    "\n",
    "    if var == 'NEE':\n",
    "        df_1d['NEE+fire'] = ds_fire_1d.drop(['spatial_ref']).to_dataframe(name='NEE+fire')\n",
    "    \n",
    "    ds_1D.plot(linestyle='-', ax=ax[0], label=var)\n",
    "    ds_1D.rolling(time=12, min_periods=12).mean().plot(ax=ax[0], label=var+' 12-month rolling mean')\n",
    "    ax[0].fill_between(ds_1D.time, lower_1D, upper_1D, alpha=0.2)\n",
    "    df_1d.boxplot(ax=ax[1], rot=0, grid=False, fontsize=14, showmeans=True, color={'medians': 'blue'}, meanprops={'markerfacecolor': 'blue', 'markeredgecolor':'blue'})\n",
    "    \n",
    "    if var == 'NEE':\n",
    "        \n",
    "        ds_fire_1d.plot(linestyle='--', ax=ax[0], label='NEE+Fire', c='purple', alpha=0.5)\n",
    "        ds_fire_1d.rolling(time=12, min_periods=12).mean().plot(ax=ax[0], label='NEE+fire 12-month rolling mean')\n",
    "        ax[0].axhline(0, c='grey', linestyle='--')\n",
    "        ax[1].axhline(0, c='grey', linestyle='--')\n",
    "        \n",
    "    if var != 'ET':\n",
    "        ax[0].set_ylabel(var+' PgC/year', fontsize=14)\n",
    "    else:\n",
    "        ax[0].set_ylabel(var+' mm/year', fontsize=14)\n",
    "    ax[0].xaxis.set_major_locator(mdates.YearLocator(2))\n",
    "    if var =='ER':\n",
    "        ax[0].set_ylim(1.0, 8.0)\n",
    "    \n",
    "    if var =='NEE':\n",
    "        ax[0].set_ylim(-2.2, 1.0)\n",
    "    ax[0].tick_params(axis='x', labelsize=14)\n",
    "    ax[0].tick_params(axis='y', labelsize=14)\n",
    "    ax[0].set_yticklabels(['{:3.1f}'.format(x) for x in ax[0].get_yticks()])\n",
    "    ax[0].set_xlabel('')\n",
    "    ax[0].set_title('')\n",
    "    ax[0].grid('off', which='major', axis='both', linestyle='--', linewidth=0.75)\n",
    "    ax[1].grid('off', which='major', axis='y', linestyle='--', linewidth=0.75)\n",
    "    ax[0].legend(loc='best', fontsize=14)\n",
    "    plt.tight_layout()\n",
    "    \n",
    "    plt.savefig(f'{base}results/figs/{var}_timeseries_with_boxplot_{version}.png', bbox_inches='tight', dpi=300)\n",
    "    plt.show()"
   ]
  },
  {
   "cell_type": "markdown",
   "metadata": {},
   "source": [
    "## Per-pixel summaries"
   ]
  },
  {
   "cell_type": "code",
   "execution_count": null,
   "metadata": {},
   "outputs": [],
   "source": [
    "annual_mean = ds[var+'_median'].resample(time='1Y').sum().mean('time')\n",
    "annual_std = ds[var+'_median'].resample(time='1Y').sum().std('time')\n",
    "\n",
    "scaled_variance = annual_std / annual_mean"
   ]
  },
  {
   "cell_type": "code",
   "execution_count": null,
   "metadata": {},
   "outputs": [],
   "source": [
    "monthly_mean = ds[var+'_median'].groupby('time.month').mean()\n",
    "\n",
    "if var == 'NEE':\n",
    "    max_mean_month = allNaN_arg(monthly_mean, 'month', 'min')\n",
    "else:\n",
    "    max_mean_month = allNaN_arg(monthly_mean, 'month', 'max')"
   ]
  },
  {
   "cell_type": "code",
   "execution_count": null,
   "metadata": {},
   "outputs": [],
   "source": [
    "fig,ax = plt.subplots(1,3, figsize=(18,7), sharey=True)\n",
    "font=20\n",
    "\n",
    "if var == 'NEE':\n",
    "    im = annual_mean.rename(var+' gC m\\N{SUPERSCRIPT TWO} mon⁻¹').where(annual_mean!=0).plot(ax=ax[0], cmap='Spectral_r',vmin=-300, vmax=300,add_colorbar=False, add_labels=False)\n",
    "    cbar = plt.colorbar(im, location='bottom', pad=0.025, ax=ax[0])\n",
    "    cbar.set_label(label=var+' gC m\\N{SUPERSCRIPT TWO} mon⁻¹', size=15, weight='bold')\n",
    "    cbar.ax.tick_params(labelsize=15)\n",
    "    ctx.add_basemap(ax[0], source=ctx.providers.CartoDB.Voyager, crs='EPSG:4326', attribution='', attribution_size=1)\n",
    "    # cbar.formatter.set_powerlimits((0, 0))\n",
    "else:\n",
    "    im = annual_mean.rename(var+' gC m\\N{SUPERSCRIPT TWO} mon⁻¹').where(annual_mean!=0).plot(ax=ax[0], cmap='viridis', vmin=0, vmax=2250, add_colorbar=False, add_labels=False)\n",
    "    ctx.add_basemap(ax[0], source=ctx.providers.CartoDB.Voyager, crs='EPSG:4326', attribution='', attribution_size=1)\n",
    "    cbar = plt.colorbar(im, location='bottom', pad=0.025, ax=ax[0])\n",
    "    cbar.set_label(label=var+' gC m\\N{SUPERSCRIPT TWO} mon⁻¹', size=15, weight='bold')\n",
    "    cbar.ax.tick_params(labelsize=15)\n",
    "    \n",
    "\n",
    "if var=='NEE':\n",
    "    im1 = annual_std.rename('').where(annual_mean!=0).plot(ax=ax[1], cmap='magma',vmin=0, vmax=130, add_colorbar=False, add_labels=False)\n",
    "    ctx.add_basemap(ax[1], source=ctx.providers.CartoDB.Voyager, crs='EPSG:4326', attribution='', attribution_size=1)\n",
    "else:\n",
    "    im1 = annual_std.rename('').where(annual_mean!=0).plot(ax=ax[1], cmap='magma',vmin=0, vmax=250, add_colorbar=False, add_labels=False)\n",
    "    ctx.add_basemap(ax[1], source=ctx.providers.CartoDB.Voyager, crs='EPSG:4326', attribution='', attribution_size=1)\n",
    "\n",
    "cbar1 = plt.colorbar(im1, location='bottom', pad=0.025, ax=ax[1])\n",
    "cbar1.set_label(label=var+' gC m\\N{SUPERSCRIPT TWO} mon⁻¹', size=15, weight='bold')\n",
    "cbar1.ax.tick_params(labelsize=15)\n",
    "\n",
    "im2 = max_mean_month.plot(vmin=1, vmax=12, ax=ax[2], cmap='twilight', add_colorbar=False, add_labels=False)\n",
    "ctx.add_basemap(ax[2], source=ctx.providers.CartoDB.Voyager, crs='EPSG:4326', attribution='', attribution_size=1)\n",
    "cbar2 = plt.colorbar(im2, spacing='uniform', ax=ax[2], location='bottom', pad=0.025)\n",
    "cbar2.set_ticks([1,2,3,4,5,6,7,8,9,10,11,12])\n",
    "cbar2.set_ticklabels([\"J\",\"F\",\"M\",\"A\",\"M\",\"J\",\"J\",\"A\",\"S\",\"O\",\"N\",\"D\"], fontsize=15)\n",
    "cbar2.set_label(label=var+' Month of Max.', size=15, weight='bold')\n",
    "\n",
    "ax[0].set_yticklabels([])\n",
    "ax[0].set_ylabel('')\n",
    "ax[0].set_xlabel('')\n",
    "ax[0].set_xticklabels([])\n",
    "ax[1].set_yticklabels([])\n",
    "ax[1].set_xticklabels([])\n",
    "ax[2].set_yticklabels([])\n",
    "ax[2].set_xticklabels([])\n",
    "\n",
    "ax[0].set_title('Annual Mean of '+var,fontsize=font)\n",
    "ax[1].set_title('Std.Dev. in Annual Mean '+var, fontsize=font)\n",
    "\n",
    "if var=='NEE':\n",
    "    ax[2].set_title('Month of Maximum Carbon Uptake', fontsize=font);\n",
    "else:\n",
    "    ax[2].set_title('Month of Maximum '+var, fontsize=font);\n",
    "    \n",
    "plt.tight_layout();\n",
    "\n",
    "plt.savefig(f'{base}results/figs/{var}_perpixel_summaries_{version}.png', bbox_inches='tight', dpi=300)"
   ]
  },
  {
   "cell_type": "code",
   "execution_count": null,
   "metadata": {},
   "outputs": [],
   "source": [
    "y = ds_area[var+'_median'].groupby('time.month').mean().sum(['x','y']).values\n",
    "x = monthly_mean.month.values\n",
    "fig,ax = plt.subplots(1,1, figsize=(6,4))\n",
    "ax.plot(x, y, marker='o', linestyle='--', label=var)\n",
    "# ax.plot(x, y_fire, marker='o', linestyle='--', label='NEE+fire')\n",
    "if var=='NEE':\n",
    "    ax.axhline(0, c='grey', linestyle='--')\n",
    "# ax.fill_between(x, y-std, y+std, alpha=0.5)\n",
    "ax.set_title('Monthly Mean '+var+' averaged over Australia')\n",
    "ax.legend()\n",
    "ax.set_xticks(range(1,13))\n",
    "ax.set_xticklabels([\"J\",\"F\",\"M\",\"A\",\"M\",\"J\",\"J\",\"A\",\"S\",\"O\",\"N\",\"D\"]) \n",
    "ax.set_xlabel('Month', fontsize=12);\n",
    "ax.set_ylabel('PgC/year', fontsize=15);\n"
   ]
  },
  {
   "cell_type": "code",
   "execution_count": null,
   "metadata": {},
   "outputs": [],
   "source": []
  }
 ],
 "metadata": {
  "kernelspec": {
   "display_name": "Python 3 (ipykernel)",
   "language": "python",
   "name": "python3"
  },
  "language_info": {
   "codemirror_mode": {
    "name": "ipython",
    "version": 3
   },
   "file_extension": ".py",
   "mimetype": "text/x-python",
   "name": "python",
   "nbconvert_exporter": "python",
   "pygments_lexer": "ipython3",
   "version": "3.10.0"
  }
 },
 "nbformat": 4,
 "nbformat_minor": 4
}
