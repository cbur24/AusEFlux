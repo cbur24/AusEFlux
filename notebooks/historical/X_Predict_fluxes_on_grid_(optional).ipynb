{
 "cells": [
  {
   "cell_type": "markdown",
   "metadata": {},
   "source": [
    "# Predicting fluxes on grid\n",
    "\n",
    "Only use this notebook in combination with the `4_Evaluate_fit_LGBM_model_(optional)` notebook if quickly iterating models to test results.\n"
   ]
  },
  {
   "cell_type": "code",
   "execution_count": null,
   "metadata": {},
   "outputs": [],
   "source": [
    "import sys\n",
    "import xarray as xr\n",
    "import numpy as np\n",
    "import pandas as pd\n",
    "from joblib import load\n",
    "from matplotlib import pyplot as plt\n",
    "\n",
    "import warnings\n",
    "warnings.filterwarnings(\"ignore\")\n",
    "\n",
    "sys.path.append('/g/data/os22/chad_tmp/AusEFlux/src/')\n",
    "from _prediction import collect_prediction_data, predict_xr, HiddenPrints\n",
    "from _utils import start_local_dask, round_coords"
   ]
  },
  {
   "cell_type": "code",
   "execution_count": null,
   "metadata": {},
   "outputs": [],
   "source": [
    "client = start_local_dask(mem_safety_margin='2Gb')\n",
    "client"
   ]
  },
  {
   "cell_type": "markdown",
   "metadata": {},
   "source": [
    "## Analysis Parameters"
   ]
  },
  {
   "cell_type": "code",
   "execution_count": null,
   "metadata": {},
   "outputs": [],
   "source": [
    "var = 'NEE'\n",
    "version='20240214'\n",
    "t1, t2='2003','2022'\n",
    "base = '/g/data/os22/chad_tmp/AusEFlux/'"
   ]
  },
  {
   "cell_type": "markdown",
   "metadata": {},
   "source": [
    "### Set up paths"
   ]
  },
  {
   "cell_type": "code",
   "execution_count": null,
   "metadata": {},
   "outputs": [],
   "source": [
    "results_name=f'{var}_5km_LGBM_{t1}_{t2}_{version}.nc'\n",
    "model_path = f'{base}results/models/{var}_LGBM_model_{version}.joblib'\n",
    "features_list = f'{base}results/variables_{version}.txt'"
   ]
  },
  {
   "cell_type": "markdown",
   "metadata": {},
   "source": [
    "## Open model"
   ]
  },
  {
   "cell_type": "code",
   "execution_count": null,
   "metadata": {},
   "outputs": [],
   "source": [
    "model = load(model_path).set_params(n_jobs=1)"
   ]
  },
  {
   "cell_type": "markdown",
   "metadata": {},
   "source": [
    "## Open predictor data\n",
    "\n",
    "At 5km resolution, its more efficient to bring the whole dataset into memory. At higher spatial resolutions, we keep the datasets 'lazy' and only load and predict one time-step at time."
   ]
  },
  {
   "cell_type": "code",
   "execution_count": null,
   "metadata": {},
   "outputs": [],
   "source": [
    "%%time\n",
    "## open data\n",
    "data = collect_prediction_data(data_path=f'{base}/data/5km/',\n",
    "                             time_range=(t1,t2),\n",
    "                             verbose=False,\n",
    "                             export=False,\n",
    "                             chunks=dict(time=-1)\n",
    "                             )\n",
    "\n",
    "# data = data.compute()"
   ]
  },
  {
   "cell_type": "markdown",
   "metadata": {},
   "source": [
    "## Create no-data & urban masks\n",
    "\n",
    "If we haven't already"
   ]
  },
  {
   "cell_type": "code",
   "execution_count": null,
   "metadata": {},
   "outputs": [],
   "source": [
    "# mask = data[['EVI', 'NDWI', 'VegH', 'SRAD']].to_array().isnull().any('variable')\n",
    "# mask.compute().to_netcdf(f'{base}data/mask_5km_monthly_{t1}_{t2}.nc')\n",
    "\n",
    "# #create an urban mask once, then next time load it.\n",
    "# urban = xr.open_dataarray('/g/data/os22/chad_tmp/NEE_modelling/data/urban_mask_1km.nc')\n",
    "# urban = urban.odc.reproject(mask.odc.geobox, resampling='mode')\n",
    "# urban=round_coords(urban)\n",
    "# urban.name='urban_mask'\n",
    "# urban = urban.astype(bool).rename({'latitude':'y', 'longitude':'x'})\n",
    "# urban.compute().to_netcdf(f'{base}data/urban_mask_5km.nc')\n"
   ]
  },
  {
   "cell_type": "code",
   "execution_count": null,
   "metadata": {},
   "outputs": [],
   "source": [
    "mask = xr.open_dataarray(f'{base}data/mask_5km_{t1}_{t2}.nc')\n",
    "urban = xr.open_dataset(f'{base}data/urban_mask_5km.nc')['urban_mask']"
   ]
  },
  {
   "cell_type": "markdown",
   "metadata": {},
   "source": [
    "### Index by variables and check variable order"
   ]
  },
  {
   "cell_type": "code",
   "execution_count": null,
   "metadata": {},
   "outputs": [],
   "source": [
    "train_vars = list(pd.read_csv(features_list))[0:-1]\n",
    "train_vars=[i[:-3] for i in train_vars]\n",
    "\n",
    "data = data[train_vars]\n",
    "\n",
    "if train_vars == list(data.data_vars):\n",
    "    print('Variables match, n:', len(data.data_vars))\n",
    "else:\n",
    "    raise ValueError(\"Variables don't match\")"
   ]
  },
  {
   "cell_type": "markdown",
   "metadata": {},
   "source": [
    "### Predict each time-step seperately\n",
    "\n",
    "- TO DO: fix timesteps that come back from `predict_xr`"
   ]
  },
  {
   "cell_type": "code",
   "execution_count": null,
   "metadata": {},
   "outputs": [],
   "source": [
    "%%time\n",
    "import warnings\n",
    "warnings.filterwarnings(\"ignore\")\n",
    "\n",
    "results = []\n",
    "i=0\n",
    "\n",
    "for i in range(0, len(data.time)): \n",
    "    print(\" {:03}/{:03}\\r\".format(i + 1, len(range(0, len(data.time)))), end=\"\")\n",
    "    with HiddenPrints():\n",
    "        predicted = predict_xr(model,\n",
    "                            data.isel(time=i),\n",
    "                            proba=False,\n",
    "                            clean=True,\n",
    "                              ).compute()\n",
    "\n",
    "    #mask no-data areas\n",
    "    predicted = predicted.Predictions.where(~mask.isel(time=i))\n",
    "\n",
    "    #add back time dim\n",
    "    predicted['time'] = data.isel(time=i).time.values\n",
    "\n",
    "    #append to list\n",
    "    results.append(predicted.astype('float32'))\n",
    "    i+=1 \n",
    "\n",
    "#join together into a Dataset\n",
    "ds = xr.concat(results, dim='time').sortby('time').rename(var).astype('float32')\n",
    "\n",
    "#mask urban areas\n",
    "ds = ds.where(urban!=1).astype('float32')"
   ]
  },
  {
   "cell_type": "code",
   "execution_count": null,
   "metadata": {},
   "outputs": [],
   "source": [
    "ds.sel(time=slice('2003', '2022')).mean(['x','y']).plot(figsize=(12,5))"
   ]
  },
  {
   "cell_type": "code",
   "execution_count": null,
   "metadata": {},
   "outputs": [],
   "source": [
    "clim_late = ds.sel(time=slice('2003', '2022')).groupby('time.month').mean()\n",
    "\n",
    "fig,ax=plt.subplots(1,1)\n",
    "clim_late.mean(['x', 'y']).plot(ax=ax,  label='late')\n",
    "ax.legend()"
   ]
  },
  {
   "cell_type": "markdown",
   "metadata": {},
   "source": [
    "### Save results"
   ]
  },
  {
   "cell_type": "code",
   "execution_count": null,
   "metadata": {},
   "outputs": [],
   "source": [
    "ds.to_netcdf(f'{base}results/predictions/'+results_name)"
   ]
  },
  {
   "cell_type": "markdown",
   "metadata": {},
   "source": [
    "## Animate results"
   ]
  },
  {
   "cell_type": "code",
   "execution_count": null,
   "metadata": {},
   "outputs": [],
   "source": [
    "ds.mean('time').plot.imshow(robust=True)"
   ]
  },
  {
   "cell_type": "code",
   "execution_count": null,
   "metadata": {},
   "outputs": [],
   "source": [
    "import xarray as xr\n",
    "from IPython.display import Image\n",
    "import matplotlib.pyplot as plt\n",
    "\n",
    "import sys\n",
    "sys.path.append('/g/data/os22/chad_tmp/dea-notebooks/Tools')\n",
    "from dea_tools.plotting import xr_animation"
   ]
  },
  {
   "cell_type": "code",
   "execution_count": null,
   "metadata": {},
   "outputs": [],
   "source": [
    "path = f'{base}results/gifs/{var}_LGBM_5km_{version}.gif'\n",
    "\n",
    "if var=='NEE':\n",
    "    imshow={'vmin': -45, 'vmax': 45, 'cmap': 'Spectral_r'}\n",
    "    \n",
    "elif var=='ET':\n",
    "    imshow={'vmin': 0, 'vmax': 100, 'cmap': 'PuBuGn'}\n",
    "\n",
    "elif (var == 'GPP') | (var=='ER'):\n",
    "    imshow={'vmin': 0, 'vmax': 150, 'cmap': 'gist_earth_r'}\n",
    "\n",
    "xr_animation(ds.to_dataset().rolling(time=3, min_periods=1).mean(),\n",
    "            bands=[var],\n",
    "            show_date='%b %Y',\n",
    "            width_pixels=600,\n",
    "            output_path=path,\n",
    "            show_colorbar=True,\n",
    "            colorbar_kwargs={'colors': 'black'},\n",
    "            # show_gdf=poly_gdf,\n",
    "            interval=150, \n",
    "            show_text=var+' gC/m2/month',\n",
    "            # gdf_kwargs={'edgecolor': 'grey', 'linewidth':0.5}, \n",
    "            imshow_kwargs=imshow\n",
    "            )\n",
    "\n",
    "# Plot animation\n",
    "plt.close()\n",
    "Image(path, embed=True)"
   ]
  },
  {
   "cell_type": "code",
   "execution_count": null,
   "metadata": {},
   "outputs": [],
   "source": []
  }
 ],
 "metadata": {
  "kernelspec": {
   "display_name": "Python 3 (ipykernel)",
   "language": "python",
   "name": "python3"
  },
  "language_info": {
   "codemirror_mode": {
    "name": "ipython",
    "version": 3
   },
   "file_extension": ".py",
   "mimetype": "text/x-python",
   "name": "python",
   "nbconvert_exporter": "python",
   "pygments_lexer": "ipython3",
   "version": "3.10.0"
  }
 },
 "nbformat": 4,
 "nbformat_minor": 4
}
