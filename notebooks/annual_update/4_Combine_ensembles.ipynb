{
 "cells": [
  {
   "cell_type": "markdown",
   "metadata": {},
   "source": [
    "# Combine all the predictions, and map uncertainty\n",
    "\n",
    "Ran an ensemble of predictions, now we need to compute the ensemble median and the uncertainty range."
   ]
  },
  {
   "cell_type": "code",
   "execution_count": null,
   "metadata": {},
   "outputs": [],
   "source": [
    "import os\n",
    "import sys\n",
    "import xarray as xr\n",
    "import numpy as np\n",
    "import pandas as pd\n",
    "import matplotlib.pyplot as plt\n",
    "from odc.geo.xr import assign_crs\n",
    "import odc.geo.xr\n",
    "import warnings\n",
    "warnings.filterwarnings(\"ignore\")\n",
    "\n",
    "sys.path.append('/g/data/os22/chad_tmp/AusEFlux/src/')\n",
    "from _utils import start_local_dask\n",
    "from _percentile import xr_quantile\n"
   ]
  },
  {
   "cell_type": "code",
   "execution_count": null,
   "metadata": {},
   "outputs": [],
   "source": [
    "client = start_local_dask(mem_safety_margin='2Gb')\n",
    "client"
   ]
  },
  {
   "cell_type": "markdown",
   "metadata": {},
   "source": [
    "## Analysis Parameters"
   ]
  },
  {
   "cell_type": "code",
   "execution_count": null,
   "metadata": {},
   "outputs": [],
   "source": [
    "model_var = 'GPP'\n",
    "base = '/g/data/os22/chad_tmp/AusEFlux/'\n",
    "year = '2023'\n",
    "predictions_folder= f'{base}results/predictions/ensemble/annual_update/{year}/{model_var}/'\n",
    "\n",
    "#metadata for export\n",
    "full_name = 'Gross Primary Productivity'\n",
    "version = 'v1.2'\n",
    "units = 'gC/m2/month'"
   ]
  },
  {
   "cell_type": "markdown",
   "metadata": {},
   "source": [
    "### Predictions paths"
   ]
  },
  {
   "cell_type": "code",
   "execution_count": null,
   "metadata": {},
   "outputs": [],
   "source": [
    "files = os.listdir(predictions_folder)\n",
    "pred_filepaths = [predictions_folder+i for i in files if i.endswith('.nc')]\n",
    "len(pred_filepaths)"
   ]
  },
  {
   "cell_type": "markdown",
   "metadata": {},
   "source": [
    "## Quickly plot the results to inspect"
   ]
  },
  {
   "cell_type": "code",
   "execution_count": null,
   "metadata": {},
   "outputs": [],
   "source": [
    "fig,ax = plt.subplots(1,1, figsize=(15, 5))\n",
    "\n",
    "i=0\n",
    "for pred in pred_filepaths:\n",
    "    print(\"  {:02}/{:02}\\r\".format(i + 1, len(range(0, len(pred_filepaths)))), end=\"\")\n",
    "    ds=xr.open_dataarray(pred, chunks=dict(x=1050, y=680, time=1))\n",
    "    ds.sum(['x','y']).compute().plot(ax=ax, alpha=0.25, c='lightskyblue')\n",
    "    i+=1 \n",
    "\n",
    "plt.title('Ensembles');"
   ]
  },
  {
   "cell_type": "markdown",
   "metadata": {},
   "source": [
    "## Find median and interquantile range"
   ]
  },
  {
   "cell_type": "code",
   "execution_count": null,
   "metadata": {},
   "outputs": [],
   "source": [
    "arrs=[]\n",
    "for pred in pred_filepaths:\n",
    "    ds=xr.open_dataarray(pred, chunks=dict(x=1000, y=1000, time=1)) #680, longitude=1050, time=1\n",
    "    arrs.append(ds.rename(pred[-8:-3]))\n",
    "    \n",
    "ds = xr.merge(arrs)\n",
    "ds = ds.to_array()\n",
    "\n",
    "ds = xr_quantile(ds, quantiles=[0.05, 0.50, 0.95], nodata=np.nan)\n",
    "ds = ds.rename({'band':model_var+'_quantiles'}).to_array().squeeze().drop('variable')\n",
    "ds.attrs['nodata']=np.nan\n",
    "ds"
   ]
  },
  {
   "cell_type": "code",
   "execution_count": null,
   "metadata": {},
   "outputs": [],
   "source": [
    "%%time\n",
    "ds = ds.compute()"
   ]
  },
  {
   "cell_type": "markdown",
   "metadata": {},
   "source": [
    "### Plot the results"
   ]
  },
  {
   "cell_type": "code",
   "execution_count": null,
   "metadata": {},
   "outputs": [],
   "source": [
    "fig,ax = plt.subplots(1,1, figsize=(15, 5))\n",
    "ds.sel(quantile=0.05).sum(['x','y']).plot(ax=ax, alpha=0.5, c='lightskyblue', label='0.05')\n",
    "ds.sel(quantile=0.50).sum(['x','y']).plot(ax=ax, alpha=0.5, c='darkgreen', label='median')\n",
    "ds.sel(quantile=0.95).sum(['x','y']).plot(ax=ax, alpha=0.5, c='lightskyblue', label='0.95')\n",
    "\n",
    "ax.legend()\n",
    "plt.title('Uncertanity modelling, quantiles of ensembles')"
   ]
  },
  {
   "cell_type": "markdown",
   "metadata": {},
   "source": [
    "## Save to netcdf\n",
    "\n",
    "Add attritbutes and naming convention ready for productions\n",
    "\n",
    "Export as annual files in a folder - this will help with running an annual update each year."
   ]
  },
  {
   "cell_type": "code",
   "execution_count": null,
   "metadata": {},
   "outputs": [],
   "source": [
    "ds = ds.rename(full_name)\n",
    "ds = ds.to_dataset(dim='quantile').rename({0.05:model_var+'_5th_percentile',\n",
    "                                           0.5:model_var+'_median',\n",
    "                                           0.95:model_var+'_95th_percentile',\n",
    "                                           'x':'longitude', 'y':'latitude'})\n",
    "ds = assign_crs(ds, crs='EPSG:4326')"
   ]
  },
  {
   "cell_type": "code",
   "execution_count": null,
   "metadata": {},
   "outputs": [],
   "source": [
    "ds.to_netcdf(f'{base}results/AusEFlux/{model_var}/AusEFlux_{version}_{model_var}_5km_quantiles_{year}.nc')"
   ]
  },
  {
   "cell_type": "code",
   "execution_count": null,
   "metadata": {},
   "outputs": [],
   "source": []
  }
 ],
 "metadata": {
  "kernelspec": {
   "display_name": "Python 3 (ipykernel)",
   "language": "python",
   "name": "python3"
  },
  "language_info": {
   "codemirror_mode": {
    "name": "ipython",
    "version": 3
   },
   "file_extension": ".py",
   "mimetype": "text/x-python",
   "name": "python",
   "nbconvert_exporter": "python",
   "pygments_lexer": "ipython3",
   "version": "3.10.0"
  }
 },
 "nbformat": 4,
 "nbformat_minor": 4
}
