{
 "cells": [
  {
   "cell_type": "markdown",
   "metadata": {},
   "source": [
    "# Create an urban & water mask\n",
    "\n",
    "Using NVISv6 to define locations of inland water bodies. Urban areas are from ozwald on the NCI."
   ]
  },
  {
   "cell_type": "code",
   "execution_count": null,
   "metadata": {},
   "outputs": [],
   "source": [
    "import os\n",
    "import odc.geo\n",
    "import numpy as np\n",
    "import xarray as xr\n",
    "import rioxarray as rxr\n",
    "import matplotlib.pyplot as plt\n",
    "from odc.geo.xr import assign_crs\n",
    "\n",
    "import sys\n",
    "sys.path.append('/g/data/os22/chad_tmp/AusEFlux/src/')\n",
    "from _utils import round_coords\n",
    "\n",
    "import warnings\n",
    "warnings.filterwarnings(\"ignore\")\n",
    "%matplotlib inline"
   ]
  },
  {
   "cell_type": "code",
   "execution_count": null,
   "metadata": {},
   "outputs": [],
   "source": [
    "from datacube.utils.dask import start_local_dask\n",
    "client = start_local_dask(mem_safety_margin='2Gb')\n",
    "client"
   ]
  },
  {
   "cell_type": "markdown",
   "metadata": {},
   "source": [
    "## Make a 5 km urban and water mask"
   ]
  },
  {
   "cell_type": "code",
   "execution_count": null,
   "metadata": {},
   "outputs": [],
   "source": [
    "urban = xr.open_dataarray('/g/data/os22/chad_tmp/AusEFlux/data/urban_mask_5km.nc').rename({'y':'latitude','x':'longitude'})\n",
    "\n",
    "water = xr.open_dataarray('/g/data/os22/chad_tmp/Aus_phenology/data/NVISv6_5km.nc') ##24=inland water\n",
    "water = xr.where(water==24,1,0)\n",
    "\n",
    "mask = (urban | water)\n",
    "\n",
    "mask.rename({'latitude':'y','longitude':'x'}).astype(np.int16).to_netcdf('/g/data/os22/chad_tmp/AusEFlux/data/urban_water_mask_5km.nc')"
   ]
  },
  {
   "cell_type": "code",
   "execution_count": null,
   "metadata": {},
   "outputs": [],
   "source": [
    "mask.plot();\n",
    "plt.title('Urban and water mask 5km');"
   ]
  },
  {
   "cell_type": "markdown",
   "metadata": {},
   "source": [
    "## Make a 1 km urban and water mask"
   ]
  },
  {
   "cell_type": "code",
   "execution_count": null,
   "metadata": {},
   "outputs": [],
   "source": [
    "urban = xr.open_dataarray('/g/data/os22/chad_tmp/AusEFlux/data/urban_mask_1km.nc')"
   ]
  },
  {
   "cell_type": "code",
   "execution_count": null,
   "metadata": {},
   "outputs": [],
   "source": [
    "ds = rxr.open_rasterio('/g/data/os22/chad_tmp/climate-carbon-interactions/data/aus6_0e_mvg.tif', chunks=(dict(x=250,y=250))).squeeze().drop_vars('band')\n",
    "ds = ds.where(ds<99).astype('float32')\n",
    "ds = assign_crs(ds, crs='EPSG:3577')"
   ]
  },
  {
   "cell_type": "markdown",
   "metadata": {},
   "source": [
    "### Reproject"
   ]
  },
  {
   "cell_type": "code",
   "execution_count": null,
   "metadata": {},
   "outputs": [],
   "source": [
    "#reproject\n",
    "ds = ds.odc.reproject(how=urban.odc.geobox, resampling='mode')\n",
    "ds = ds.rename('NVISv6_5km')\n",
    "ds = round_coords(ds)\n",
    "ds = ds.where(ds<99)\n",
    "ds = ds.compute()"
   ]
  },
  {
   "cell_type": "code",
   "execution_count": null,
   "metadata": {},
   "outputs": [],
   "source": [
    "ds = ds.rename({'latitude':'y','longitude':'x'})"
   ]
  },
  {
   "cell_type": "code",
   "execution_count": null,
   "metadata": {},
   "outputs": [],
   "source": [
    "water = xr.where(ds==24,1,0)\n",
    "\n",
    "mask = (urban | water)\n",
    "\n",
    "mask.astype(np.int16).to_netcdf('/g/data/os22/chad_tmp/AusEFlux/data/urban_water_mask_1km.nc')"
   ]
  },
  {
   "cell_type": "code",
   "execution_count": null,
   "metadata": {},
   "outputs": [],
   "source": [
    "mask.plot();\n",
    "plt.title('Urban and water mask 1km');"
   ]
  },
  {
   "cell_type": "markdown",
   "metadata": {},
   "source": [
    "## Mask the predictions\n",
    "\n",
    "This is necessary because I had failed to mask water during the production run. Will be redundant on any future run because the urban and water mask is now in the production code."
   ]
  },
  {
   "cell_type": "code",
   "execution_count": null,
   "metadata": {},
   "outputs": [],
   "source": [
    "base = f'/g/data/os22/chad_tmp/AusEFlux/'\n",
    "\n",
    "# ----NEE-------------------------------\n",
    "folder = base+f'results/AusEFlux/NEE/'\n",
    "files = [f'{folder}/{i}' for i in os.listdir(folder) if i.endswith(\".nc\")]\n",
    "files.sort()\n",
    "nee = xr.open_mfdataset(files)\n",
    "nee = assign_crs(nee, crs='EPSG:4326')\n",
    "nee.attrs['nodata'] = np.nan\n",
    "\n",
    "# ----GPP-------------------------------\n",
    "folder = base+f'results/AusEFlux/GPP/'\n",
    "files = [f'{folder}/{i}' for i in os.listdir(folder) if i.endswith(\".nc\")]\n",
    "files.sort()\n",
    "gpp = xr.open_mfdataset(files)\n",
    "gpp = assign_crs(gpp, crs='EPSG:4326')\n",
    "gpp.attrs['nodata'] = np.nan\n",
    "\n",
    "\n",
    "# ----ER-------------------------------\n",
    "folder = base+f'results/AusEFlux/ER/'\n",
    "files = [f'{folder}/{i}' for i in os.listdir(folder) if i.endswith(\".nc\")]\n",
    "files.sort()\n",
    "er = xr.open_mfdataset(files)\n",
    "er = assign_crs(er, crs='EPSG:4326')\n",
    "er.attrs['nodata'] = np.nan\n",
    "\n",
    "# ----ER-------------------------------\n",
    "folder = base+f'results/AusEFlux/ET/'\n",
    "files = [f'{folder}/{i}' for i in os.listdir(folder) if i.endswith(\".nc\")]\n",
    "files.sort()\n",
    "et = xr.open_mfdataset(files)\n",
    "et = assign_crs(et, crs='EPSG:4326')\n",
    "et.attrs['nodata'] = np.nan"
   ]
  },
  {
   "cell_type": "markdown",
   "metadata": {},
   "source": [
    "### Mask"
   ]
  },
  {
   "cell_type": "code",
   "execution_count": null,
   "metadata": {},
   "outputs": [],
   "source": [
    "mask = mask.rename({'y':'latitude','x':'longitude'})\n",
    "\n",
    "nee = nee.where(mask!=1).astype(np.float32)\n",
    "gpp = gpp.where(mask!=1).astype(np.float32)\n",
    "er = er.where(mask!=1).astype(np.float32)\n",
    "et = et.where(mask!=1).astype(np.float32)"
   ]
  },
  {
   "cell_type": "markdown",
   "metadata": {},
   "source": [
    "### export"
   ]
  },
  {
   "cell_type": "code",
   "execution_count": null,
   "metadata": {},
   "outputs": [],
   "source": [
    " #list of years and export\n",
    "years = [str(i) for i in range(2003, 2024)]\n",
    "fluxes = ['GPP', 'ER', 'NEE', 'ET'] \n",
    "dss = [gpp,er,nee,et] \n",
    "\n",
    "for flux,ds in zip(fluxes,dss):\n",
    "    for year in years:\n",
    "        xx = ds.sel(time=year)\n",
    "        print(flux, year)\n",
    "        xx.to_netcdf(f'/g/data/os22/chad_tmp/AusEFlux/results/AusEFlux/{flux}_new/AusEFlux_{flux}_1km_quantiles_{year}_v1.2.nc')"
   ]
  },
  {
   "cell_type": "code",
   "execution_count": null,
   "metadata": {},
   "outputs": [],
   "source": []
  }
 ],
 "metadata": {
  "kernelspec": {
   "display_name": "Python 3 (ipykernel)",
   "language": "python",
   "name": "python3"
  },
  "language_info": {
   "codemirror_mode": {
    "name": "ipython",
    "version": 3
   },
   "file_extension": ".py",
   "mimetype": "text/x-python",
   "name": "python",
   "nbconvert_exporter": "python",
   "pygments_lexer": "ipython3",
   "version": "3.10.0"
  }
 },
 "nbformat": 4,
 "nbformat_minor": 4
}
