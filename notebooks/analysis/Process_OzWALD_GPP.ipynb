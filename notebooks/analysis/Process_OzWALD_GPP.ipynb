{
 "cells": [
  {
   "cell_type": "code",
   "execution_count": null,
   "id": "873025a0-bde7-4966-9e4e-780302e78676",
   "metadata": {},
   "outputs": [],
   "source": [
    "import os\n",
    "import xarray as xr\n",
    "import numpy as np\n",
    "import pandas as pd\n",
    "import matplotlib.pyplot as plt\n",
    "from odc.geo.xr import assign_crs\n",
    "\n",
    "import warnings\n",
    "warnings.simplefilter(action='ignore')"
   ]
  },
  {
   "cell_type": "code",
   "execution_count": null,
   "id": "077f715c-e2a7-4c2e-96ff-f523dda8769d",
   "metadata": {},
   "outputs": [],
   "source": [
    "import sys\n",
    "sys.path.append('/g/data/os22/chad_tmp/AusEFlux/src/')\n",
    "from _utils import start_local_dask, round_coords\n",
    "\n",
    "client = start_local_dask(mem_safety_margin='2Gb')\n",
    "client"
   ]
  },
  {
   "cell_type": "code",
   "execution_count": null,
   "id": "781886c8-e1b4-424e-8812-10f4858c6e86",
   "metadata": {},
   "outputs": [],
   "source": [
    "#list of years to run\n",
    "years = [str(i) for i in range(2003, 2023+1)]\n",
    "\n",
    "# Grab a common grid to reproject too and a create a land mask\n",
    "p = '/g/data/os22/chad_tmp/NEE_modelling/data/1km/kNDVI_1km_monthly_2002_2022.nc'\n",
    "gbox = xr.open_dataset(p).odc.geobox\n",
    "\n",
    "#create a mask of aus extent\n",
    "mask = xr.open_dataset(p)['kNDVI'].sel(time=slice('2002','2005'))\n",
    "mask = mask.mean('time')\n",
    "mask = xr.where(mask>-99, 1, 0)"
   ]
  },
  {
   "cell_type": "code",
   "execution_count": null,
   "id": "bdbd01de-8205-4035-a465-e1a1e8cf873c",
   "metadata": {},
   "outputs": [],
   "source": [
    "arrs=[]\n",
    "for year in years:\n",
    "    print(year)    \n",
    "    ozwald_vars = {\n",
    "        'GPP' :'/g/data/ub8/au/OzWALD/8day/GPP/'\n",
    "     }\n",
    "    \n",
    "    for k,i in ozwald_vars.items():\n",
    "        j = i+f'OzWALD.GPP.{year}.nc'\n",
    "        ds = xr.open_dataset(j)\n",
    "        ds = ds.chunk(dict(latitude=1000, longitude=1000, time=-1))\n",
    "        \n",
    "        ds = ds.transpose('time', 'latitude', 'longitude')\n",
    "\n",
    "        #tidy up\n",
    "        ds = assign_crs(ds, crs='epsg:4326')\n",
    "        ds = ds.to_array()\n",
    "        ds = ds.squeeze().drop_vars('variable')\n",
    "        ds.attrs['nodata'] = np.nan\n",
    "        \n",
    "        #resample time\n",
    "        ds = ds.resample(time='MS', loffset=pd.Timedelta(14, 'd')).mean().persist()\n",
    "        ds = ds * ds.time.dt.days_in_month #convert to /month\n",
    "        \n",
    "        # resample spatial\n",
    "        ds = ds.odc.reproject(gbox, resampling='average').compute()\n",
    "        \n",
    "        #tidy up\n",
    "        ds = round_coords(ds)\n",
    "        ds.attrs['nodata'] = np.nan\n",
    "        ds = ds.rename(k)\n",
    "        \n",
    "        #mask to aus land extent\n",
    "        ds = ds.where(mask)\n",
    "        arrs.append(ds)\n"
   ]
  },
  {
   "cell_type": "code",
   "execution_count": null,
   "id": "64d5af50-7073-4991-b635-2edd5c9140e9",
   "metadata": {},
   "outputs": [],
   "source": [
    "dss = xr.concat(arrs, dim='time').sortby('time')"
   ]
  },
  {
   "cell_type": "code",
   "execution_count": null,
   "id": "c40fad74-9d95-4f46-b751-aec2e4c851ee",
   "metadata": {},
   "outputs": [],
   "source": [
    "dss"
   ]
  },
  {
   "cell_type": "code",
   "execution_count": null,
   "id": "e2e06f02-d146-47e3-95e9-3ee5cee6733f",
   "metadata": {},
   "outputs": [],
   "source": [
    "dss.to_netcdf('/g/data/os22/chad_tmp/AusEFlux/data/OzWALD_GPP_1km_2003_2023.nc')"
   ]
  },
  {
   "cell_type": "code",
   "execution_count": null,
   "id": "efb70d97-95b9-4587-98c0-fa4c1063661e",
   "metadata": {},
   "outputs": [],
   "source": [
    "dss.max('time').plot.imshow(size=6, robust=True)"
   ]
  },
  {
   "cell_type": "code",
   "execution_count": null,
   "id": "0fbe50d3-103d-4ca0-88f6-0cf3ce86df41",
   "metadata": {},
   "outputs": [],
   "source": []
  }
 ],
 "metadata": {
  "kernelspec": {
   "display_name": "Python 3 (ipykernel)",
   "language": "python",
   "name": "python3"
  },
  "language_info": {
   "codemirror_mode": {
    "name": "ipython",
    "version": 3
   },
   "file_extension": ".py",
   "mimetype": "text/x-python",
   "name": "python",
   "nbconvert_exporter": "python",
   "pygments_lexer": "ipython3",
   "version": "3.10.0"
  }
 },
 "nbformat": 4,
 "nbformat_minor": 5
}
