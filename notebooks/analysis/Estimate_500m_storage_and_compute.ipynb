{
 "cells": [
  {
   "cell_type": "markdown",
   "id": "1d9ff09c-faac-4ffd-988e-9680c60c7650",
   "metadata": {},
   "source": [
    "## Estimate storage volume of 500m flux predictions\n",
    "\n",
    "Ignoring storage volume of ancillary datasets, models etc."
   ]
  },
  {
   "cell_type": "code",
   "execution_count": 1,
   "id": "f376d0fb-8926-4b78-a686-52de74a60cdb",
   "metadata": {},
   "outputs": [
    {
     "name": "stdout",
     "output_type": "stream",
     "text": [
      "Interim datasets: 0.71 TiB\n"
     ]
    }
   ],
   "source": [
    "interim_input_data = 13*21*2.6/1000\n",
    "print(f'Interim datasets: {interim_input_data:.2f} TiB')"
   ]
  },
  {
   "cell_type": "code",
   "execution_count": 2,
   "id": "b89e7794-719d-46b9-80bd-7766c541a7ff",
   "metadata": {},
   "outputs": [
    {
     "name": "stdout",
     "output_type": "stream",
     "text": [
      "Input data to prediction: 1.43 TiB\n"
     ]
    }
   ],
   "source": [
    "input_data = 28*51.1/1000\n",
    "print(f'Input data to prediction: {input_data:.2f} TiB')"
   ]
  },
  {
   "cell_type": "code",
   "execution_count": 3,
   "id": "dad9e231-b59d-4b2e-929d-7df0b2737bca",
   "metadata": {},
   "outputs": [
    {
     "name": "stdout",
     "output_type": "stream",
     "text": [
      "Ensemble members (temporary): 4.29 TiB\n"
     ]
    }
   ],
   "source": [
    "ensemble_predictions = 51.1*21*4/1000\n",
    "print(f'Ensemble members (temporary): {ensemble_predictions:.2f} TiB')"
   ]
  },
  {
   "cell_type": "code",
   "execution_count": 4,
   "id": "087e955d-b8dd-4771-b189-f1bf39c84489",
   "metadata": {},
   "outputs": [
    {
     "name": "stdout",
     "output_type": "stream",
     "text": [
      "Final fluxes: 0.65 TiB\n"
     ]
    }
   ],
   "source": [
    "final_fluxes = 7.7*21*4/1000\n",
    "print(f'Final fluxes: {final_fluxes:.2f} TiB')"
   ]
  },
  {
   "cell_type": "code",
   "execution_count": 5,
   "id": "41b96156-82f3-45f8-a53f-e21bef63ba69",
   "metadata": {},
   "outputs": [
    {
     "name": "stdout",
     "output_type": "stream",
     "text": [
      "Total storage: 7.08 TiB\n",
      "Total storage after removing ensemble members: 2.79 TiB\n"
     ]
    }
   ],
   "source": [
    "total_storage = interim_input_data+input_data+ensemble_predictions+final_fluxes\n",
    "print(f'Total storage: {total_storage:.2f} TiB')\n",
    "\n",
    "print(f'Total storage after removing ensemble members: {total_storage-ensemble_predictions:.2f} TiB')"
   ]
  }
 ],
 "metadata": {
  "kernelspec": {
   "display_name": "Python 3 (ipykernel)",
   "language": "python",
   "name": "python3"
  },
  "language_info": {
   "codemirror_mode": {
    "name": "ipython",
    "version": 3
   },
   "file_extension": ".py",
   "mimetype": "text/x-python",
   "name": "python",
   "nbconvert_exporter": "python",
   "pygments_lexer": "ipython3",
   "version": "3.10.0"
  }
 },
 "nbformat": 4,
 "nbformat_minor": 5
}
