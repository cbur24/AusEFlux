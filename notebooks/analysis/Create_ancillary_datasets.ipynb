{
 "cells": [
  {
   "cell_type": "markdown",
   "metadata": {},
   "source": [
    "# Create ancillary datasets\n",
    "\n",
    "To support the production of AusEFlux, we need some ancillary static datasets such as:\n",
    "- land-sea mask\n",
    "- urban area and water mask\n",
    "- NDVI of bare soil\n",
    "- Vegetation height\n",
    "\n",
    "All of these datasets need to be at various resolutions to support higher and lower resolution runs of the models. Thus, we need a script that creates these datasets at each of the target resolutions. These are 5km, 1km, and 500m.\n"
   ]
  },
  {
   "cell_type": "code",
   "execution_count": null,
   "metadata": {},
   "outputs": [],
   "source": [
    "import os\n",
    "import pickle\n",
    "import odc.geo\n",
    "import numpy as np\n",
    "import xarray as xr\n",
    "import rioxarray as rxr\n",
    "import matplotlib.pyplot as plt\n",
    "from odc.geo.xr import assign_crs\n",
    "\n",
    "import sys\n",
    "sys.path.append('/g/data/os22/chad_tmp/AusEFlux/src/')\n",
    "from _utils import round_coords\n",
    "\n",
    "import warnings\n",
    "warnings.filterwarnings(\"ignore\")\n",
    "%matplotlib inline"
   ]
  },
  {
   "cell_type": "code",
   "execution_count": null,
   "metadata": {},
   "outputs": [],
   "source": [
    "from datacube.utils.dask import start_local_dask\n",
    "client = start_local_dask(mem_safety_margin='2Gb')\n",
    "client"
   ]
  },
  {
   "cell_type": "markdown",
   "metadata": {},
   "source": [
    "## Open target grid"
   ]
  },
  {
   "cell_type": "code",
   "execution_count": null,
   "metadata": {},
   "outputs": [],
   "source": [
    "target_grid='500m'\n",
    "dask_chunks = dict(latitude=2000, longitude=2000)"
   ]
  },
  {
   "cell_type": "code",
   "execution_count": null,
   "metadata": {},
   "outputs": [],
   "source": [
    "# Grab a common grid to reproject all datasets too \n",
    "gbox_path = f'/g/data/xc0/project/AusEFlux/data/grid_{target_grid}'\n",
    "with open(gbox_path, 'rb') as f:\n",
    "    gbox = pickle.load(f)"
   ]
  },
  {
   "cell_type": "markdown",
   "metadata": {},
   "source": [
    "## Make an urban and water mask\n",
    "\n",
    "Urban is the GUF urban fraction layer\n",
    "\n",
    "Water class comes from NVIS version 6"
   ]
  },
  {
   "cell_type": "code",
   "execution_count": null,
   "metadata": {},
   "outputs": [],
   "source": [
    "urban = assign_crs(xr.open_dataarray('/g/data/ub8/au/LandCover/OzWALD_LC/GUF_FractionUrban_Australia.nc'), crs='EPSG:4326')\n",
    "urban = urban.chunk(dask_chunks)\n",
    "urban = urban.transpose('latitude', 'longitude')\n",
    "urban = urban.odc.reproject(how=gbox, resampling='bilinear').compute()\n",
    "urban = xr.where(urban>10, 1, 0) #greater than 10% urban fraction\n",
    "urban = urban.rename('urban_mask')\n",
    "urban = round_coords(urban)"
   ]
  },
  {
   "cell_type": "code",
   "execution_count": null,
   "metadata": {},
   "outputs": [],
   "source": [
    "ds = rxr.open_rasterio('/g/data/xc0/project/AusEFlux/data/aus6_0e_mvg.tif')\n",
    "ds = ds.chunk(dict(x=250, y=250)).squeeze().drop_vars('band')\n",
    "ds = ds.where(ds<99).astype('float32')\n",
    "ds = assign_crs(ds, crs='EPSG:3577')\n",
    "ds = ds.odc.reproject(how=gbox, resampling='mode')\n",
    "ds = ds.rename('NVISv6')\n",
    "ds = ds.compute()\n",
    "water = xr.where(ds==24,1,0)\n",
    "water = round_coords(water)"
   ]
  },
  {
   "cell_type": "markdown",
   "metadata": {},
   "source": [
    "### Combine urban and water masks"
   ]
  },
  {
   "cell_type": "code",
   "execution_count": null,
   "metadata": {},
   "outputs": [],
   "source": [
    "assert np.sum(urban.latitude == water.latitude) == len(urban.latitude)\n",
    "\n",
    "mask = (urban | water).astype(np.int16)\n",
    "mask = mask.rename('urban_water_mask')\n",
    "\n",
    "#export\n",
    "mask.to_netcdf(f'/g/data/xc0/project/AusEFlux/data/urban_water_mask_{target_grid}.nc')"
   ]
  },
  {
   "cell_type": "code",
   "execution_count": null,
   "metadata": {},
   "outputs": [],
   "source": [
    "mask.odc.explore(\n",
    "            tiles = 'https://server.arcgisonline.com/ArcGIS/rest/services/World_Imagery/MapServer/tile/{z}/{y}/{x}',\n",
    "            attr = 'Esri',\n",
    "            name = 'Esri Satellite')"
   ]
  },
  {
   "cell_type": "markdown",
   "metadata": {},
   "source": [
    "## Land-sea mask\n",
    "\n",
    "Use the current OzWALD GPP for this https://thredds.nci.org.au/thredds/catalog/ub8/au/OzWALD/8day/GPP/catalog.html"
   ]
  },
  {
   "cell_type": "code",
   "execution_count": null,
   "metadata": {},
   "outputs": [],
   "source": [
    "ls = xr.open_dataarray('/g/data/ub8/au/OzWALD/annual/OzWALD.GPP.AnnualMeans.nc', \n",
    "                       chunks=dict(latitude=2000, longitude=2000)).isel(time=12)\n",
    "ls = ls.transpose('latitude', 'longitude').compute()\n",
    "ls = assign_crs(ls, crs='EPSG:4326')"
   ]
  },
  {
   "cell_type": "code",
   "execution_count": null,
   "metadata": {},
   "outputs": [],
   "source": [
    "ls_mask = np.isnan(ls.squeeze().drop_vars('time'))\n",
    "ls_mask = ls_mask.rename(f'landsea_mask_{target_grid}')\n",
    "ls_mask = ~ls_mask\n",
    "ls_mask.attrs = {}"
   ]
  },
  {
   "cell_type": "code",
   "execution_count": null,
   "metadata": {},
   "outputs": [],
   "source": [
    "ls_mask.to_netcdf(f'/g/data/xc0/project/AusEFlux/data/land_sea_mask_{target_grid}.nc')"
   ]
  },
  {
   "cell_type": "code",
   "execution_count": null,
   "metadata": {},
   "outputs": [],
   "source": [
    "# ls_mask.odc.explore(\n",
    "#             tiles = 'https://server.arcgisonline.com/ArcGIS/rest/services/World_Imagery/MapServer/tile/{z}/{y}/{x}',\n",
    "#             attr = 'Esri',\n",
    "#             name = 'Esri Satellite')"
   ]
  },
  {
   "cell_type": "markdown",
   "metadata": {},
   "source": [
    "## Vegetation height\n",
    "\n",
    "https://thredds.nci.org.au/thredds/dodsC/ub8/au/LandCover/OzWALD_LC/VegH_2007-2010_mosaic_AustAlb_25m.nc\n",
    "\n",
    "Don't use dask here as it seems to leave some line artefacts"
   ]
  },
  {
   "cell_type": "code",
   "execution_count": null,
   "metadata": {},
   "outputs": [],
   "source": [
    "%%time\n",
    "vegh = xr.open_dataset('/g/data/ub8/au/LandCover/OzWALD_LC/VegH_2007-2010_mosaic_AustAlb_25m.nc')['VegH'] #chunks=dict(x=1000,y=1000)\n",
    "vegh = vegh.astype('float32')\n",
    "vegh = assign_crs(vegh, crs='EPSG:3577')\n",
    "vegh = vegh.transpose('y','x')\n",
    "print('finished transpose')\n",
    "vegh.attrs['nodata'] = np.nan\n",
    "vegh = vegh.odc.reproject(how=gbox, resampling='bilinear').compute()\n",
    "vegh = vegh.rename('VegH')\n",
    "vegh = round_coords(vegh)"
   ]
  },
  {
   "cell_type": "code",
   "execution_count": null,
   "metadata": {},
   "outputs": [],
   "source": [
    "vegh.to_netcdf(f'/g/data/xc0/project/AusEFlux/data/VegH_{target_grid}_2007_2010.nc')"
   ]
  },
  {
   "cell_type": "code",
   "execution_count": null,
   "metadata": {},
   "outputs": [],
   "source": [
    "# (np.isnan(vegh)).plot.imshow(size=12)"
   ]
  },
  {
   "cell_type": "code",
   "execution_count": null,
   "metadata": {},
   "outputs": [],
   "source": [
    "# vegh.odc.explore(robust=True,\n",
    "#             tiles = 'https://server.arcgisonline.com/ArcGIS/rest/services/World_Imagery/MapServer/tile/{z}/{y}/{x}',\n",
    "#             attr = 'Esri',\n",
    "#             name = 'Esri Satellite')"
   ]
  },
  {
   "cell_type": "markdown",
   "metadata": {},
   "source": [
    "## NDVI of bare soil"
   ]
  },
  {
   "cell_type": "code",
   "execution_count": null,
   "metadata": {},
   "outputs": [],
   "source": [
    "ndvi = xr.open_dataarray('/g/data/xc0/project/AusEFlux/data/NDVI_BG_SLGA_MLR_MODcor_final.tif'\n",
    "                       ,chunks=dict(x=2000,y=2000)).squeeze().drop_vars('band')\n",
    "ndvi = assign_crs(ndvi, crs='EPSG:4326')\n",
    "ndvi.attrs['nodata'] = np.nan\n",
    "ndvi = ndvi.odc.reproject(how=gbox, resampling='bilinear').compute()\n",
    "ndvi = ndvi.rename('NDVI')\n",
    "ndvi = round_coords(ndvi)\n",
    "ndvi = assign_crs(ndvi, crs='EPSG:4326')"
   ]
  },
  {
   "cell_type": "code",
   "execution_count": null,
   "metadata": {},
   "outputs": [],
   "source": [
    "ndvi.latitude"
   ]
  },
  {
   "cell_type": "code",
   "execution_count": null,
   "metadata": {},
   "outputs": [],
   "source": [
    "ndvi.to_netcdf(f'/g/data/xc0/project/AusEFlux/data/ndvi_of_baresoil_{target_grid}.nc')"
   ]
  },
  {
   "cell_type": "code",
   "execution_count": null,
   "metadata": {},
   "outputs": [],
   "source": [
    "# ndvi.odc.explore(robust=True,\n",
    "#             tiles = 'https://server.arcgisonline.com/ArcGIS/rest/services/World_Imagery/MapServer/tile/{z}/{y}/{x}',\n",
    "#             attr = 'Esri',\n",
    "#             name = 'Esri Satellite')"
   ]
  },
  {
   "cell_type": "code",
   "execution_count": null,
   "metadata": {},
   "outputs": [],
   "source": []
  },
  {
   "cell_type": "code",
   "execution_count": null,
   "metadata": {},
   "outputs": [],
   "source": []
  },
  {
   "cell_type": "markdown",
   "metadata": {
    "jp-MarkdownHeadingCollapsed": true
   },
   "source": [
    "## Mask the predictions\n",
    "\n",
    "This is necessary because I had failed to mask water during the production run. Will be redundant on any future run because the urban and water mask is now in the production code."
   ]
  },
  {
   "cell_type": "code",
   "execution_count": null,
   "metadata": {},
   "outputs": [],
   "source": [
    "base = f'/g/data/os22/chad_tmp/AusEFlux/'\n",
    "\n",
    "# ----NEE-------------------------------\n",
    "folder = base+f'results/AusEFlux/NEE/'\n",
    "files = [f'{folder}/{i}' for i in os.listdir(folder) if i.endswith(\".nc\")]\n",
    "files.sort()\n",
    "nee = xr.open_mfdataset(files)\n",
    "nee = assign_crs(nee, crs='EPSG:4326')\n",
    "nee.attrs['nodata'] = np.nan\n",
    "\n",
    "# ----GPP-------------------------------\n",
    "folder = base+f'results/AusEFlux/GPP/'\n",
    "files = [f'{folder}/{i}' for i in os.listdir(folder) if i.endswith(\".nc\")]\n",
    "files.sort()\n",
    "gpp = xr.open_mfdataset(files)\n",
    "gpp = assign_crs(gpp, crs='EPSG:4326')\n",
    "gpp.attrs['nodata'] = np.nan\n",
    "\n",
    "\n",
    "# ----ER-------------------------------\n",
    "folder = base+f'results/AusEFlux/ER/'\n",
    "files = [f'{folder}/{i}' for i in os.listdir(folder) if i.endswith(\".nc\")]\n",
    "files.sort()\n",
    "er = xr.open_mfdataset(files)\n",
    "er = assign_crs(er, crs='EPSG:4326')\n",
    "er.attrs['nodata'] = np.nan\n",
    "\n",
    "# ----ER-------------------------------\n",
    "folder = base+f'results/AusEFlux/ET/'\n",
    "files = [f'{folder}/{i}' for i in os.listdir(folder) if i.endswith(\".nc\")]\n",
    "files.sort()\n",
    "et = xr.open_mfdataset(files)\n",
    "et = assign_crs(et, crs='EPSG:4326')\n",
    "et.attrs['nodata'] = np.nan"
   ]
  },
  {
   "cell_type": "markdown",
   "metadata": {},
   "source": [
    "### Mask"
   ]
  },
  {
   "cell_type": "code",
   "execution_count": null,
   "metadata": {},
   "outputs": [],
   "source": [
    "mask = mask.rename({'y':'latitude','x':'longitude'})\n",
    "\n",
    "nee = nee.where(mask!=1).astype(np.float32)\n",
    "gpp = gpp.where(mask!=1).astype(np.float32)\n",
    "er = er.where(mask!=1).astype(np.float32)\n",
    "et = et.where(mask!=1).astype(np.float32)"
   ]
  },
  {
   "cell_type": "markdown",
   "metadata": {},
   "source": [
    "### export"
   ]
  },
  {
   "cell_type": "code",
   "execution_count": null,
   "metadata": {},
   "outputs": [],
   "source": [
    " #list of years and export\n",
    "years = [str(i) for i in range(2003, 2024)]\n",
    "fluxes = ['GPP', 'ER', 'NEE', 'ET'] \n",
    "dss = [gpp,er,nee,et] \n",
    "\n",
    "for flux,ds in zip(fluxes,dss):\n",
    "    for year in years:\n",
    "        xx = ds.sel(time=year)\n",
    "        print(flux, year)\n",
    "        xx.to_netcdf(f'/g/data/os22/chad_tmp/AusEFlux/results/AusEFlux/{flux}_new/AusEFlux_{flux}_1km_quantiles_{year}_v1.2.nc')"
   ]
  },
  {
   "cell_type": "code",
   "execution_count": null,
   "metadata": {},
   "outputs": [],
   "source": []
  }
 ],
 "metadata": {
  "kernelspec": {
   "display_name": "Python 3 (ipykernel)",
   "language": "python",
   "name": "python3"
  },
  "language_info": {
   "codemirror_mode": {
    "name": "ipython",
    "version": 3
   },
   "file_extension": ".py",
   "mimetype": "text/x-python",
   "name": "python",
   "nbconvert_exporter": "python",
   "pygments_lexer": "ipython3",
   "version": "3.10.0"
  }
 },
 "nbformat": 4,
 "nbformat_minor": 4
}
