{
 "cells": [
  {
   "cell_type": "markdown",
   "id": "df382f48-076d-4b29-a1f3-22900e6424a9",
   "metadata": {},
   "source": [
    "# Fire emissions\n",
    "\n",
    "We need fire emmissions for the plotting of net fluxes. This short notebook extracts and processes GFSASv12 fire emissions (stored in the g/data/ub8 folder) for use with AusEFlux plotting."
   ]
  },
  {
   "cell_type": "code",
   "execution_count": null,
   "id": "c932257d-73bd-414c-a2df-55ddcce9abf7",
   "metadata": {},
   "outputs": [],
   "source": [
    "import xarray as xr\n",
    "import rioxarray as rxr\n",
    "from odc.geo.xr import assign_crs\n",
    "import pandas as pd\n",
    "import numpy as np"
   ]
  },
  {
   "cell_type": "code",
   "execution_count": null,
   "id": "35e24f4c-d7c9-4b70-b40e-1c65ee9c18bb",
   "metadata": {},
   "outputs": [],
   "source": [
    "year_end = 2024"
   ]
  },
  {
   "cell_type": "code",
   "execution_count": null,
   "id": "74b6661e-6b3a-4e38-98a1-b5849af9533d",
   "metadata": {},
   "outputs": [],
   "source": [
    "years = [str(i) for i in range(2003,year_end+1)]\n",
    "\n",
    "i=0\n",
    "p=[]\n",
    "for y in years:\n",
    "    print(\" {:02}/{:02}\\r\".format(i + 1, len(years)), end=\"\")\n",
    "    ds = xr.open_dataset('/g/data/ub8/au/FireEmissions/GFASv12.BurntCarbon.'+y+'.nc').BurntCarbon\n",
    "    if y=='2024':\n",
    "        ds['time'] = pd.date_range(start='1/1/2024', end='31/12/2024', freq='D') #time is wrong on this dataset!\n",
    "    ds = ds.transpose('time', 'latitude', 'longitude') #coordinates are incorrectly ordered\n",
    "    ds = assign_crs(ds, crs='EPSG:4326') # set the right projection\n",
    "    gbox = ds.odc.geobox.to_crs('EPSG:3577')\n",
    "    ds = ds.odc.reproject(how=gbox, resampling='bilinear')\n",
    "    ds = ds * ds.odc.geobox.resolution.x**2 * 1e-15 #convert to a total carbon flux in petagrams\n",
    "    ds= ds.resample(time='MS').sum() #resample daily values to monthly sums\n",
    "    ds['time'] = ds['time'] + pd.Timedelta(14, 'd')\n",
    "    # ds.attrs['units'] = 'PgC'\n",
    "    ds=ds.rename('Fire Emissions (PgC)')\n",
    "    p.append(ds)\n",
    "    i+=1\n",
    "\n",
    "ds = xr.concat(p, dim='time').sortby('time')\n",
    "ds"
   ]
  },
  {
   "cell_type": "code",
   "execution_count": null,
   "id": "33dbce71-6885-4ba9-80a8-f51f564a2276",
   "metadata": {},
   "outputs": [],
   "source": [
    "ds.mean('time').plot(robust=True)"
   ]
  },
  {
   "cell_type": "code",
   "execution_count": null,
   "id": "97343872-64a8-4e8f-8d6f-f106ade9add7",
   "metadata": {},
   "outputs": [],
   "source": [
    "ds.to_netcdf('/g/data/xc0/project/AusEFlux/data/FireEmissions_10km_monthly.nc')"
   ]
  },
  {
   "cell_type": "code",
   "execution_count": null,
   "id": "d0e69878-acab-4e6e-ace3-07074b50e7f2",
   "metadata": {},
   "outputs": [],
   "source": []
  }
 ],
 "metadata": {
  "kernelspec": {
   "display_name": "Python 3 (ipykernel)",
   "language": "python",
   "name": "python3"
  },
  "language_info": {
   "codemirror_mode": {
    "name": "ipython",
    "version": 3
   },
   "file_extension": ".py",
   "mimetype": "text/x-python",
   "name": "python",
   "nbconvert_exporter": "python",
   "pygments_lexer": "ipython3",
   "version": "3.10.0"
  }
 },
 "nbformat": 4,
 "nbformat_minor": 5
}
