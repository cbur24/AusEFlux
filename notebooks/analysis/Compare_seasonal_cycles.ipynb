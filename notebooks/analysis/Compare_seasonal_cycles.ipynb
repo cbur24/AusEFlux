{
 "cells": [
  {
   "cell_type": "markdown",
   "metadata": {},
   "source": [
    "# Compare seasonal cycles\n",
    "\n",
    "We directly model NEE, but let's comapre the seasonal cycle of the modelled NEE versus subtracting ER from GPP."
   ]
  },
  {
   "cell_type": "code",
   "execution_count": null,
   "metadata": {},
   "outputs": [],
   "source": [
    "import os\n",
    "import odc.geo\n",
    "import numpy as np\n",
    "import xarray as xr\n",
    "import pandas as pd\n",
    "import geopandas as gpd\n",
    "import contextily as ctx\n",
    "import matplotlib as mpl\n",
    "from matplotlib.cm import ScalarMappable\n",
    "import matplotlib.pyplot as plt\n",
    "import matplotlib.dates as mdates\n",
    "from odc.geo.xr import assign_crs\n",
    "from matplotlib.colors import ListedColormap\n",
    "\n",
    "import sys\n",
    "sys.path.append('/g/data/os22/chad_tmp/AusEFlux/src/')\n",
    "from _prediction import allNaN_arg\n",
    "from _utils import xr_rasterize\n",
    "\n",
    "import warnings\n",
    "warnings.filterwarnings(\"ignore\")\n",
    "%matplotlib inline"
   ]
  },
  {
   "cell_type": "code",
   "execution_count": null,
   "metadata": {},
   "outputs": [],
   "source": [
    "from datacube.utils.dask import start_local_dask\n",
    "client = start_local_dask(mem_safety_margin='2Gb')\n",
    "client"
   ]
  },
  {
   "cell_type": "markdown",
   "metadata": {},
   "source": [
    "## Analysis Parameters"
   ]
  },
  {
   "cell_type": "code",
   "execution_count": null,
   "metadata": {},
   "outputs": [],
   "source": [
    "var = 'NEE'\n",
    "base = f'/g/data/os22/chad_tmp/AusEFlux/'"
   ]
  },
  {
   "cell_type": "markdown",
   "metadata": {},
   "source": [
    "## Open predictions"
   ]
  },
  {
   "cell_type": "code",
   "execution_count": null,
   "metadata": {},
   "outputs": [],
   "source": [
    "# ----NEE-------------------------------\n",
    "folder = base+f'results/AusEFlux/NEE/'\n",
    "files = [f'{folder}/{i}' for i in os.listdir(folder) if i.endswith(\".nc\")]\n",
    "files.sort()\n",
    "nee = xr.open_mfdataset(files).sel(time=slice('2003','2021'))\n",
    "nee = assign_crs(nee, crs='EPSG:4326')\n",
    "nee.attrs['nodata'] = np.nan\n",
    "# nee = nee[['NEE_median']]\n",
    "\n",
    "# ----GPP-------------------------------\n",
    "folder = base+f'results/AusEFlux/GPP/'\n",
    "files = [f'{folder}/{i}' for i in os.listdir(folder) if i.endswith(\".nc\")]\n",
    "files.sort()\n",
    "gpp = xr.open_mfdataset(files).sel(time=slice('2003','2021'))\n",
    "gpp = assign_crs(gpp, crs='EPSG:4326')\n",
    "gpp.attrs['nodata'] = np.nan\n",
    "gpp = gpp[['GPP_median']]\n",
    "\n",
    "# ----ER-------------------------------\n",
    "folder = base+f'results/AusEFlux/ER/'\n",
    "files = [f'{folder}/{i}' for i in os.listdir(folder) if i.endswith(\".nc\")]\n",
    "files.sort()\n",
    "er = xr.open_mfdataset(files).sel(time=slice('2003','2021'))\n",
    "er = assign_crs(er, crs='EPSG:4326')\n",
    "er.attrs['nodata'] = np.nan\n",
    "er = er[['ER_median']]\n"
   ]
  },
  {
   "cell_type": "markdown",
   "metadata": {},
   "source": [
    "### open fire"
   ]
  },
  {
   "cell_type": "code",
   "execution_count": null,
   "metadata": {},
   "outputs": [],
   "source": [
    "# fire = xr.open_dataarray('/g/data/os22/chad_tmp/NEE_modelling/data/FireEmissions_10km_monthly_2003_2022.nc').sel(time=slice('2003','2021'))\n",
    "# fire = fire.sum(['x', 'y'])\n",
    "# fire = fire*12"
   ]
  },
  {
   "cell_type": "markdown",
   "metadata": {},
   "source": [
    "## Convert to PgC/year\n",
    "\n",
    "Zoom out to 5km resolution to speed things up"
   ]
  },
  {
   "cell_type": "code",
   "execution_count": null,
   "metadata": {},
   "outputs": [],
   "source": [
    "grid = nee.odc.geobox.to_crs('EPSG:3577')\n",
    "grid = grid.zoom_out(factor=5)\n",
    "\n",
    "nee = nee.odc.reproject(how=grid, resampling='bilinear').compute()\n",
    "gpp = gpp.odc.reproject(how=grid, resampling='bilinear').compute()\n",
    "er = er.odc.reproject(how=grid, resampling='bilinear').compute()"
   ]
  },
  {
   "cell_type": "code",
   "execution_count": null,
   "metadata": {},
   "outputs": [],
   "source": [
    "area_per_pixel = nee['NEE_median'].odc.geobox.resolution.x**2\n",
    "\n",
    "nee = nee * area_per_pixel * 1e-15 * 12 # (pgC/year)\n",
    "gpp = gpp * area_per_pixel * 1e-15 * 12 # (pgC/year)\n",
    "er = er * area_per_pixel * 1e-15 * 12 # (pgC/year)"
   ]
  },
  {
   "cell_type": "code",
   "execution_count": null,
   "metadata": {},
   "outputs": [],
   "source": [
    "nee_sub = er['ER_median'] - gpp['GPP_median']\n",
    "nee_sub.name = 'NEE (ER-GPP)'"
   ]
  },
  {
   "cell_type": "markdown",
   "metadata": {},
   "source": [
    "## Plot climatology"
   ]
  },
  {
   "cell_type": "code",
   "execution_count": null,
   "metadata": {},
   "outputs": [],
   "source": [
    "y_nee = nee['NEE_median'].groupby('time.month').mean().sum(['x','y']).values\n",
    "y_upper = nee['NEE_25th_percentile'].groupby('time.month').mean().sum(['x','y']).values\n",
    "y_lower = nee['NEE_75th_percentile'].groupby('time.month').mean().sum(['x','y']).values\n",
    "\n",
    "y_nee_sub = nee_sub.groupby('time.month').mean().sum(['x','y']).values\n",
    "y_gpp = gpp['GPP_median'].groupby('time.month').mean().sum(['x','y']).values\n",
    "y_er = er['ER_median'].groupby('time.month').mean().sum(['x','y']).values\n",
    "\n",
    "x = range(1,13)\n",
    "\n",
    "# ds_fire_1d = nee.mean(['x','y']) + fire\n",
    "# # ds_fire_1d.drop(['spatial_ref']).to_dataframe(name='NEE+fire')\n",
    "# y_fire = ds_fire_1d.groupby('time.month').mean()\n",
    "# fire_clim = fire.groupby('time.month').mean()"
   ]
  },
  {
   "cell_type": "markdown",
   "metadata": {},
   "source": [
    "### Plot NEE"
   ]
  },
  {
   "cell_type": "code",
   "execution_count": null,
   "metadata": {},
   "outputs": [],
   "source": [
    "\n",
    "fig,ax = plt.subplots(1,1, figsize=(7,5))\n",
    "ax.plot(x, y_nee, marker='o', linestyle='--', label='NEE modelled')\n",
    "ax.fill_between(x, y_lower, y_upper, alpha=0.2)\n",
    "ax.axhline(0, c='grey', linestyle='--')\n",
    "ax.plot(x, y_nee_sub, marker='o', linestyle='--', label='NEE (ER-GPP)')\n",
    "# ax.fill_between(x, y_lower+fire_clim, y_upper+fire_clim, alpha=0.2)\n",
    "\n",
    "ax.legend(loc='best')\n",
    "ax.set_xticks(range(1,13))\n",
    "ax.set_xticklabels([\"J\",\"F\",\"M\",\"A\",\"M\",\"J\",\"J\",\"A\",\"S\",\"O\",\"N\",\"D\"]) \n",
    "ax.set_ylabel(var+' PgC yr⁻¹', fontsize=15)\n",
    "ax.grid()\n",
    "plt.savefig(f'{base}results/figs/NEE_modelled_vs_subtracted.png', bbox_inches='tight', dpi=300)"
   ]
  },
  {
   "cell_type": "markdown",
   "metadata": {},
   "source": [
    "## Climatologies per biome"
   ]
  },
  {
   "cell_type": "code",
   "execution_count": null,
   "metadata": {},
   "outputs": [],
   "source": [
    "import warnings\n",
    "warnings.filterwarnings(\"ignore\")\n",
    "\n",
    "er_clim_mean = er.groupby('time.month').mean()\n",
    "gpp_clim_mean = gpp.groupby('time.month').mean()\n",
    "nee_clim_mean = nee.groupby('time.month').mean()\n",
    "nee_sub_clim_mean = nee_sub.groupby('time.month').mean()"
   ]
  },
  {
   "cell_type": "code",
   "execution_count": null,
   "metadata": {},
   "outputs": [],
   "source": [
    "bio = assign_crs(xr.open_dataarray('/g/data/os22/chad_tmp/NEE_modelling/data/bioclimatic_regions.nc'), crs='EPSG:4326')\n",
    "gdf = gpd.read_file('/g/data/os22/chad_tmp/NEE_modelling/data/bioclimatic_regions.geojson')"
   ]
  },
  {
   "cell_type": "code",
   "execution_count": null,
   "metadata": {},
   "outputs": [],
   "source": [
    "def make_mask(xx, index):\n",
    "    mask = bio.odc.reproject(how=xx.odc.geobox, resampling='nearest')\n",
    "    mask = mask.astype(int)\n",
    "    mask['x'] = np.array([round(i,6) for i in mask.x.values])\n",
    "    mask['y'] = np.array([round(i,6) for i in mask.y.values])\n",
    "    mask = xr.where(mask==index, 1, 0)\n",
    "    return mask\n",
    "\n",
    "def round_coords(ds):\n",
    "    ds['x'] = np.array([round(i,6) for i in ds.x.values])\n",
    "    ds['y'] = np.array([round(i,6) for i in ds.y.values])\n",
    "    return ds"
   ]
  },
  {
   "cell_type": "code",
   "execution_count": null,
   "metadata": {},
   "outputs": [],
   "source": [
    "# Dictionary to save results \n",
    "er_results = {}\n",
    "for index, row in gdf.iterrows():\n",
    "    index=index+1\n",
    "    print(row['region_name'])\n",
    "    datasets = {}\n",
    "    \n",
    "    ds_mask = make_mask(er, index)\n",
    "    \n",
    "    dss = round_coords(er_clim_mean).where(ds_mask)\n",
    "        \n",
    "    datasets.update({\n",
    "                'This Study ER':dss,\n",
    "                }\n",
    "               )\n",
    "    # Append results to a dictionary using the attribute\n",
    "    # column as an key\n",
    "    er_results.update({row['region_name']: datasets})"
   ]
  },
  {
   "cell_type": "code",
   "execution_count": null,
   "metadata": {},
   "outputs": [],
   "source": [
    "# Dictionary to save results \n",
    "gpp_results = {}\n",
    "for index, row in gdf.iterrows():\n",
    "    index=index+1\n",
    "    print(row['region_name'])\n",
    "    datasets = {}\n",
    "    \n",
    "    ds_mask = make_mask(gpp, index)\n",
    "    \n",
    "    dss = round_coords(gpp_clim_mean).where(ds_mask)\n",
    "        \n",
    "    datasets.update({\n",
    "                'This Study GPP':dss,\n",
    "                }\n",
    "               )\n",
    "    # Append results to a dictionary using the attribute\n",
    "    # column as an key\n",
    "    gpp_results.update({row['region_name']: datasets})"
   ]
  },
  {
   "cell_type": "code",
   "execution_count": null,
   "metadata": {},
   "outputs": [],
   "source": [
    "# Dictionary to save results \n",
    "nee_results = {}\n",
    "for index, row in gdf.iterrows():\n",
    "    index=index+1\n",
    "    print(row['region_name'])\n",
    "    datasets = {}\n",
    "    \n",
    "    ds_mask = make_mask(nee, index)\n",
    "    \n",
    "    dss = round_coords(nee_clim_mean).where(ds_mask)\n",
    "        \n",
    "    datasets.update({\n",
    "                'This Study NEE' : dss,\n",
    "                }\n",
    "               )\n",
    "    # Append results to a dictionary using the attribute\n",
    "    # column as an key\n",
    "    nee_results.update({row['region_name']: datasets})"
   ]
  },
  {
   "cell_type": "markdown",
   "metadata": {},
   "source": [
    "### Plot"
   ]
  },
  {
   "cell_type": "code",
   "execution_count": null,
   "metadata": {},
   "outputs": [],
   "source": [
    "regions = ['Tropics',\n",
    "'Savanna',\n",
    "'Warm Temperate',\n",
    "'Cool Temperate',\n",
    "'Mediterranean',\n",
    "'Desert']\n",
    "\n",
    "fig, ax = plt.subplots(1,3, figsize=(24,7))\n",
    "for i in regions:\n",
    "    \n",
    "    subtract =  er_results[i]['This Study ER']['ER_median'].sum(['x','y']) - gpp_results[i]['This Study GPP']['GPP_median'].sum(['x','y'])\n",
    "    subtract.plot(label=i, ax=ax[1])\n",
    "    ax[1].legend(fontsize=13)\n",
    "    ax[1].set_title('NEE (ER-GPP) Climatologies', fontsize=16)\n",
    "    ax[1].set_ylabel('')\n",
    "    ax[1].tick_params(axis='y', labelsize=17)\n",
    "    ax[1].set_xlabel('')\n",
    "    ax[1].set_xticks(range(1,13))\n",
    "    ax[1].set_xticklabels([\"J\",\"F\",\"M\",\"A\",\"M\",\"J\",\"J\",\"A\",\"S\",\"O\",\"N\",\"D\"], fontsize=17)\n",
    "    ax[1].axhline(0, c='grey', linestyle='--')\n",
    "    ax[1].set_ylim(-0.425,0.1)\n",
    "\n",
    "for i in regions:\n",
    "    \n",
    "    subtract =  nee_results[i]['This Study NEE']['NEE_median'].sum(['x','y'])\n",
    "    subtract.plot(label=i, ax=ax[2])\n",
    "    ax[2].legend(fontsize=13)\n",
    "    ax[2].set_title('NEE Modelled Climatologies', fontsize=16)\n",
    "    ax[2].set_ylabel('')\n",
    "    ax[2].tick_params(axis='y', labelsize=17)\n",
    "    ax[2].set_xlabel('')\n",
    "    ax[2].set_xticks(range(1,13))\n",
    "    ax[2].set_xticklabels([\"J\",\"F\",\"M\",\"A\",\"M\",\"J\",\"J\",\"A\",\"S\",\"O\",\"N\",\"D\"], fontsize=17)\n",
    "    ax[2].axhline(0, c='grey', linestyle='--')\n",
    "    ax[2].set_ylim(-0.425,0.075)\n",
    "\n",
    "\n",
    "er_results['Savanna']['This Study ER']['ER_median'].sum(['x','y']).plot(ax=ax[0], label='ER-Savanna', c='coral')\n",
    "gpp_results['Savanna']['This Study GPP']['GPP_median'].sum(['x','y']).plot(ax=ax[0], label='GPP-Savanna', c='coral', linestyle='--')\n",
    "\n",
    "er_results['Desert']['This Study ER']['ER_median'].sum(['x','y']).plot(ax=ax[0], label='ER-Desert',c='royalblue' )\n",
    "gpp_results['Desert']['This Study GPP']['GPP_median'].sum(['x','y']).plot(ax=ax[0], label='GPP-Desert',  c='royalblue', linestyle='--')\n",
    "\n",
    "ax[0].legend(fontsize=13)\n",
    "ax[0].set_title('Desert & Savanna Flux Climatologies (modelled)', fontsize=16)\n",
    "ax[0].set_ylabel('PgC/yr', fontsize=20)\n",
    "ax[0].tick_params(axis='y', labelsize=17)\n",
    "ax[0].set_xlabel('')\n",
    "ax[0].set_xticks(range(1,13))\n",
    "ax[0].set_xticklabels([\"J\",\"F\",\"M\",\"A\",\"M\",\"J\",\"J\",\"A\",\"S\",\"O\",\"N\",\"D\"], fontsize=17)\n",
    "ax[0].grid()\n",
    "ax[1].grid()\n",
    "ax[2].grid()\n",
    "plt.tight_layout()\n",
    "\n",
    "plt.savefig(f'{base}results/figs/NEE_modelled_vs_subtracted_biome.png', bbox_inches='tight', dpi=300)  "
   ]
  },
  {
   "cell_type": "code",
   "execution_count": null,
   "metadata": {},
   "outputs": [],
   "source": []
  }
 ],
 "metadata": {
  "kernelspec": {
   "display_name": "Python 3 (ipykernel)",
   "language": "python",
   "name": "python3"
  },
  "language_info": {
   "codemirror_mode": {
    "name": "ipython",
    "version": 3
   },
   "file_extension": ".py",
   "mimetype": "text/x-python",
   "name": "python",
   "nbconvert_exporter": "python",
   "pygments_lexer": "ipython3",
   "version": "3.10.0"
  }
 },
 "nbformat": 4,
 "nbformat_minor": 4
}
