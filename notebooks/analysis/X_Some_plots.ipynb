{
 "cells": [
  {
   "cell_type": "markdown",
   "metadata": {},
   "source": [
    "# Some plots\n",
    "\n",
    "\n"
   ]
  },
  {
   "cell_type": "code",
   "execution_count": null,
   "metadata": {},
   "outputs": [],
   "source": [
    "import os\n",
    "import odc.geo\n",
    "import numpy as np\n",
    "import xarray as xr\n",
    "import pandas as pd\n",
    "import geopandas as gpd\n",
    "import contextily as ctx\n",
    "import matplotlib as mpl\n",
    "from matplotlib.cm import ScalarMappable\n",
    "import matplotlib.pyplot as plt\n",
    "import matplotlib.dates as mdates\n",
    "from odc.geo.xr import assign_crs\n",
    "from matplotlib.colors import ListedColormap\n",
    "\n",
    "import sys\n",
    "sys.path.append('/g/data/os22/chad_tmp/AusEFlux/src/')\n",
    "from _prediction import allNaN_arg\n",
    "from _utils import xr_rasterize\n",
    "\n",
    "import warnings\n",
    "warnings.filterwarnings(\"ignore\")\n",
    "%matplotlib inline"
   ]
  },
  {
   "cell_type": "code",
   "execution_count": null,
   "metadata": {},
   "outputs": [],
   "source": [
    "# from datacube.utils.dask import start_local_dask\n",
    "# client = start_local_dask(mem_safety_margin='2Gb')\n",
    "# client"
   ]
  },
  {
   "cell_type": "markdown",
   "metadata": {},
   "source": [
    "## Analysis Parameters"
   ]
  },
  {
   "cell_type": "code",
   "execution_count": null,
   "metadata": {},
   "outputs": [],
   "source": [
    "var = 'GPP'\n",
    "version='v1.2'\n",
    "base = f'/g/data/os22/chad_tmp/AusEFlux/'"
   ]
  },
  {
   "cell_type": "markdown",
   "metadata": {},
   "source": [
    "### Open predictions"
   ]
  },
  {
   "cell_type": "code",
   "execution_count": null,
   "metadata": {},
   "outputs": [],
   "source": [
    "folder = base+f'results/AusEFlux/{var}/'\n",
    "files = [f'{folder}/{i}' for i in os.listdir(folder) if i.endswith(\".nc\")]\n",
    "files.sort()\n",
    "\n",
    "#combine annual files into one file\n",
    "ds = xr.open_mfdataset(files)\n",
    "ds = assign_crs(ds, crs='EPSG:4326')\n",
    "ds.attrs['nodata'] = np.nan\n",
    "ds = ds.compute()\n",
    "ds"
   ]
  },
  {
   "cell_type": "markdown",
   "metadata": {},
   "source": [
    "## Convert to PgC/year"
   ]
  },
  {
   "cell_type": "code",
   "execution_count": null,
   "metadata": {},
   "outputs": [],
   "source": [
    "grid = ds.odc.geobox.to_crs('EPSG:3577')\n",
    "ds_area = ds.odc.reproject(how=grid, resampling='bilinear')"
   ]
  },
  {
   "cell_type": "code",
   "execution_count": null,
   "metadata": {},
   "outputs": [],
   "source": [
    "area_per_pixel = ds_area[var+'_median'].odc.geobox.resolution.x**2\n",
    "\n",
    "if var != 'ET':\n",
    "    ds_area = ds_area * area_per_pixel * 1e-15 * 12 # (pgC/year)\n",
    "else:\n",
    "    ds_area = ds_area * 12 # (mm/year)"
   ]
  },
  {
   "cell_type": "markdown",
   "metadata": {},
   "source": [
    "## Zonal timeseries\n"
   ]
  },
  {
   "cell_type": "code",
   "execution_count": null,
   "metadata": {},
   "outputs": [],
   "source": [
    "ds_1D = ds_area[var+'_median'].rename(var).sum(['x','y'])\n",
    "upper_1D = ds_area[var+'_25th_percentile'].sum(['x','y'])\n",
    "lower_1D = ds_area[var+'_75th_percentile'].sum(['x','y'])\n",
    "\n",
    "fire = xr.open_dataarray('/g/data/os22/chad_tmp/NEE_modelling/data/FireEmissions_10km_monthly_2003_2022.nc')\n",
    "fire = fire.sum(['x', 'y'])\n",
    "fire = fire*12\n",
    "\n",
    "if var == 'NEE':\n",
    "    ds_fire_1d = ds_1D+fire\n",
    "    ds_fire_1d.drop(['spatial_ref']).to_dataframe(name='NEE+fire')\n",
    "\n",
    "annual_ds = ds_area.resample(time='1Y').sum()\n",
    "annual_fire = fire.resample(time='1Y').sum()\n",
    "\n",
    "print('This long-term mean: ', ds_1D.mean().values)\n",
    "\n",
    "if var=='NEE':\n",
    "    print('This long-term mean + fire: ', ds_fire_1d.mean().values)\n",
    "print('This Study IAV (median model): ', (annual_ds[var+'_median'].sum(['x','y']) / 12).std().values)\n",
    "print('This Study IAV (median model) + FIRE: ',((annual_ds[var+'_median'].sum(['x','y'])+annual_fire)/12).std().values)\n",
    "\n",
    "ds_clim_mean = ds_area[var+'_median'].groupby('time.month').mean()\n",
    "print('Seasonal range of '+var, ds_clim_mean.sum(['x','y']).max().values - ds_clim_mean.sum(['x','y']).min().values)"
   ]
  },
  {
   "cell_type": "code",
   "execution_count": null,
   "metadata": {},
   "outputs": [],
   "source": [
    "df_1d = ds_1D.drop(['spatial_ref']).to_dataframe()\n",
    "\n",
    "with plt.style.context('ggplot'):\n",
    "    fig,ax = plt.subplots(1,2, figsize=(15,4), sharey=True, gridspec_kw={'width_ratios': [5, 1]})\n",
    "    \n",
    "    if var == 'NEE':\n",
    "        df_1d['NEE+fire'] = ds_fire_1d.drop(['spatial_ref']).to_dataframe(name='NEE+fire')\n",
    "    \n",
    "    ds_1D.plot(linestyle='-', ax=ax[0], label=var)\n",
    "    ds_1D.rolling(time=12, min_periods=12).mean().plot(ax=ax[0], label=var+' 12-month rolling mean')\n",
    "    ax[0].fill_between(ds_1D.time, lower_1D, upper_1D, alpha=0.2)\n",
    "    df_1d.boxplot(ax=ax[1], rot=0, grid=False, fontsize=14, showmeans=True, color={'medians': 'blue'}, meanprops={'markerfacecolor': 'blue', 'markeredgecolor':'blue'})\n",
    "    \n",
    "    if var == 'NEE':\n",
    "        \n",
    "        ds_fire_1d.plot(linestyle='--', ax=ax[0], label='NEE+Fire', c='purple', alpha=0.5)\n",
    "        ds_fire_1d.rolling(time=12, min_periods=12).mean().plot(ax=ax[0], label='NEE+fire 12-month rolling mean')\n",
    "        ax[0].axhline(0, c='grey', linestyle='--')\n",
    "        ax[1].axhline(0, c='grey', linestyle='--')\n",
    "        \n",
    "    if var != 'ET':\n",
    "        ax[0].set_ylabel(var+' PgC/year', fontsize=14)\n",
    "    else:\n",
    "        ax[0].set_ylabel(var+' mm/year', fontsize=14)\n",
    "    ax[0].xaxis.set_major_locator(mdates.YearLocator(2))\n",
    "    if var =='ER':\n",
    "        ax[0].set_ylim(1.0, 8.0)\n",
    "    \n",
    "    if var =='NEE':\n",
    "        ax[0].set_ylim(-2.2, 1.0)\n",
    "    ax[0].tick_params(axis='x', labelsize=14)\n",
    "    ax[0].tick_params(axis='y', labelsize=14)\n",
    "    ax[0].set_yticklabels(['{:3.1f}'.format(x) for x in ax[0].get_yticks()])\n",
    "    ax[0].set_xlabel('')\n",
    "    ax[0].set_title('')\n",
    "    ax[0].grid('off', which='major', axis='both', linestyle='--', linewidth=0.75)\n",
    "    ax[1].grid('off', which='major', axis='y', linestyle='--', linewidth=0.75)\n",
    "    ax[0].legend(loc='best', fontsize=14)\n",
    "    plt.tight_layout()\n",
    "    \n",
    "    plt.savefig(f'{base}results/figs/{var}_timeseries_with_boxplot_{version}.png', bbox_inches='tight', dpi=300)"
   ]
  },
  {
   "cell_type": "markdown",
   "metadata": {},
   "source": [
    "### Annual bar graph"
   ]
  },
  {
   "cell_type": "code",
   "execution_count": null,
   "metadata": {},
   "outputs": [],
   "source": [
    "if var =='GPP':\n",
    "    df = ds[var+'_median'].resample(time='1Y').sum().rename('AusEFlux GPP').mean(['latitude','longitude']).drop('spatial_ref').to_dataframe()\n",
    "    df['lower'] = ds[var+'_25th_percentile'].resample(time='1Y').sum().mean(['latitude','longitude']).drop('spatial_ref').to_dataframe()\n",
    "    df['upper'] = ds[var+'_75th_percentile'].resample(time='1Y').sum().mean(['latitude','longitude']).drop('spatial_ref').to_dataframe()\n",
    "    df.index = ds[var+'_median'].resample(time='1Y').sum().time.dt.year.values\n",
    "    \n",
    "    df['OzWald GPP'] = pd.read_csv('/g/data/os22/chad_tmp/AusEFlux/data/National_Vegetation carbon uptake_annual.csv', index_col='Year').rename({'Value':'OzWald'},axis=1)\n",
    "\n",
    "    with plt.style.context('ggplot'):\n",
    "        fig, ax = plt.subplots(1,1, figsize=(12,6))\n",
    "        df[['AusEFlux GPP', 'OzWald GPP']].plot(ax=ax, kind='bar',\n",
    "                                                yerr={'AusEFlux GPP': [df['AusEFlux GPP'] - df['lower'],\n",
    "                                                      df['upper'] - df['AusEFlux GPP']]\n",
    "                                                     })\n",
    "        ax.set_ylabel('GPP gC/m\\N{SUPERSCRIPT TWO}')\n",
    "        plt.savefig(f'{base}results/figs/{var}_annual_barplot_ozwald_{version}.png', bbox_inches='tight', dpi=300)"
   ]
  },
  {
   "cell_type": "markdown",
   "metadata": {},
   "source": [
    "## Annual anomalies"
   ]
  },
  {
   "cell_type": "code",
   "execution_count": null,
   "metadata": {},
   "outputs": [],
   "source": [
    "rain = xr.open_dataset('/g/data/os22/chad_tmp/AusEFlux/data/5km/rain_5km.nc').rain\n",
    "rain = assign_crs(rain, crs='epsg:4326')\n",
    "rain.attrs['nodata'] = np.nan"
   ]
  },
  {
   "cell_type": "code",
   "execution_count": null,
   "metadata": {},
   "outputs": [],
   "source": [
    "import warnings\n",
    "warnings.simplefilter('ignore')\n",
    "\n",
    "#standardized anom\n",
    "def stand_anomalies(ds):\n",
    "    return xr.apply_ufunc(\n",
    "        lambda x, m, s: (x - m) / s,\n",
    "            ds.groupby(\"time.month\"),\n",
    "            ds.sel(time=slice('2003', '2023')).groupby(\"time.month\").mean(),\n",
    "            ds.sel(time=slice('2003', '2023')).groupby(\"time.month\").std()\n",
    "    )\n",
    "\n",
    "rain_std_anom = stand_anomalies(rain)\n",
    "ds_area_std_anom = stand_anomalies(ds_area[var+'_median'])\n",
    "ds_std_anom = stand_anomalies(ds[var+'_median'])"
   ]
  },
  {
   "cell_type": "code",
   "execution_count": null,
   "metadata": {},
   "outputs": [],
   "source": [
    "roll=12"
   ]
  },
  {
   "cell_type": "code",
   "execution_count": null,
   "metadata": {},
   "outputs": [],
   "source": [
    "rain_df = rain_std_anom.rename('rain').rolling(time=roll,\n",
    "                min_periods=roll).mean().mean(['latitude','longitude']).sel(time=slice('2004', '2023')).to_dataframe().drop(['spatial_ref', 'month'], axis=1)\n",
    "\n",
    "# plt.style.use('default')\n",
    "# with plt.style.context('ggplot'):\n",
    "fig, ax = plt.subplots(1,1, figsize=(15,4))\n",
    "ax2 = ax.twinx()\n",
    "\n",
    "ds_area_std_anom.drop('month').rolling(time=roll, min_periods=roll).mean().mean(['x','y']).plot(ax=ax, label='AusEFlux '+var, c='black')\n",
    "\n",
    "norm=plt.Normalize(-2.5,2.5)\n",
    "cmap = mpl.colors.LinearSegmentedColormap.from_list(\"\", ['saddlebrown','chocolate','white','darkturquoise','darkcyan'], N=256)\n",
    "\n",
    "# Plot bars\n",
    "bar = ax2.bar(rain_df.index, 1, color=cmap(norm(rain_df['rain'])), width=32)\n",
    "sm = ScalarMappable(cmap=cmap, norm=norm)\n",
    "sm.set_array([])\n",
    "cbar = plt.colorbar(sm, ax=ax2, shrink=0.8, pad=0.01)\n",
    "cbar.set_label('Rainfall Anomaly (z-score)',labelpad=.5)\n",
    "\n",
    "ax2.set_zorder(ax.get_zorder()-1)\n",
    "ax.set_frame_on(False)\n",
    "ax.axhline(0, c='grey', linestyle='--')\n",
    "\n",
    "# Reformat y-axis label and tick labels\n",
    "ax.set_ylabel(var+' Anomaly (z-score)')\n",
    "ax.set_xlabel('')\n",
    "ax2.set_ylabel('')\n",
    "ax2.set_yticks([])\n",
    "ax2.set_ylim([0, 1]) \n",
    "ax.margins(x=0)\n",
    "ax2.margins(x=0)\n",
    "\n",
    "# Adjust the margins around the plot area\n",
    "plt.subplots_adjust(left=0.1, right=None, top=None, bottom=0.2, wspace=None, hspace=None)\n",
    "\n",
    "ax.legend()\n",
    "ax.set_title(None);\n",
    "fig.savefig(f'{base}results/figs/{var}_anomalies_{roll}M.png',\n",
    "                bbox_inches='tight', dpi=300)"
   ]
  },
  {
   "cell_type": "code",
   "execution_count": null,
   "metadata": {},
   "outputs": [],
   "source": [
    "# ds_std_anom_annual = ds_std_anom.resample(time='1Y').mean()"
   ]
  },
  {
   "cell_type": "code",
   "execution_count": null,
   "metadata": {},
   "outputs": [],
   "source": [
    "# data = [ds_std_anom_annual.drop('spatial_ref').sel(time='2010').squeeze(),\n",
    "#         ds_std_anom_annual.drop('spatial_ref').sel(time='2011').squeeze(),\n",
    "#         ds_std_anom_annual.drop('spatial_ref').sel(time='2022').squeeze(),\n",
    "#         ds_std_anom_annual.drop('spatial_ref').sel(time='2023').squeeze()\n",
    "#        ] \n",
    "# products=['2010','2011','2022','2023'] \n",
    "\n",
    "# fig,axes = plt.subplots(2,2, figsize=(10,10), sharey=True, layout='constrained')\n",
    "\n",
    "# for ax, ds, n in zip(axes.ravel(), data, products):\n",
    "#     im = ds.plot(cmap='RdYlGn', ax=ax, vmin=-2.5, vmax=2.5, add_colorbar=False)   \n",
    "#     ctx.add_basemap(ax, source=ctx.providers.CartoDB.Voyager, crs='EPSG:4326', attribution='', attribution_size=1)\n",
    "#     ax.set_yticklabels([])\n",
    "#     ax.set_xticklabels([])\n",
    "#     ax.set_title(f'{n}', fontsize=12)\n",
    "#     ax.set_ylabel('')\n",
    "#     ax.set_xlabel('')\n",
    "    \n",
    "# # plt.subplots_adjust(wspace=0.075)\n",
    "# cbar = fig.colorbar(im, orientation='horizontal',\n",
    "#                                  ax=axes,\n",
    "#                                  cmap='RdYlGn',\n",
    "#                     label='Annual Mean GPP Anomaly (z-score)',\n",
    "#                     shrink=0.50\n",
    "#                    )\n",
    "# fig.savefig(f'/g/data/os22/chad_tmp/AusEFlux/results/figs/{var}_annual_anomaly.png',\n",
    "#             bbox_inches='tight', dpi=300);"
   ]
  },
  {
   "cell_type": "code",
   "execution_count": null,
   "metadata": {},
   "outputs": [],
   "source": []
  }
 ],
 "metadata": {
  "kernelspec": {
   "display_name": "Python 3 (ipykernel)",
   "language": "python",
   "name": "python3"
  },
  "language_info": {
   "codemirror_mode": {
    "name": "ipython",
    "version": 3
   },
   "file_extension": ".py",
   "mimetype": "text/x-python",
   "name": "python",
   "nbconvert_exporter": "python",
   "pygments_lexer": "ipython3",
   "version": "3.10.0"
  }
 },
 "nbformat": 4,
 "nbformat_minor": 4
}
