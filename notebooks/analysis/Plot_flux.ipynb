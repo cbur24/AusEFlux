{
 "cells": [
  {
   "cell_type": "markdown",
   "metadata": {},
   "source": [
    "# Generate figures summarising carbon and water fluxes"
   ]
  },
  {
   "cell_type": "code",
   "execution_count": null,
   "metadata": {},
   "outputs": [],
   "source": [
    "import os\n",
    "import odc.geo\n",
    "import numpy as np\n",
    "import xarray as xr\n",
    "import pandas as pd\n",
    "import geopandas as gpd\n",
    "import contextily as ctx\n",
    "import matplotlib as mpl\n",
    "from matplotlib.cm import ScalarMappable\n",
    "import matplotlib.pyplot as plt\n",
    "import matplotlib.dates as mdates\n",
    "from odc.geo.xr import assign_crs\n",
    "from matplotlib.colors import ListedColormap\n",
    "\n",
    "import sys\n",
    "sys.path.append('/g/data/os22/chad_tmp/AusEFlux/src/')\n",
    "from _prediction import allNaN_arg\n",
    "from _utils import xr_rasterize\n",
    "\n",
    "import warnings\n",
    "warnings.filterwarnings(\"ignore\")\n",
    "%matplotlib inline"
   ]
  },
  {
   "cell_type": "code",
   "execution_count": null,
   "metadata": {},
   "outputs": [],
   "source": [
    "from datacube.utils.dask import start_local_dask\n",
    "client = start_local_dask(mem_safety_margin='2Gb')\n",
    "client"
   ]
  },
  {
   "cell_type": "markdown",
   "metadata": {},
   "source": [
    "## Analysis Parameters"
   ]
  },
  {
   "cell_type": "code",
   "execution_count": null,
   "metadata": {},
   "outputs": [],
   "source": [
    "var = 'ET'\n",
    "version='v2.1'\n",
    "base = f'/g/data/xc0/project/AusEFlux/'"
   ]
  },
  {
   "cell_type": "markdown",
   "metadata": {},
   "source": [
    "## Open predictions"
   ]
  },
  {
   "cell_type": "code",
   "execution_count": null,
   "metadata": {},
   "outputs": [],
   "source": [
    "if version == 'v1.1':\n",
    "    ds = xr.open_dataset('/g/data/os22/chad_tmp/NEE_modelling/results/predictions/AusEFlux_'+var+'_2003_2022_1km_quantiles_v1.1.nc',\n",
    "                          chunks = dict(time=1)\n",
    "                          )\n",
    "    ds = assign_crs(ds, crs='EPSG:4326').sel(time=slice('2003','2021'))\n",
    "    ds.attrs['nodata'] = np.nan\n",
    "\n",
    "if version == 'v2.1':\n",
    "    folder = f'{base}results/AusEFlux/{version}/{var}/'\n",
    "    files = [f'{folder}/{i}' for i in os.listdir(folder) if i.endswith(\".nc\")]\n",
    "    files.sort()\n",
    "    \n",
    "    #combine annual files into one file\n",
    "    ds = xr.open_mfdataset(files).sel(time=slice('2003','2024'))\n",
    "    ds = assign_crs(ds, crs='EPSG:4326')\n",
    "    ds.attrs['nodata'] = np.nan\n",
    "    # ds = ds.compute()\n",
    "ds"
   ]
  },
  {
   "cell_type": "markdown",
   "metadata": {},
   "source": [
    "## Convert to PgC/year"
   ]
  },
  {
   "cell_type": "code",
   "execution_count": null,
   "metadata": {},
   "outputs": [],
   "source": [
    "#convert to 2km to make it easier to run\n",
    "grid = ds.odc.geobox.zoom_out(4) \n",
    "ds_area = ds.odc.reproject(how=grid.to_crs('EPSG:3577'), resampling='bilinear')\n",
    "ds = ds.odc.reproject(how=grid, resampling='bilinear')"
   ]
  },
  {
   "cell_type": "code",
   "execution_count": null,
   "metadata": {},
   "outputs": [],
   "source": [
    "area_per_pixel = ds_area[var+'_median'].odc.geobox.resolution.x**2\n",
    "\n",
    "if var != 'ET':\n",
    "    ds_area = ds_area * area_per_pixel * 1e-15 * 12 # (pgC/year)\n",
    "else:\n",
    "    ds_area = ds_area * 12 # (mm/year)\n",
    "\n",
    "ds_area = ds_area.compute()\n",
    "ds = ds.compute()"
   ]
  },
  {
   "cell_type": "markdown",
   "metadata": {},
   "source": [
    "## Variability stats\n"
   ]
  },
  {
   "cell_type": "code",
   "execution_count": null,
   "metadata": {},
   "outputs": [],
   "source": [
    "mask_albers = ds_area[var+'_median'].sel(time=slice('2011')).max('time')\n",
    "mask_albers = ~np.isnan(mask_albers.where(mask_albers==0))\n",
    "mask_albers = ~mask_albers\n",
    "\n",
    "ds_area = ds_area.where(mask_albers)"
   ]
  },
  {
   "cell_type": "code",
   "execution_count": null,
   "metadata": {},
   "outputs": [],
   "source": [
    "# ds['GPP_median'].mean('time').odc.explore(robust=True,\n",
    "#             # tiles = 'https://server.arcgisonline.com/ArcGIS/rest/services/World_Imagery/MapServer/tile/{z}/{y}/{x}',\n",
    "#             # attr = 'Esri',\n",
    "#             # name = 'Esri Satellite'\n",
    "#                                           )"
   ]
  },
  {
   "cell_type": "code",
   "execution_count": null,
   "metadata": {},
   "outputs": [],
   "source": [
    "if var == 'ET':\n",
    "    ds_1D = ds_area[var+'_median'].rename(var).mean(['x','y'])\n",
    "    upper_1D = ds_area[var+'_25th_percentile'].mean(['x','y'])\n",
    "    lower_1D = ds_area[var+'_75th_percentile'].mean(['x','y'])\n",
    "else:\n",
    "    ds_1D = ds_area[var+'_median'].rename(var).sum(['x','y'])\n",
    "    upper_1D = ds_area[var+'_25th_percentile'].sum(['x','y'])\n",
    "    lower_1D = ds_area[var+'_75th_percentile'].sum(['x','y'])\n",
    "\n",
    "fire = xr.open_dataarray('/g/data/xc0/project/AusEFlux/data/FireEmissions_10km_monthly.nc')\n",
    "fire = fire.sum(['x', 'y'])\n",
    "fire = fire*12\n",
    "\n",
    "if var == 'NEE':\n",
    "    ds_fire_1d = ds_1D+fire\n",
    "    ds_fire_1d = ds_fire_1d.drop(['spatial_ref']).to_dataframe(name='NEE+fire')\n",
    "\n",
    "annual_ds = ds_area.resample(time='1Y').sum()\n",
    "annual_ds = annual_ds.where(mask_albers)\n",
    "annual_fire = fire.resample(time='1Y').sum()\n",
    "\n",
    "print('This long-term mean: ', ds_1D.mean().values)\n",
    "\n",
    "if var=='NEE':\n",
    "    print('This long-term mean + fire: ', ds_fire_1d.mean().values.item())\n",
    "\n",
    "print('This Study IAV (median model): ', (annual_ds[var+'_median'].sum(['x','y']) / 12).std().values)\n",
    "print('This Study IAV (median model) + FIRE: ',((annual_ds[var+'_median'].sum(['x','y'])+annual_fire)/12).std().values)\n",
    "\n",
    "ds_clim_mean = ds_area[var+'_median'].groupby('time.month').mean()\n",
    "ds_clim_mean = ds_clim_mean.where(mask_albers)\n",
    "print('Seasonal range of '+var, ds_clim_mean.sum(['x','y']).max().values - ds_clim_mean.sum(['x','y']).min().values)\n",
    "\n",
    "if var=='NEE':\n",
    "    ds_clim_fire_mean = ds_fire_1d.to_xarray().groupby('time.month').mean()\n",
    "    print('Seasonal range of fire+'+var, ds_clim_fire_mean['NEE+fire'].max().values.item() - ds_clim_fire_mean['NEE+fire'].min().values.item())"
   ]
  },
  {
   "cell_type": "code",
   "execution_count": null,
   "metadata": {},
   "outputs": [],
   "source": [
    "# print('Seasonal range of fire+'+var, ds_clim_fire_mean['NEE+fire'].max().values - ds_clim_fire_mean['NEE+fire'].min().values)"
   ]
  },
  {
   "cell_type": "markdown",
   "metadata": {},
   "source": [
    "## Zonal timeseries"
   ]
  },
  {
   "cell_type": "code",
   "execution_count": null,
   "metadata": {},
   "outputs": [],
   "source": [
    "df_1d = ds_1D.drop(['spatial_ref']).to_dataframe()\n",
    "\n",
    "with plt.style.context('ggplot'):\n",
    "    fig,ax = plt.subplots(1,2, figsize=(15,4), sharey=True, gridspec_kw={'width_ratios': [5, 1]})\n",
    "    \n",
    "    if var == 'NEE':\n",
    "        df_1d['NEE+fire'] = ds_fire_1d\n",
    "    \n",
    "    ds_1D.plot(linestyle='-', ax=ax[0], label=var)\n",
    "    ds_1D.rolling(time=12, min_periods=12).mean().plot(ax=ax[0], label=var+' 12-month rolling mean')\n",
    "    ax[0].fill_between(ds_1D.time, lower_1D, upper_1D, alpha=0.2)\n",
    "    df_1d.boxplot(ax=ax[1], rot=0, grid=False, fontsize=14, showmeans=True, color={'medians': 'blue'}, meanprops={'markerfacecolor': 'blue', 'markeredgecolor':'blue'})\n",
    "    \n",
    "    if var == 'NEE':\n",
    "        \n",
    "        ds_fire_1d.plot(linestyle='--', ax=ax[0], label='NEE+Fire', c='purple', alpha=0.5)\n",
    "        ds_fire_1d.to_xarray().rolling(time=12, min_periods=12).mean()['NEE+fire'].plot(ax=ax[0], label='NEE+fire 12-month rolling mean')\n",
    "        ax[0].axhline(0, c='grey', linestyle='--')\n",
    "        ax[1].axhline(0, c='grey', linestyle='--')\n",
    "        \n",
    "    if var != 'ET':\n",
    "        ax[0].set_ylabel(var+' PgC/year', fontsize=14)\n",
    "    else:\n",
    "        ax[0].set_ylabel(var+' mm/year', fontsize=14)\n",
    "    ax[0].xaxis.set_major_locator(mdates.YearLocator(2))\n",
    "    \n",
    "    if var =='ER':\n",
    "        ax[0].set_ylim(1.0, 7.0)\n",
    "    \n",
    "    if var =='NEE':\n",
    "        ax[0].set_ylim(-2.2, 1.2)\n",
    "    ax[0].tick_params(axis='x', labelsize=14)\n",
    "    ax[0].tick_params(axis='y', labelsize=14)\n",
    "    # ax[0].set_yticklabels(['{:3.1f}'.format(x) for x in ax[0].get_yticks()])\n",
    "    ax[0].set_xlabel('')\n",
    "    ax[0].set_title('')\n",
    "    ax[0].grid('off', which='major', axis='both', linestyle='--', linewidth=0.75)\n",
    "    ax[1].grid('off', which='major', axis='y', linestyle='--', linewidth=0.75)\n",
    "    ax[0].legend(loc='best', fontsize=14)\n",
    "    plt.tight_layout()\n",
    "    \n",
    "    plt.savefig(f'{base}results/figs/{var}_timeseries_with_boxplot_{version}.png', bbox_inches='tight', dpi=300)"
   ]
  },
  {
   "cell_type": "markdown",
   "metadata": {},
   "source": [
    "### Annual bar graph"
   ]
  },
  {
   "cell_type": "code",
   "execution_count": null,
   "metadata": {},
   "outputs": [],
   "source": [
    "# if var =='GPP':\n",
    "#     df = ds[var+'_median'].resample(time='1Y').sum().rename('AusEFlux GPP').mean(['latitude','longitude']).drop('spatial_ref').to_dataframe()\n",
    "#     df['lower'] = ds[var+'_25th_percentile'].resample(time='1Y').sum().mean(['latitude','longitude']).drop('spatial_ref').to_dataframe()\n",
    "#     df['upper'] = ds[var+'_75th_percentile'].resample(time='1Y').sum().mean(['latitude','longitude']).drop('spatial_ref').to_dataframe()\n",
    "#     df.index = ds[var+'_median'].resample(time='1Y').sum().time.dt.year.values\n",
    "    \n",
    "#     df['OzWald GPP'] = pd.read_csv('/g/data/os22/chad_tmp/AusEFlux/data/National_Vegetation carbon uptake_annual.csv', index_col='Year').rename({'Value':'OzWald'},axis=1)\n",
    "\n",
    "#     with plt.style.context('ggplot'):\n",
    "#         fig, ax = plt.subplots(1,1, figsize=(14,5))\n",
    "#         df[['AusEFlux GPP', 'OzWald GPP']].plot(ax=ax, kind='bar',\n",
    "#                                                 yerr={'AusEFlux GPP': [df['AusEFlux GPP'] - df['lower'],\n",
    "#                                                       df['upper'] - df['AusEFlux GPP']]\n",
    "#                                                      })\n",
    "#         ax.set_ylabel('GPP gC/m\\N{SUPERSCRIPT TWO}')\n",
    "#         plt.savefig(f'{base}results/figs/{var}_annual_barplot_ozwald_{version}.png', bbox_inches='tight', dpi=300)"
   ]
  },
  {
   "cell_type": "markdown",
   "metadata": {},
   "source": [
    "## Annual anomalies"
   ]
  },
  {
   "cell_type": "code",
   "execution_count": null,
   "metadata": {},
   "outputs": [],
   "source": [
    "# rain = xr.open_dataset('/scratch/xc0/chad/1km/rain_1km.nc').rain\n",
    "# rain = assign_crs(rain, crs='epsg:4326')\n",
    "# rain.attrs['nodata'] = np.nan\n",
    "\n",
    "folder = f'{base}data/interim_500m/rain'\n",
    "files = [f'{folder}/{i}' for i in os.listdir(folder) if i.endswith(\".nc\")]\n",
    "files.sort()\n",
    "rain = xr.open_mfdataset(files).sel(time=slice('2003','2024'))\n",
    "rain = assign_crs(rain, crs='EPSG:4326')\n",
    "rain = rain['rain']\n",
    "rain.attrs['nodata'] = np.nan\n",
    "rain = rain.odc.reproject(how=grid, resampling='average').compute()\n",
    "rain.name = 'rain'"
   ]
  },
  {
   "cell_type": "code",
   "execution_count": null,
   "metadata": {},
   "outputs": [],
   "source": [
    "import warnings\n",
    "warnings.simplefilter('ignore')\n",
    "\n",
    "#standardized anom\n",
    "def stand_anomalies(ds):\n",
    "    return xr.apply_ufunc(\n",
    "        lambda x, m, s: (x - m) / s,\n",
    "            ds.groupby(\"time.month\"),\n",
    "            ds.sel(time=slice('2003', '2024')).groupby(\"time.month\").mean(),\n",
    "            ds.sel(time=slice('2003', '2024')).groupby(\"time.month\").std()\n",
    "    )\n",
    "\n",
    "rain_std_anom = stand_anomalies(rain)\n",
    "ds_area_std_anom = stand_anomalies(ds_area[var+'_median'])\n",
    "#incase any infs sneak in\n",
    "ds_area_std_anom = xr.where(np.isinf(ds_area_std_anom), np.nan, ds_area_std_anom)"
   ]
  },
  {
   "cell_type": "code",
   "execution_count": null,
   "metadata": {},
   "outputs": [],
   "source": [
    "roll=12"
   ]
  },
  {
   "cell_type": "code",
   "execution_count": null,
   "metadata": {},
   "outputs": [],
   "source": [
    "rain_df = rain_std_anom.rename('rain').rolling(time=roll,\n",
    "                min_periods=roll).mean().mean(['latitude', 'longitude']).sel(time=slice('2004', '2024')).to_dataframe().drop(['spatial_ref', 'month'], axis=1)\n",
    "\n",
    "# plt.style.use('default')\n",
    "# with plt.style.context('ggplot'):\n",
    "fig, ax = plt.subplots(1,1, figsize=(15,4))\n",
    "ax2 = ax.twinx()\n",
    "\n",
    "ds_area_std_anom.drop('month').rolling(time=roll, min_periods=roll).mean().mean(['x','y']).plot(ax=ax, label='AusEFlux '+var, c='black')\n",
    "\n",
    "norm=plt.Normalize(-2.5,2.5)\n",
    "cmap = mpl.colors.LinearSegmentedColormap.from_list(\"\", ['saddlebrown','chocolate','white','darkturquoise','darkcyan'], N=256)\n",
    "\n",
    "# Plot bars\n",
    "bar = ax2.bar(rain_df.index, 1, color=cmap(norm(rain_df['rain'])), width=32)\n",
    "sm = ScalarMappable(cmap=cmap, norm=norm)\n",
    "sm.set_array([])\n",
    "cbar = plt.colorbar(sm, ax=ax2, shrink=0.8, pad=0.01)\n",
    "cbar.set_label('Rainfall Anomaly (z-score)',labelpad=.5)\n",
    "\n",
    "ax2.set_zorder(ax.get_zorder()-1)\n",
    "ax.set_frame_on(False)\n",
    "ax.axhline(0, c='grey', linestyle='--')\n",
    "\n",
    "# Reformat y-axis label and tick labels\n",
    "ax.set_ylabel(var+' Anomaly (z-score)')\n",
    "ax.set_xlabel('')\n",
    "ax2.set_ylabel('')\n",
    "ax2.set_yticks([])\n",
    "ax2.set_ylim([0, 1]) \n",
    "ax.margins(x=0)\n",
    "ax2.margins(x=0)\n",
    "\n",
    "# Adjust the margins around the plot area\n",
    "plt.subplots_adjust(left=0.1, right=None, top=None, bottom=0.2, wspace=None, hspace=None)\n",
    "\n",
    "ax.legend()\n",
    "ax.set_title(None);\n",
    "fig.savefig(f'{base}results/figs/{var}_anomalies_{roll}M.png',\n",
    "                bbox_inches='tight', dpi=300)"
   ]
  },
  {
   "cell_type": "markdown",
   "metadata": {},
   "source": [
    "## Per pixel summaries"
   ]
  },
  {
   "cell_type": "code",
   "execution_count": null,
   "metadata": {},
   "outputs": [],
   "source": [
    "annual_mean = ds[var+'_median'].resample(time='1Y').sum().mean('time')\n",
    "annual_std = ds[var+'_median'].resample(time='1Y').sum().std('time')\n",
    "\n",
    "scaled_variance = annual_std / annual_mean"
   ]
  },
  {
   "cell_type": "code",
   "execution_count": null,
   "metadata": {},
   "outputs": [],
   "source": [
    "monthly_mean = ds[var+'_median'].groupby('time.month').mean()\n",
    "\n",
    "if var == 'NEE':\n",
    "    max_mean_month = allNaN_arg(monthly_mean, 'month', 'min')\n",
    "else:\n",
    "    max_mean_month = allNaN_arg(monthly_mean, 'month', 'max')"
   ]
  },
  {
   "cell_type": "code",
   "execution_count": null,
   "metadata": {},
   "outputs": [],
   "source": [
    "fig,ax = plt.subplots(1,3, figsize=(18,7), sharey=True)\n",
    "font=20\n",
    "\n",
    "if var == 'NEE':\n",
    "    units=' gC m\\N{SUPERSCRIPT TWO} yr⁻¹'\n",
    "    im = annual_mean.rename(var+' gC m\\N{SUPERSCRIPT TWO} yr⁻¹').where(annual_mean!=0).plot(ax=ax[0], cmap='Spectral_r',vmin=-300, vmax=300,add_colorbar=False, add_labels=False)\n",
    "    cbar = plt.colorbar(im, location='bottom', pad=0.025, ax=ax[0])\n",
    "    cbar.set_label(label=var+' gC m\\N{SUPERSCRIPT TWO} yr⁻¹', size=15, weight='bold')\n",
    "    cbar.ax.tick_params(labelsize=15)\n",
    "    ctx.add_basemap(ax[0], source=ctx.providers.CartoDB.Voyager, crs='EPSG:4326', attribution='', attribution_size=1)\n",
    "    # cbar.formatter.set_powerlimits((0, 0))\n",
    "else:\n",
    "    if var=='ET':\n",
    "        units=' mm m\\N{SUPERSCRIPT TWO} yr⁻¹'\n",
    "        vmax=1000\n",
    "    else:\n",
    "        units=' gC m\\N{SUPERSCRIPT TWO} yr⁻¹'\n",
    "        vmax=2250\n",
    "    im = annual_mean.rename(var+units).where(annual_mean!=0).plot(ax=ax[0], cmap='viridis', vmin=0, vmax=vmax, add_colorbar=False, add_labels=False)\n",
    "    ctx.add_basemap(ax[0], source=ctx.providers.CartoDB.Voyager, crs='EPSG:4326', attribution='', attribution_size=1)\n",
    "    cbar = plt.colorbar(im, location='bottom', pad=0.025, ax=ax[0])\n",
    "    cbar.set_label(label=var+units, size=15, weight='bold')\n",
    "    cbar.ax.tick_params(labelsize=15)\n",
    "    \n",
    "if var=='NEE':\n",
    "    im1 = annual_std.rename('').where(annual_mean!=0).plot(ax=ax[1], cmap='magma',vmin=0, vmax=130, add_colorbar=False, add_labels=False)\n",
    "    ctx.add_basemap(ax[1], source=ctx.providers.CartoDB.Voyager, crs='EPSG:4326', attribution='', attribution_size=1)\n",
    "\n",
    "else:\n",
    "    if var=='ET':\n",
    "        vmax=175\n",
    "    else:\n",
    "        vmax=250\n",
    "    im1 = annual_std.rename('').where(annual_mean!=0).plot(ax=ax[1], cmap='magma',vmin=0, vmax=vmax, add_colorbar=False, add_labels=False)\n",
    "    ctx.add_basemap(ax[1], source=ctx.providers.CartoDB.Voyager, crs='EPSG:4326', attribution='', attribution_size=1)\n",
    "\n",
    "cbar1 = plt.colorbar(im1, location='bottom', pad=0.025, ax=ax[1])\n",
    "cbar1.set_label(label=var+units, size=15, weight='bold')\n",
    "cbar1.ax.tick_params(labelsize=15)\n",
    "\n",
    "im2 = max_mean_month.plot(vmin=1, vmax=12, ax=ax[2], cmap='twilight', add_colorbar=False, add_labels=False)\n",
    "ctx.add_basemap(ax[2], source=ctx.providers.CartoDB.Voyager, crs='EPSG:4326', attribution='', attribution_size=1)\n",
    "cbar2 = plt.colorbar(im2, spacing='uniform', ax=ax[2], location='bottom', pad=0.025)\n",
    "cbar2.set_ticks([1,2,3,4,5,6,7,8,9,10,11,12])\n",
    "cbar2.set_ticklabels([\"J\",\"F\",\"M\",\"A\",\"M\",\"J\",\"J\",\"A\",\"S\",\"O\",\"N\",\"D\"], fontsize=15)\n",
    "cbar2.set_label(label=var+' Month of Max.', size=15, weight='bold')\n",
    "\n",
    "ax[0].set_yticklabels([])\n",
    "ax[0].set_ylabel('')\n",
    "ax[0].set_xlabel('')\n",
    "ax[0].set_xticklabels([])\n",
    "ax[1].set_yticklabels([])\n",
    "ax[1].set_xticklabels([])\n",
    "ax[2].set_yticklabels([])\n",
    "ax[2].set_xticklabels([])\n",
    "\n",
    "ax[0].set_title('Annual Mean of '+var,fontsize=font)\n",
    "ax[1].set_title('Std.Dev. in Annual Mean '+var, fontsize=font)\n",
    "\n",
    "if var=='NEE':\n",
    "    ax[2].set_title('Month of Maximum Carbon Uptake', fontsize=font);\n",
    "else:\n",
    "    ax[2].set_title('Month of Maximum '+var, fontsize=font);\n",
    "    \n",
    "plt.tight_layout();\n",
    "\n",
    "plt.savefig(f'{base}results/figs/{var}_perpixel_summaries_{version}.png', bbox_inches='tight', dpi=300)"
   ]
  },
  {
   "cell_type": "markdown",
   "metadata": {},
   "source": [
    "## Plot climatology"
   ]
  },
  {
   "cell_type": "code",
   "execution_count": null,
   "metadata": {},
   "outputs": [],
   "source": [
    "if var=='ET':\n",
    "    y = ds_area[var+'_median'].groupby('time.month').mean().mean(['x','y']).values\n",
    "    y_upper = ds_area[var+'_25th_percentile'].groupby('time.month').mean().mean(['x','y']).values\n",
    "    y_lower = ds_area[var+'_75th_percentile'].groupby('time.month').mean().mean(['x','y']).values\n",
    "    x = monthly_mean.month.values\n",
    "    \n",
    "else:\n",
    "    y = ds_area[var+'_median'].groupby('time.month').mean().sum(['x','y']).values\n",
    "    y_upper = ds_area[var+'_25th_percentile'].groupby('time.month').mean().sum(['x','y']).values\n",
    "    y_lower = ds_area[var+'_75th_percentile'].groupby('time.month').mean().sum(['x','y']).values\n",
    "    x = monthly_mean.month.values\n",
    "\n",
    "if var=='NEE':\n",
    "    y_fire = ds_fire_1d.to_xarray().groupby('time.month').mean()\n",
    "    fire_clim = fire.groupby('time.month').mean()"
   ]
  },
  {
   "cell_type": "code",
   "execution_count": null,
   "metadata": {},
   "outputs": [],
   "source": [
    "with plt.style.context('ggplot'):\n",
    "    fig,ax = plt.subplots(1,1, figsize=(7,5))\n",
    "    ax.plot(x, y, marker='o', linestyle='--', label=var+' median')\n",
    "    ax.fill_between(x, y_lower, y_upper, alpha=0.2)\n",
    "\n",
    "    if var=='NEE':\n",
    "        ax.axhline(0, c='grey', linestyle='--')\n",
    "        ax.plot(x, y_fire['NEE+fire'], marker='o', linestyle='--', label='NEE median + fire')\n",
    "        ax.fill_between(x, y_lower+fire_clim, y_upper+fire_clim, alpha=0.2)\n",
    "\n",
    "    ax.legend(loc='best')\n",
    "    ax.set_xticks(range(1,13))\n",
    "    ax.set_xticklabels([\"J\",\"F\",\"M\",\"A\",\"M\",\"J\",\"J\",\"A\",\"S\",\"O\",\"N\",\"D\"]) \n",
    "    \n",
    "    if var=='ET':\n",
    "        ax.set_ylabel(var+' mm yr⁻¹', fontsize=15)\n",
    "    else:\n",
    "        ax.set_ylabel(var+' PgC yr⁻¹', fontsize=15)\n",
    "\n",
    "plt.savefig(f'{base}results/figs/{var}_climatology_{version}.png', bbox_inches='tight', dpi=300)"
   ]
  },
  {
   "cell_type": "code",
   "execution_count": null,
   "metadata": {},
   "outputs": [],
   "source": []
  }
 ],
 "metadata": {
  "kernelspec": {
   "display_name": "Python 3 (ipykernel)",
   "language": "python",
   "name": "python3"
  },
  "language_info": {
   "codemirror_mode": {
    "name": "ipython",
    "version": 3
   },
   "file_extension": ".py",
   "mimetype": "text/x-python",
   "name": "python",
   "nbconvert_exporter": "python",
   "pygments_lexer": "ipython3",
   "version": "3.10.0"
  }
 },
 "nbformat": 4,
 "nbformat_minor": 4
}
