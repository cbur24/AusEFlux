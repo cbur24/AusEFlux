{
 "cells": [
  {
   "cell_type": "markdown",
   "id": "956c5625-fef0-4ac6-93e2-7765da58213f",
   "metadata": {},
   "source": [
    "# Shifting AusEFlux\n",
    "\n",
    "Move results into `ub8` and prepare them for publishing through OpenDAP\n",
    "\n",
    "Entire the version below and the code will do the rest"
   ]
  },
  {
   "cell_type": "code",
   "execution_count": null,
   "id": "a60c230b-bd3b-403b-9186-f5c1f8d84320",
   "metadata": {},
   "outputs": [],
   "source": [
    "import os\n",
    "import xarray as xr\n",
    "import numpy as np\n",
    "from odc.geo.xr import assign_crs"
   ]
  },
  {
   "cell_type": "markdown",
   "id": "9fce9357-bf88-4a75-8c70-8fd91e7fbcf8",
   "metadata": {},
   "source": [
    "## Parameters"
   ]
  },
  {
   "cell_type": "code",
   "execution_count": null,
   "id": "15be5645-7342-447d-91af-b58bdd5dad25",
   "metadata": {},
   "outputs": [],
   "source": [
    "version='v1.2'\n",
    "\n",
    "fluxes = {\n",
    "    'GPP':'Gross Primary Productivity',\n",
    "    'NEE':'Net Ecosystem Exchange',\n",
    "    'ER':'Ecosystem Respiration',\n",
    "    'ET':'Evapotranspiration'\n",
    "         }\n"
   ]
  },
  {
   "cell_type": "markdown",
   "id": "b01bd1da-3710-436a-8214-4bc4ebbd56d1",
   "metadata": {},
   "source": [
    "## Open data"
   ]
  },
  {
   "cell_type": "code",
   "execution_count": null,
   "id": "50b2643f-e56e-48d2-a218-aa2be40caf88",
   "metadata": {},
   "outputs": [],
   "source": [
    "for var in list(fluxes.keys()):\n",
    "    print(var)\n",
    "    if version == 'v1.1':\n",
    "        path = f'/g/data/os22/chad_tmp/NEE_modelling/results/predictions/AusEFlux_{var}_2003_2022_1km_quantiles_v1.1.nc'\n",
    "        ds = xr.open_dataset(path)\n",
    "        ds = assign_crs(ds, crs='EPSG:4326')\n",
    "        \n",
    "    if version == 'v1.2':\n",
    "        folder = f'/g/data/xc0/project/AusEFlux/results/AusEFlux/{var}/'\n",
    "        files = [f'{folder}/{i}' for i in os.listdir(folder) if i.endswith(\".nc\")]\n",
    "        files.sort()\n",
    "        \n",
    "        #combine annual files into one file\n",
    "        ds = xr.open_mfdataset(files).sel(time=slice('2003','2023'))\n",
    "        ds = assign_crs(ds, crs='EPSG:4326')\n",
    "    \n",
    "    if var =='ET':\n",
    "        units = 'mm/month'\n",
    "    else:\n",
    "        units = 'gC/m\\N{SUPERSCRIPT TWO}/month'\n",
    "        \n",
    "    description = f'AusEFlux {var} is created by empirically upscaling the OzFlux eddy covariance network using machine learning methods coupled with climate and remote sensing datasets. The estimates provided within this dataset were extracted from an ensemble of predictions and represent the median and uncertainty range.'\n",
    "    \n",
    "    # Create attributes dictionary\n",
    "    attrs_dict={}\n",
    "    attrs_dict['nodata'] = np.nan\n",
    "    attrs_dict['crs'] = 'EPSG:4326'\n",
    "    attrs_dict['short_name'] = var\n",
    "    attrs_dict['long_name'] = fluxes[var]\n",
    "    attrs_dict['units'] = units\n",
    "    if version=='v1.1':\n",
    "        attrs_dict['version'] = 'v1.1'\n",
    "    else:\n",
    "        attrs_dict['version'] = 'v2.0'\n",
    "    attrs_dict['description'] = description\n",
    "    \n",
    "    ds.attrs = attrs_dict\n",
    "    \n",
    "    for v in ds.data_vars:\n",
    "        del ds[v].attrs['grid_mapping'] #remove this attr\n",
    "    \n",
    "    if version=='v1.2':# changing versioning to \"v2\"\n",
    "        export=f'/g/data/ub8/au/AusEFlux/v2/'\n",
    "    \n",
    "    else:\n",
    "        export=f'/g/data/ub8/au/AusEFlux/v1/'\n",
    "    \n",
    "    #list of years and export\n",
    "    if version=='v1.1':\n",
    "        ye=2021\n",
    "    else:\n",
    "        ye=2023\n",
    "    \n",
    "    years = [str(i) for i in range(2003, ye+1)]\n",
    "    \n",
    "    for year in years:\n",
    "        print('', year)\n",
    "        xx = ds.sel(time=year)\n",
    "        \n",
    "        #annual summaries\n",
    "        xx_mean = xx.resample(time='YE').mean()\n",
    "        xx_sum = xx.resample(time='YE').sum()\n",
    "    \n",
    "        mask = ~np.isnan(xx_mean[var+'_median'])\n",
    "        xx_sum = xx_sum.where(mask).astype(np.float32)\n",
    "    \n",
    "        #update units for annual sums\n",
    "        if var =='ET':\n",
    "            units = 'mm/year'\n",
    "        else:\n",
    "            units = 'gC/m\\N{SUPERSCRIPT TWO}/year'\n",
    "        \n",
    "        xx_sum.attrs['units'] = units\n",
    "        \n",
    "        # hack to make time dim work with OpenDAP which doesn't like datetime64\n",
    "        start_time = xx.time.values[0].astype('datetime64[D]')###first date\n",
    "        # set time as the duration between actual and first date\n",
    "        coords_time = np.array(xx.time, dtype='datetime64[D]') - np.array(xx.time, dtype='datetime64[D]')[0]        \n",
    "        xx['time'] = coords_time.astype('int32')\n",
    "        xx.time.attrs = {'units': f'days since {start_time}'} #make sure attrs explain int32 time\n",
    "    \n",
    "        annual_time = xx_mean.time.values[0].astype('datetime64[D]')\n",
    "        xx_mean['time'] = np.array([0], dtype='timedelta64[D]').astype('int32') #zero days since 'annual_time'\n",
    "        xx_sum['time'] = np.array([0], dtype='timedelta64[D]').astype('int32') #zero days since 'annual_time'\n",
    "        xx_mean.time.attrs = {'units': f'days since {annual_time}'}\n",
    "        xx_sum.time.attrs = {'units': f'days since {annual_time}'}\n",
    "        \n",
    "        if version=='v1.2':\n",
    "            xx.to_netcdf(f'{export}/monthly/{var}/AusEFlux_{var}_1km_quantiles_{year}_v2.0.nc')\n",
    "            xx_mean.to_netcdf(f'{export}/annual/AnnualMean/{var}/AusEFlux_{var}_1km_AnnualMean_{year}_v2.0.nc')\n",
    "            xx_sum.to_netcdf(f'{export}/annual/AnnualSum/{var}/AusEFlux_{var}_1km_AnnualSum_{year}_v2.0.nc')\n",
    "        \n",
    "        else:\n",
    "            xx.to_netcdf(f'{export}/monthly/{var}/AusEFlux_{var}_1km_quantiles_{year}_v1.1.nc')\n",
    "            xx_mean.to_netcdf(f'{export}/annual/AnnualMean/{var}/AusEFlux_{var}_1km_AnnualMean_{year}_v1.1.nc')\n",
    "            xx_sum.to_netcdf(f'{export}/annual/AnnualSum/{var}/AusEFlux_{var}_1km_AnnualSum_{year}_v1.1.nc')\n"
   ]
  },
  {
   "cell_type": "code",
   "execution_count": null,
   "id": "0eb875cf-07d0-48a1-a9e2-e4e6aa0fc136",
   "metadata": {},
   "outputs": [],
   "source": [
    "xr.open_dataset('https://thredds.nci.org.au/thredds/dodsC/ub8/au/AusEFlux/v2/annual/AnnualSum/NEE/AusEFlux_NEE_1km_AnnualSum_2023_v2.0.nc')['NEE_median'].squeeze().plot.imshow(robust=True)"
   ]
  },
  {
   "cell_type": "code",
   "execution_count": null,
   "id": "934bf647-a61d-42e0-93e0-c415066c7f19",
   "metadata": {},
   "outputs": [],
   "source": []
  },
  {
   "cell_type": "code",
   "execution_count": null,
   "id": "3f5d47f5-456a-4de8-8696-b9935245824e",
   "metadata": {},
   "outputs": [],
   "source": []
  },
  {
   "cell_type": "code",
   "execution_count": null,
   "id": "0f10d028-04f7-4436-b4b3-a6a54b917d53",
   "metadata": {},
   "outputs": [],
   "source": []
  },
  {
   "cell_type": "code",
   "execution_count": null,
   "id": "e2e82f59-6cad-4ffc-859b-9a3f4b202f79",
   "metadata": {},
   "outputs": [],
   "source": []
  },
  {
   "cell_type": "code",
   "execution_count": null,
   "id": "21f7cc62-1021-42ec-926b-d23b627df914",
   "metadata": {},
   "outputs": [],
   "source": []
  }
 ],
 "metadata": {
  "kernelspec": {
   "display_name": "Python 3 (ipykernel)",
   "language": "python",
   "name": "python3"
  },
  "language_info": {
   "codemirror_mode": {
    "name": "ipython",
    "version": 3
   },
   "file_extension": ".py",
   "mimetype": "text/x-python",
   "name": "python",
   "nbconvert_exporter": "python",
   "pygments_lexer": "ipython3",
   "version": "3.10.0"
  }
 },
 "nbformat": 4,
 "nbformat_minor": 5
}
