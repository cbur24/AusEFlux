{
 "cells": [
  {
   "cell_type": "markdown",
   "id": "956c5625-fef0-4ac6-93e2-7765da58213f",
   "metadata": {},
   "source": [
    "# Shifting AusEFlux\n",
    "\n",
    "Move results into `ub8` and prepare them for publishing through OpenDAP\n",
    "\n",
    "Entire the variable name and the version below and the code will do the rest"
   ]
  },
  {
   "cell_type": "code",
   "execution_count": null,
   "id": "a60c230b-bd3b-403b-9186-f5c1f8d84320",
   "metadata": {},
   "outputs": [],
   "source": [
    "import os\n",
    "import xarray as xr\n",
    "import numpy as np\n",
    "from odc.geo.xr import assign_crs"
   ]
  },
  {
   "cell_type": "markdown",
   "id": "9fce9357-bf88-4a75-8c70-8fd91e7fbcf8",
   "metadata": {},
   "source": [
    "## Parameters"
   ]
  },
  {
   "cell_type": "code",
   "execution_count": null,
   "id": "15be5645-7342-447d-91af-b58bdd5dad25",
   "metadata": {},
   "outputs": [],
   "source": [
    "var='ET'\n",
    "version='v1.1'"
   ]
  },
  {
   "cell_type": "markdown",
   "id": "b01bd1da-3710-436a-8214-4bc4ebbd56d1",
   "metadata": {},
   "source": [
    "## Open data"
   ]
  },
  {
   "cell_type": "code",
   "execution_count": null,
   "id": "50b2643f-e56e-48d2-a218-aa2be40caf88",
   "metadata": {},
   "outputs": [],
   "source": [
    "if version=='v1.2':# changing versioning to \"v2\"\n",
    "    export=f'/g/data/ub8/au/AusEFlux/v2/{var}/'\n",
    "else:\n",
    "    export=f'/g/data/ub8/au/AusEFlux/v1/{var}/'\n",
    "\n",
    "if version == 'v1.1':\n",
    "    path = f'/g/data/os22/chad_tmp/NEE_modelling/results/predictions/AusEFlux_{var}_2003_2022_1km_quantiles_v1.1.nc'\n",
    "    ds = xr.open_dataset(path)\n",
    "    ds = assign_crs(ds, crs='EPSG:4326')\n",
    "    \n",
    "if version == 'v1.2':\n",
    "    folder = f'/g/data/xc0/project/AusEFlux/results/AusEFlux/{var}/'\n",
    "    files = [f'{folder}/{i}' for i in os.listdir(folder) if i.endswith(\".nc\")]\n",
    "    files.sort()\n",
    "    \n",
    "    #combine annual files into one file\n",
    "    ds = xr.open_mfdataset(files).sel(time=slice('2003','2023'))\n",
    "    ds = assign_crs(ds, crs='EPSG:4326')\n",
    "ds"
   ]
  },
  {
   "cell_type": "code",
   "execution_count": null,
   "id": "3c68a27b-a3da-455a-9d10-d14314a4ebec",
   "metadata": {},
   "outputs": [],
   "source": [
    "# ds[f'{var}_median'].isel(time=-1).plot.imshow(robust=True)"
   ]
  },
  {
   "cell_type": "markdown",
   "id": "9413c64d-dc02-45e2-bbaa-b64d5844ace6",
   "metadata": {},
   "source": [
    "## Set up netcdf attributes"
   ]
  },
  {
   "cell_type": "code",
   "execution_count": null,
   "id": "d16f0cec-7698-4784-be60-8b7f35fbd1ca",
   "metadata": {},
   "outputs": [],
   "source": [
    "fluxes = {\n",
    "    'GPP':'Gross Primary Productivity',\n",
    "    'NEE':'Net Ecosystem Exchange',\n",
    "    'ER':'Ecosystem Respiration',\n",
    "    'ET':'Evapotranspiration'\n",
    "         }\n",
    "\n",
    "if var =='ET':\n",
    "    units = 'mm/month'\n",
    "else:\n",
    "    units = 'gC/m\\N{SUPERSCRIPT TWO}/month'\n",
    "    \n",
    "description = f'AusEFlux {var} is created by empirically upscaling the OzFlux eddy covariance network using machine learning methods coupled with climate and remote sensing datasets. The estimates provided within this dataset were extracted from an ensemble of predictions and represent the median and uncertainty range.'\n",
    "\n",
    "# Create attributes dictionary\n",
    "attrs_dict={}\n",
    "attrs_dict['nodata'] = np.nan\n",
    "attrs_dict['crs'] = 'EPSG:4326'\n",
    "attrs_dict['short_name'] = var\n",
    "attrs_dict['long_name'] = fluxes[var]\n",
    "attrs_dict['units'] = units\n",
    "if version=='v1.1':\n",
    "    attrs_dict['version'] = 'v1.1'\n",
    "else:\n",
    "    attrs_dict['version'] = 'v2.0'\n",
    "attrs_dict['description'] = description\n",
    "\n",
    "ds.attrs = attrs_dict\n",
    "ds"
   ]
  },
  {
   "cell_type": "markdown",
   "id": "0c8ade2a-1fbd-4728-9a3b-9588af29fc25",
   "metadata": {},
   "source": [
    "## Export annual files\n",
    "\n",
    "and adjust the time dimension to work with OpenDAP (doesn't like int64)"
   ]
  },
  {
   "cell_type": "code",
   "execution_count": null,
   "id": "c56994ba-fc7f-4d51-81ba-2584d7a47e45",
   "metadata": {},
   "outputs": [],
   "source": [
    "for v in ds.data_vars:\n",
    "    del ds[v].attrs['grid_mapping'] #remove this attr"
   ]
  },
  {
   "cell_type": "code",
   "execution_count": null,
   "id": "803ddd4b-3813-4753-8adf-ad41d3f100ed",
   "metadata": {},
   "outputs": [],
   "source": [
    "#list of years and export\n",
    "years = [str(i) for i in range(2003, 2022+1)]\n",
    "for year in years:\n",
    "    xx = ds.sel(time=year)\n",
    "    \n",
    "    # hack to make time dim work with OpenDAP which doesn't like datetime64\n",
    "    start_time = xx.time.values[0].astype('datetime64[D]')###first date\n",
    "    print(start_time)\n",
    "    # set time as the duration between actual and first date\n",
    "    coords_time = np.array(xx.time, dtype='datetime64[D]') - np.array(xx.time, dtype='datetime64[D]')[0]        \n",
    "    xx['time'] = coords_time.astype('int32')\n",
    "    xx.time.attrs = {'units': f'days since {start_time}'} #make sure attrs explain int32 time\n",
    "\n",
    "    if version=='v1.2':\n",
    "        xx.to_netcdf(f'{export}/AusEFlux_{var}_1km_quantiles_{year}_v2.0.nc')\n",
    "    else:\n",
    "        xx.to_netcdf(f'{export}/AusEFlux_{var}_1km_quantiles_{year}_v1.1.nc')"
   ]
  },
  {
   "cell_type": "code",
   "execution_count": null,
   "id": "86eecf32-1c71-4d6c-8d16-9adb75da6b4c",
   "metadata": {},
   "outputs": [],
   "source": []
  }
 ],
 "metadata": {
  "kernelspec": {
   "display_name": "Python 3 (ipykernel)",
   "language": "python",
   "name": "python3"
  },
  "language_info": {
   "codemirror_mode": {
    "name": "ipython",
    "version": 3
   },
   "file_extension": ".py",
   "mimetype": "text/x-python",
   "name": "python",
   "nbconvert_exporter": "python",
   "pygments_lexer": "ipython3",
   "version": "3.10.0"
  }
 },
 "nbformat": 4,
 "nbformat_minor": 5
}
