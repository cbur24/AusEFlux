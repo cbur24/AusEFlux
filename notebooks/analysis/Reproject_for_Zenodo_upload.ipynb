{
 "cells": [
  {
   "attachments": {},
   "cell_type": "markdown",
   "id": "465fb3ae-251d-4db6-b8de-c49f940e6e68",
   "metadata": {},
   "source": [
    "# Reproject to 5km resolution\n",
    "\n",
    "This will provide a small netcdf we can upload to Zenodo for a publishing a new version."
   ]
  },
  {
   "cell_type": "markdown",
   "id": "87c68ed7-ac6f-4958-8cfc-412b27789cf2",
   "metadata": {},
   "source": [
    "## Import libraries"
   ]
  },
  {
   "cell_type": "code",
   "execution_count": null,
   "id": "896a0271-a94d-4409-9e11-120dfac86f1b",
   "metadata": {},
   "outputs": [],
   "source": [
    "import os\n",
    "import pickle\n",
    "import xarray as xr\n",
    "import numpy as np\n",
    "from odc.geo.geom import Geometry\n",
    "from odc.geo.xr import assign_crs\n",
    "import matplotlib.pyplot as plt\n",
    "\n",
    "import sys\n",
    "sys.path.append('/g/data/xc0/project/AusEFlux/src/')\n",
    "from _utils import round_coords"
   ]
  },
  {
   "cell_type": "markdown",
   "id": "d3f2e488-15c2-4a9b-91f4-02ca762d08d7",
   "metadata": {},
   "source": [
    "## Start dask client"
   ]
  },
  {
   "cell_type": "code",
   "execution_count": null,
   "id": "b8448f4e-b8ee-4811-b397-27ad4747e9c9",
   "metadata": {},
   "outputs": [],
   "source": [
    "from datacube.utils.dask import start_local_dask\n",
    "client = start_local_dask(mem_safety_margin='2Gb')\n",
    "client"
   ]
  },
  {
   "cell_type": "markdown",
   "id": "61e32df0-b140-4c99-8d13-5a77b8dc8352",
   "metadata": {},
   "source": [
    "## Analysis Parameters"
   ]
  },
  {
   "cell_type": "code",
   "execution_count": null,
   "id": "5293cc81-c8cd-40b1-9284-8663a3a27b90",
   "metadata": {},
   "outputs": [],
   "source": [
    "var = 'ET'\n",
    "end_year='2024'\n",
    "version='v2.1'"
   ]
  },
  {
   "cell_type": "markdown",
   "id": "cbce0d31-6b0b-4752-a2ee-25916d99cb96",
   "metadata": {},
   "source": [
    "## Open version 1 & 2"
   ]
  },
  {
   "cell_type": "code",
   "execution_count": null,
   "id": "6d8cdd16-f01d-4239-a015-5fd0d4761047",
   "metadata": {},
   "outputs": [],
   "source": [
    "base = f'/g/data/ub8/au/AusEFlux/'\n",
    "folder = f'{base}{version}/monthly/{var}'\n",
    "files = [f'{folder}/{i}' for i in os.listdir(folder) if i.endswith(\".nc\")]\n",
    "files.sort()\n",
    "ds_v2 = xr.open_mfdataset(files)\n",
    "ds_v2 = assign_crs(ds_v2, crs='EPSG:4326')\n",
    "ds_v2.attrs['nodata'] = np.nan\n",
    "attrs = ds_v2.attrs"
   ]
  },
  {
   "cell_type": "markdown",
   "id": "313c899f-587f-4942-808d-46afb79c4efe",
   "metadata": {},
   "source": [
    "## Reproject\n"
   ]
  },
  {
   "cell_type": "code",
   "execution_count": null,
   "id": "5b1f5f62-6b2a-4625-93bc-d16b248d7734",
   "metadata": {},
   "outputs": [],
   "source": [
    "# Grab a grid to reproject too\n",
    "gbox_path = f'/g/data/xc0/project/AusEFlux/data/grid_5km'\n",
    "with open(gbox_path, 'rb') as f:\n",
    "    gbox = pickle.load(f)\n",
    "\n",
    "ds_v2 = ds_v2.odc.reproject(how=gbox, resampling='bilinear').compute()\n",
    "ds_v2 = round_coords(ds_v2)\n",
    "\n",
    "ds_v2.attrs = attrs\n",
    "ds_v2"
   ]
  },
  {
   "cell_type": "code",
   "execution_count": null,
   "id": "1ab4d746-12d8-4d3b-9a24-07fcf5ea81f0",
   "metadata": {},
   "outputs": [],
   "source": [
    "ds_v2[f'{var}_median'].mean('time').odc.explore()"
   ]
  },
  {
   "cell_type": "markdown",
   "id": "d10ff511-624a-4e09-bc24-f885c3f05135",
   "metadata": {},
   "source": [
    "## Export to disk"
   ]
  },
  {
   "cell_type": "code",
   "execution_count": null,
   "id": "f3a2ac7c-d171-4edc-b767-a8ced4fe6684",
   "metadata": {},
   "outputs": [],
   "source": [
    "ds_v2.to_netcdf(f'/g/data/xc0/project/AusEFlux/results/AusEFlux_5km/AusEFlux_{var}_2003_{end_year}_5km_quantiles_{version}.nc')"
   ]
  },
  {
   "cell_type": "code",
   "execution_count": null,
   "id": "212896b7-8d1a-4620-a09d-421004988846",
   "metadata": {},
   "outputs": [],
   "source": []
  },
  {
   "cell_type": "code",
   "execution_count": null,
   "id": "fc479999-c364-4c9b-80b3-4c4d03ded3e2",
   "metadata": {},
   "outputs": [],
   "source": [
    "# import xarray as xr\n",
    "# from odc.geo.xr import assign_crs\n",
    "# ds = assign_crs(xr.open_dataset('/g/data/xc0/project/AusEFlux/results/AusEFlux_5km/AusEFlux_ER_2003_2024_5km_quantiles_v2.1.nc'), crs='EPSG:4326')\n",
    "\n",
    "# ds['ER_median'].sel(time='2003').mean('time').odc.explore( vmin=0, vmax=150)"
   ]
  },
  {
   "cell_type": "code",
   "execution_count": null,
   "id": "c37eb512-b662-463b-94bf-c5558788f8a4",
   "metadata": {},
   "outputs": [],
   "source": [
    "\n"
   ]
  },
  {
   "cell_type": "code",
   "execution_count": null,
   "id": "ff6ed995-2ca6-4b37-861a-5a159f7bc9e6",
   "metadata": {},
   "outputs": [],
   "source": []
  }
 ],
 "metadata": {
  "kernelspec": {
   "display_name": "Python 3 (ipykernel)",
   "language": "python",
   "name": "python3"
  },
  "language_info": {
   "codemirror_mode": {
    "name": "ipython",
    "version": 3
   },
   "file_extension": ".py",
   "mimetype": "text/x-python",
   "name": "python",
   "nbconvert_exporter": "python",
   "pygments_lexer": "ipython3",
   "version": "3.10.0"
  }
 },
 "nbformat": 4,
 "nbformat_minor": 5
}
