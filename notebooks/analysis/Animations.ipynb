{
 "cells": [
  {
   "cell_type": "markdown",
   "id": "2fe639fb-19ec-40bc-a9d2-0c4f88f68443",
   "metadata": {},
   "source": [
    "# Generate animations\n",
    "\n",
    "Show the time series as animations of the spatial fluxes, and summarised as animated line plots"
   ]
  },
  {
   "cell_type": "code",
   "execution_count": null,
   "id": "d4a66d45-8c91-4b42-8bd0-9160b12204e0",
   "metadata": {},
   "outputs": [],
   "source": [
    "import os\n",
    "import sys\n",
    "import xarray as xr\n",
    "import numpy as np\n",
    "import geopandas as gpd\n",
    "from IPython.display import Image\n",
    "import matplotlib.dates as mdates\n",
    "import matplotlib.pyplot as plt\n",
    "from odc.geo.xr import assign_crs\n",
    "import matplotlib as mpl\n",
    "from matplotlib.cm import ScalarMappable\n",
    "import matplotlib.animation as animation\n",
    "\n",
    "sys.path.append('/g/data/os22/chad_tmp/dea-notebooks/Tools')\n",
    "from dea_tools.plotting import xr_animation"
   ]
  },
  {
   "cell_type": "code",
   "execution_count": null,
   "id": "084cb937-c0cb-4c12-b920-6f7da716b301",
   "metadata": {},
   "outputs": [],
   "source": [
    "from datacube.utils.dask import start_local_dask\n",
    "client = start_local_dask(mem_safety_margin='2Gb')\n",
    "client"
   ]
  },
  {
   "cell_type": "code",
   "execution_count": null,
   "id": "2ea87f38-3584-4640-af8c-37e4b7e07874",
   "metadata": {},
   "outputs": [],
   "source": [
    "base = f'/g/data/xc0/project/AusEFlux/'\n",
    "year_end = '2024'"
   ]
  },
  {
   "cell_type": "markdown",
   "id": "b1a0b7c2-f857-4ea1-afe0-d8728e8ce070",
   "metadata": {},
   "source": [
    "## Open datasets\n",
    "\n",
    "and reproject to limit data volume"
   ]
  },
  {
   "cell_type": "code",
   "execution_count": null,
   "id": "ac313bff-e89b-465b-89be-a56f27cda942",
   "metadata": {},
   "outputs": [],
   "source": [
    "# ----NEE-------------------------------\n",
    "folder = base+f'results/AusEFlux/NEE/'\n",
    "files = [f'{folder}/{i}' for i in os.listdir(folder) if i.endswith(\".nc\")]\n",
    "files.sort()\n",
    "nee = xr.open_mfdataset(files).sel(time=slice('2003',year_end))\n",
    "nee = assign_crs(nee, crs='EPSG:4326')\n",
    "nee = nee['NEE_median']\n",
    "nee.attrs['nodata'] = np.nan\n",
    "\n",
    "# ----GPP-------------------------------\n",
    "folder = base+f'results/AusEFlux/GPP/'\n",
    "files = [f'{folder}/{i}' for i in os.listdir(folder) if i.endswith(\".nc\")]\n",
    "files.sort()\n",
    "gpp = xr.open_mfdataset(files).sel(time=slice('2003',year_end))\n",
    "gpp = assign_crs(gpp, crs='EPSG:4326')\n",
    "gpp = gpp['GPP_median']\n",
    "gpp.attrs['nodata'] = np.nan\n",
    "\n",
    "# ----ER-------------------------------\n",
    "folder = base+f'results/AusEFlux/ER/'\n",
    "files = [f'{folder}/{i}' for i in os.listdir(folder) if i.endswith(\".nc\")]\n",
    "files.sort()\n",
    "er = xr.open_mfdataset(files).sel(time=slice('2003',year_end))\n",
    "er = assign_crs(er, crs='EPSG:4326')\n",
    "er = er['ER_median']\n",
    "er.attrs['nodata'] = np.nan\n"
   ]
  },
  {
   "cell_type": "markdown",
   "id": "7df98649-8f05-4ed8-9165-4f56bac9a0a3",
   "metadata": {},
   "source": [
    "#### Zoom out to 2 km resolution to speed things up"
   ]
  },
  {
   "cell_type": "code",
   "execution_count": null,
   "id": "08f1f2e6-f5fd-44f0-9997-7f71bffd3fd0",
   "metadata": {},
   "outputs": [],
   "source": [
    "grid = nee.odc.geobox.zoom_out(factor=4)\n",
    "\n",
    "nee = nee.odc.reproject(how=grid, resampling='average').compute()\n",
    "gpp = gpp.odc.reproject(how=grid, resampling='average').compute()\n",
    "er = er.odc.reproject(how=grid, resampling='average').compute()"
   ]
  },
  {
   "cell_type": "markdown",
   "id": "afa25a41-b531-4be2-b0ec-55a5a8e8e226",
   "metadata": {},
   "source": [
    "## Image animation"
   ]
  },
  {
   "cell_type": "markdown",
   "id": "923f5aa6-3dae-4ec9-917e-4d9335465e69",
   "metadata": {},
   "source": [
    "### NEE"
   ]
  },
  {
   "cell_type": "code",
   "execution_count": null,
   "id": "3ef7b39d-c837-4b86-800d-08e16105fa57",
   "metadata": {},
   "outputs": [],
   "source": [
    "path = f'{base}results/gifs/NEE_animation.gif'\n",
    "\n",
    "imshow_kwargs = {'cmap': 'Spectral_r','vmin': -45, 'vmax': 45}\n",
    "\n",
    "xr_animation(nee.to_dataset(name='NEE_median').rolling(time=3, min_periods=1).mean().compute(),\n",
    "            bands=['NEE_median'],\n",
    "            show_date='%b %Y',\n",
    "            width_pixels=600,\n",
    "            output_path=path,\n",
    "            show_colorbar=True,\n",
    "            colorbar_kwargs={'colors': 'black'},\n",
    "            interval=100, \n",
    "            show_text='NEE gC m\\N{SUPERSCRIPT TWO} mon⁻¹',\n",
    "            imshow_kwargs=imshow_kwargs\n",
    "            )\n",
    "\n",
    "# Plot animation\n",
    "plt.close()\n",
    "Image(path, embed=True)"
   ]
  },
  {
   "cell_type": "markdown",
   "id": "d930893b-878b-475c-a0cc-21cbfcf0f446",
   "metadata": {},
   "source": [
    "### GPP"
   ]
  },
  {
   "cell_type": "code",
   "execution_count": null,
   "id": "bfaaa31c-dbfc-4de1-bee2-fc55d66c1749",
   "metadata": {},
   "outputs": [],
   "source": [
    "path = f'{base}results/gifs/GPP_animation.gif'\n",
    "\n",
    "imshow_kwargs = {'cmap': 'gist_earth_r','vmin': 0, 'vmax': 150}\n",
    "\n",
    "xr_animation(gpp.to_dataset(name='GPP_median').rolling(time=3, min_periods=1).mean().compute(),\n",
    "            bands=['GPP_median'],\n",
    "            show_date='%b %Y',\n",
    "            width_pixels=600,\n",
    "            output_path=path,\n",
    "            show_colorbar=True,\n",
    "            colorbar_kwargs={'colors': 'black'},\n",
    "            interval=100, \n",
    "            show_text='GPP gC m\\N{SUPERSCRIPT TWO} mon⁻¹',\n",
    "            imshow_kwargs=imshow_kwargs\n",
    "            )\n",
    "\n",
    "# Plot animation\n",
    "plt.close()\n",
    "Image(path, embed=True)"
   ]
  },
  {
   "cell_type": "markdown",
   "id": "bf6a1b22-c68e-4a4c-993a-9a9956c6a551",
   "metadata": {},
   "source": [
    "## Animated line graph to accompany images"
   ]
  },
  {
   "cell_type": "markdown",
   "id": "324ccb02-e077-4040-a4bb-94e4a888edb6",
   "metadata": {},
   "source": [
    "### Convert to PgC/year"
   ]
  },
  {
   "cell_type": "code",
   "execution_count": null,
   "id": "83e81e3e-472c-4409-b684-f597b69260a1",
   "metadata": {},
   "outputs": [],
   "source": [
    "grid = nee.odc.geobox.to_crs('EPSG:3577')\n",
    "\n",
    "nee = nee.odc.reproject(how=grid, resampling='bilinear').compute()\n",
    "gpp = gpp.odc.reproject(how=grid, resampling='bilinear').compute()\n",
    "er = er.odc.reproject(how=grid, resampling='bilinear').compute()"
   ]
  },
  {
   "cell_type": "code",
   "execution_count": null,
   "id": "540c6525-91e4-420b-b1b8-9364207b0e54",
   "metadata": {},
   "outputs": [],
   "source": [
    "area_per_pixel = nee.odc.geobox.resolution.x**2\n",
    "\n",
    "nee = nee * area_per_pixel * 1e-15 * 12 # (pgC/year)\n",
    "gpp = gpp * area_per_pixel * 1e-15 * 12 # (pgC/year)\n",
    "er = er * area_per_pixel * 1e-15 * 12 # (pgC/year)\n",
    "\n",
    "fire = xr.open_dataarray(f'{base}data/FireEmissions_10km_monthly.nc').sel(time=slice('2003',year_end))\n",
    "fire = fire.sum(['x', 'y'])\n",
    "fire = fire*12"
   ]
  },
  {
   "cell_type": "code",
   "execution_count": null,
   "id": "11d3d10c-33b2-461a-bab5-053d3103a771",
   "metadata": {},
   "outputs": [],
   "source": [
    "y_gpp=gpp.sum(['x', 'y']).rename('GPP PgC/month')#.rolling(time=3, min_periods=1).mean()\n",
    "y_nee=nee.sum(['x', 'y']).rename('NEE PgC/month')#.rolling(time=3, min_periods=1).mean()\n",
    "y_er=er.sum(['x', 'y']).rename('ER PgC/month')\n",
    "\n",
    "y_fire = y_nee+fire\n",
    "\n",
    "x=nee.time.values"
   ]
  },
  {
   "cell_type": "markdown",
   "id": "2e866364-5af5-4527-97b3-9476d8d15e96",
   "metadata": {},
   "source": [
    "### Rainfall anomalies"
   ]
  },
  {
   "cell_type": "code",
   "execution_count": null,
   "id": "9cc03718-d933-448f-989d-322ecf597205",
   "metadata": {},
   "outputs": [],
   "source": [
    "folder = f'{base}data/interim_500m/rain'\n",
    "files = [f'{folder}/{i}' for i in os.listdir(folder) if i.endswith(\".nc\")]\n",
    "files.sort()\n",
    "rain = xr.open_mfdataset(files).sel(time=slice('2003',year_end))\n",
    "rain = assign_crs(rain, crs='EPSG:4326')\n",
    "rain = rain['rain']\n",
    "rain.attrs['nodata'] = np.nan\n",
    "rain = rain.odc.reproject(how=grid, resampling='average').compute()\n",
    "rain.name = 'rain'"
   ]
  },
  {
   "cell_type": "code",
   "execution_count": null,
   "id": "2f567a70-3c54-4321-8ca6-3029a883dfee",
   "metadata": {},
   "outputs": [],
   "source": [
    "rain_clim_std = rain.sel(time=slice('2003', year_end)).groupby('time.month').std().compute()\n",
    "rain_clim_mean = rain.sel(time=slice('2003', year_end)).groupby('time.month').mean().compute()\n",
    "#get rid of zero values\n",
    "# rain_clim_mean = xr.where(rain_clim_mean==0, 1, rain_clim_mean)\n",
    "\n",
    "#standardized anom\n",
    "def stand_anomalies(ds, clim_mean, clim_std):\n",
    "    std_anom = xr.apply_ufunc(lambda x, m, s: (x - m) / s,\n",
    "    ds.compute().groupby(\"time.month\"),\n",
    "    clim_mean, clim_std)\n",
    "    return std_anom\n",
    "\n",
    "rain_std_anom = stand_anomalies(rain, rain_clim_mean, rain_clim_std)\n",
    "rain_std_anom = rain_std_anom.drop_vars('month')\n",
    "rain_df = rain_std_anom.rename('rain').mean(['x','y']).rolling(time=3,min_periods=1).mean().to_dataframe().drop(['spatial_ref'], axis=1)"
   ]
  },
  {
   "cell_type": "markdown",
   "id": "b592c2a6-e0ef-4574-ac1f-b126268f9d9f",
   "metadata": {},
   "source": [
    "### Create animated lines"
   ]
  },
  {
   "cell_type": "code",
   "execution_count": null,
   "id": "aa84b721-4ba2-4f24-abbf-6c73854cb46e",
   "metadata": {},
   "outputs": [],
   "source": [
    "def update_2lines(num, x, y, z, line1, line2):\n",
    "    line1.set_data(x[:num], y[:num])\n",
    "    line2.set_data(x[:num], z[:num])\n",
    "    return [line1, line2]\n",
    "\n",
    "def update(num, x, y, line):\n",
    "    line.set_data(x[:num], y[:num])\n",
    "    return line,"
   ]
  },
  {
   "cell_type": "markdown",
   "id": "f3762de6-61d6-485d-85cf-8cd8eb5dc77c",
   "metadata": {},
   "source": [
    "### GPP/ER"
   ]
  },
  {
   "cell_type": "code",
   "execution_count": null,
   "id": "55595def-4704-4ddf-ab76-605335db8dd4",
   "metadata": {},
   "outputs": [],
   "source": [
    "export_line=path = f'{base}results/gifs/GPP_ER_line_animation.gif'\n",
    "\n",
    "fig, ax = plt.subplots(figsize=(13,4))\n",
    "# fig.set_size_inches(width * scale / 72, height * scale / 72, forward=True)\n",
    "ax2 = ax.twinx()\n",
    "\n",
    "line, = y_gpp.plot(ax=ax, label='GPP', linewidth=1.5, c='black')\n",
    "line_er, = y_er.plot(ax=ax, label='ER', linewidth=1.5, c='red')\n",
    "\n",
    "norm=plt.Normalize(-2,2)\n",
    "cmap = mpl.colors.LinearSegmentedColormap.from_list(\"\", ['saddlebrown','chocolate','white','darkturquoise','darkcyan'], N=256)\n",
    "\n",
    "# Plot bars\n",
    "bar = ax2.bar(rain_df.index, 1, color=cmap(norm(rain_df['rain'])), width=32)\n",
    "sm = ScalarMappable(cmap=cmap, norm=norm)\n",
    "sm.set_array([])\n",
    "cbar = plt.colorbar(sm, ax=ax2,shrink=0.8, pad=0.01)\n",
    "cbar.set_label('Rainfall Anomaly',labelpad=.5)\n",
    "ax2.set_zorder(ax.get_zorder()-1)\n",
    "ax2.set_ylabel('')\n",
    "ax2.set_yticks([])\n",
    "ax2.set_ylim([0, 1])\n",
    "ax.margins(x=0)\n",
    "ax2.margins(x=0)\n",
    "\n",
    "ax.set_frame_on(False)\n",
    "ax.set_yticklabels(['{:3.1f}'.format(x) for x in ax.get_yticks()])\n",
    "ax.grid('off', which='major', axis='both', linestyle='--', linewidth=0.75)\n",
    "ax.xaxis.set_major_locator(mdates.YearLocator(2))\n",
    "ax.legend(loc='best', fontsize=14)\n",
    "ax.set_ylabel(\"GPP/ER, PgC yr⁻¹\", fontsize=14)\n",
    "ax.set_xlabel('')\n",
    "ax.set_title(None)\n",
    "plt.tight_layout()\n",
    "ani = animation.FuncAnimation(fig, update_2lines, len(x),\n",
    "                          fargs=[x, y_gpp, y_er, line, line_er],\n",
    "                          interval=100,\n",
    "                          blit=True)\n",
    "\n",
    "ani.save(export_line)\n",
    "plt.close()\n",
    "Image(export_line, embed=True)"
   ]
  },
  {
   "cell_type": "markdown",
   "id": "5d7c5e29-2549-41f3-937c-6f8d73ca6ae8",
   "metadata": {},
   "source": [
    "### NEE"
   ]
  },
  {
   "cell_type": "code",
   "execution_count": null,
   "id": "37e71f90-0db5-4eb8-8e14-10ded3ea4f97",
   "metadata": {},
   "outputs": [],
   "source": [
    "export_line=path = f'{base}results/gifs/NEE_line_animation.gif'\n",
    "\n",
    "fig, ax = plt.subplots(figsize=(13,4))\n",
    "ax2 = ax.twinx()\n",
    "\n",
    "line, = y_nee.plot(ax=ax, label='NEE', linewidth=1.5, c='black')\n",
    "line_fire, = y_fire.plot(ax=ax, label='NEE+fire', linestyle='--', linewidth=1.5, c='purple')\n",
    "\n",
    "norm=plt.Normalize(-2,2)\n",
    "cmap = mpl.colors.LinearSegmentedColormap.from_list(\"\", ['saddlebrown','chocolate','white','darkturquoise','darkcyan'], N=256)\n",
    "\n",
    "# Plot bars\n",
    "bar = ax2.bar(rain_df.index, 1, color=cmap(norm(rain_df['rain'])), width=32)\n",
    "sm = ScalarMappable(cmap=cmap, norm=norm)\n",
    "sm.set_array([])\n",
    "cbar = plt.colorbar(sm, ax=ax2,shrink=0.8, pad=0.01)\n",
    "cbar.set_label('Rainfall Anomaly',labelpad=.5)\n",
    "ax2.set_zorder(ax.get_zorder()-1)\n",
    "ax2.set_ylabel('')\n",
    "ax2.set_yticks([])\n",
    "ax2.set_ylim([0, 1])\n",
    "ax.margins(x=0)\n",
    "ax2.margins(x=0)\n",
    "\n",
    "ax.set_frame_on(False)\n",
    "ax.set_yticklabels(['{:3.1f}'.format(x) for x in ax.get_yticks()])\n",
    "ax.set_title(None)\n",
    "ax.grid('off', which='major', axis='both', linestyle='--', linewidth=0.75)\n",
    "ax.xaxis.set_major_locator(mdates.YearLocator(2))\n",
    "ax.legend(loc='best', fontsize=14)\n",
    "ax.set_ylabel(\"NEE PgC yr⁻¹\", fontsize=14)\n",
    "ax.set_xlabel('')\n",
    "ax.axhline(0, c='grey', linestyle='--')\n",
    "\n",
    "plt.tight_layout()\n",
    "\n",
    "ani = animation.FuncAnimation(fig, update_2lines, len(x),\n",
    "                              fargs=[x, y_nee, y_fire, line, line_fire],\n",
    "                              interval=100,\n",
    "                              blit=True)\n",
    "\n",
    "ani.save(export_line)\n",
    "plt.close()\n",
    "Image(export_line, embed=True)"
   ]
  },
  {
   "cell_type": "code",
   "execution_count": null,
   "id": "95065166-08b6-41fb-874a-283ae790935f",
   "metadata": {},
   "outputs": [],
   "source": []
  },
  {
   "cell_type": "code",
   "execution_count": null,
   "id": "0f53df5c-895a-44cc-aca0-f6cfb6d86e87",
   "metadata": {},
   "outputs": [],
   "source": []
  },
  {
   "cell_type": "code",
   "execution_count": null,
   "id": "3a978c46-312d-4331-a588-0fd4d9d04e31",
   "metadata": {},
   "outputs": [],
   "source": [
    "##"
   ]
  }
 ],
 "metadata": {
  "kernelspec": {
   "display_name": "Python 3 (ipykernel)",
   "language": "python",
   "name": "python3"
  },
  "language_info": {
   "codemirror_mode": {
    "name": "ipython",
    "version": 3
   },
   "file_extension": ".py",
   "mimetype": "text/x-python",
   "name": "python",
   "nbconvert_exporter": "python",
   "pygments_lexer": "ipython3",
   "version": "3.10.0"
  }
 },
 "nbformat": 4,
 "nbformat_minor": 5
}
