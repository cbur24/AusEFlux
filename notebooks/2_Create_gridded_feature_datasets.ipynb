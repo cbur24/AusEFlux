{
 "cells": [
  {
   "cell_type": "markdown",
   "metadata": {},
   "source": [
    "# Create gridded feature datasets\n",
    "\n",
    "The goal here is to take the spatio-temporally harmonised files in `interim/` that were output from `1_Spatiotemporal_harmonization.ipynb` and stack them into ready-to-use netcdf files in the `5km` data folder. We want one netcdf per feature. Additionally, we create a few new features, for example vegetation fractions, anomalies etc.\n"
   ]
  },
  {
   "cell_type": "code",
   "execution_count": null,
   "metadata": {
    "tags": []
   },
   "outputs": [],
   "source": [
    "import os\n",
    "import pandas as pd\n",
    "import xarray as xr\n",
    "import numpy as np\n",
    "from odc.geo.xr import assign_crs\n",
    "\n",
    "import warnings\n",
    "warnings.simplefilter(action='ignore')\n",
    "\n",
    "import sys\n",
    "sys.path.append('/g/data/os22/chad_tmp/AusEFlux/src/')\n",
    "from _utils import start_local_dask"
   ]
  },
  {
   "cell_type": "code",
   "execution_count": null,
   "metadata": {
    "tags": []
   },
   "outputs": [],
   "source": [
    "client = start_local_dask(mem_safety_margin='2Gb')\n",
    "client"
   ]
  },
  {
   "cell_type": "code",
   "execution_count": null,
   "metadata": {},
   "outputs": [],
   "source": [
    "base = '/g/data/os22/chad_tmp/AusEFlux/data/interim/'\n",
    "results='/g/data/os22/chad_tmp/AusEFlux/data/5km/'\n",
    "\n",
    "#any datasets we want to exclude?\n",
    "exclude = ['.ipynb_checkpoints', 'kTavg', 'Tmax', 'Tmin', 'WCF']"
   ]
  },
  {
   "cell_type": "markdown",
   "metadata": {},
   "source": [
    "## Loop through folders and join interim files"
   ]
  },
  {
   "cell_type": "code",
   "execution_count": null,
   "metadata": {},
   "outputs": [],
   "source": [
    "folders = [i for i in os.listdir(base) if i not in exclude]\n",
    "\n",
    "for f in folders[1:]:\n",
    "    print(f)\n",
    "    files = [f'{base}{f}/{i}' for i in os.listdir(base+f) if i.endswith(\".nc\")]\n",
    "    files.sort()\n",
    "\n",
    "    #combine annual files into one file\n",
    "    ds = xr.open_mfdataset(files)\n",
    "    ds = ds.chunk(dict(time=-1, latitude=250, longitude=250))\n",
    "                  \n",
    "    # Gapfill NDWI differently (has real gaps)\n",
    "    if f=='NDWI':\n",
    "        # seperate into climatologies and anomalies\n",
    "        ds_monthly = ds.groupby('time.month').mean()\n",
    "        ds_anom = ds.groupby('time.month') - ds_monthly  \n",
    "        \n",
    "        # fill linearly by max 2 steps\n",
    "        ds_anom = ds_anom.interpolate_na(dim='time', method='linear', limit=2)\n",
    "        \n",
    "        #recombine anomalies and climatology\n",
    "        ds = ds_anom.groupby('time.month') + ds_monthly\n",
    "        ds = ds.drop('month')\n",
    "        \n",
    "        #fill remaining gaps with climatology\n",
    "        ds = ds.groupby(\"time.month\").fillna(ds_monthly)\n",
    "\n",
    "    # ensure no gaps in other datasets (there shouldn't be any)\n",
    "    # this is just to be cautious\n",
    "    else:\n",
    "        ds_monthly = ds.groupby('time.month').mean()\n",
    "        ds = ds.groupby(\"time.month\").fillna(ds_monthly)\n",
    "    \n",
    "    ds = ds.drop('month').compute()\n",
    "    ds.to_netcdf(results+f+'_5km_2003_2022.nc')\n",
    "\n",
    "    break"
   ]
  },
  {
   "cell_type": "markdown",
   "metadata": {},
   "source": [
    "## Create new features"
   ]
  }
 ],
 "metadata": {
  "kernelspec": {
   "display_name": "Python 3 (ipykernel)",
   "language": "python",
   "name": "python3"
  },
  "language_info": {
   "codemirror_mode": {
    "name": "ipython",
    "version": 3
   },
   "file_extension": ".py",
   "mimetype": "text/x-python",
   "name": "python",
   "nbconvert_exporter": "python",
   "pygments_lexer": "ipython3",
   "version": "3.10.0"
  }
 },
 "nbformat": 4,
 "nbformat_minor": 4
}
