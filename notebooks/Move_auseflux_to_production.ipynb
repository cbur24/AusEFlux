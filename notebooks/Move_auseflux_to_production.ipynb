{
 "cells": [
  {
   "cell_type": "markdown",
   "id": "956c5625-fef0-4ac6-93e2-7765da58213f",
   "metadata": {},
   "source": [
    "# Shifting AusEFlux results to OpenDAP production folder\n",
    "\n",
    "This notebook will copy AusEFlux datasets from `xc0` into `ub8`, prepare them for publishing through OpenDAP, and calculate annual summaries.\n",
    "\n",
    "Enter below under the `Analysis Parameters` section the version number and the last year in the time series and the code will do the rest.\n",
    "\n",
    "Datasets are sent to here: https://thredds.nci.org.au/thredds/catalog/ub8/au/AusEFlux/catalog.html"
   ]
  },
  {
   "cell_type": "code",
   "execution_count": null,
   "id": "a60c230b-bd3b-403b-9186-f5c1f8d84320",
   "metadata": {},
   "outputs": [],
   "source": [
    "import os\n",
    "import xarray as xr\n",
    "import numpy as np\n",
    "from odc.geo.xr import assign_crs"
   ]
  },
  {
   "cell_type": "markdown",
   "id": "9fce9357-bf88-4a75-8c70-8fd91e7fbcf8",
   "metadata": {},
   "source": [
    "## Analysis Parameters"
   ]
  },
  {
   "cell_type": "code",
   "execution_count": null,
   "id": "15be5645-7342-447d-91af-b58bdd5dad25",
   "metadata": {},
   "outputs": [],
   "source": [
    "version='v2.0' # What version of the datasets are we running?\n",
    "year_end = 2024 # update this each year you run 'annual_update' scripts\n",
    "target_grid = '500m' # what is the spatial resolution of the datasets?"
   ]
  },
  {
   "cell_type": "markdown",
   "id": "b01bd1da-3710-436a-8214-4bc4ebbd56d1",
   "metadata": {},
   "source": [
    "## Move to production and make annual summaries"
   ]
  },
  {
   "cell_type": "code",
   "execution_count": null,
   "id": "50b2643f-e56e-48d2-a218-aa2be40caf88",
   "metadata": {},
   "outputs": [],
   "source": [
    "fluxes = {\n",
    "    'GPP':'Gross Primary Productivity',\n",
    "    'NEE':'Net Ecosystem Exchange',\n",
    "    'ER':'Ecosystem Respiration',\n",
    "    'ET':'Evapotranspiration'\n",
    "         }\n",
    "\n",
    "for var in list(fluxes.keys()):\n",
    "    print(var)\n",
    "    if version == 'v1.1':\n",
    "        path = f'/g/data/os22/chad_tmp/NEE_modelling/results/predictions/AusEFlux_{var}_2003_2022_1km_quantiles_v1.1.nc'\n",
    "        ds = xr.open_dataset(path)\n",
    "        ds = assign_crs(ds, crs='EPSG:4326')\n",
    "        \n",
    "    else:\n",
    "        folder = f'/g/data/xc0/project/AusEFlux/results/AusEFlux/{var}/'\n",
    "        files = [f'{folder}/{i}' for i in os.listdir(folder) if i.endswith(\".nc\")]\n",
    "        files.sort()\n",
    "        \n",
    "        #combine annual files into one file\n",
    "        ds = xr.open_mfdataset(files)\n",
    "        ds = assign_crs(ds, crs='EPSG:4326')\n",
    "    \n",
    "    if var =='ET':\n",
    "        units = 'mm/month'\n",
    "    else:\n",
    "        units = 'gC/m\\N{SUPERSCRIPT TWO}/month'\n",
    "        \n",
    "    description = f'AusEFlux {var} is created by empirically upscaling the OzFlux eddy covariance network using machine learning methods coupled with climate and remote sensing datasets. The estimates provided within this dataset were extracted from an ensemble of predictions and represent the median and uncertainty range.'\n",
    "    \n",
    "    # Create attributes dictionary\n",
    "    attrs_dict={}\n",
    "    attrs_dict['nodata'] = np.nan\n",
    "    attrs_dict['crs'] = 'EPSG:4326'\n",
    "    attrs_dict['short_name'] = var\n",
    "    attrs_dict['long_name'] = fluxes[var]\n",
    "    attrs_dict['units'] = units\n",
    "    \n",
    "    if version=='v1.1':\n",
    "        attrs_dict['version'] = 'v1.1'\n",
    "    else:\n",
    "        attrs_dict['version'] = version\n",
    "    attrs_dict['description'] = description\n",
    "    \n",
    "    ds.attrs = attrs_dict\n",
    "    \n",
    "    for v in ds.data_vars:\n",
    "        del ds[v].attrs['grid_mapping'] #remove this attr\n",
    "    \n",
    "    if version=='v2.0':# changing versioning to \"v2\"\n",
    "        export=f'/g/data/ub8/au/AusEFlux/v2/'\n",
    "    \n",
    "    else:\n",
    "        export=f'/g/data/ub8/au/AusEFlux/v1/'\n",
    "    \n",
    "    #list of years and export\n",
    "    if version=='v1.1':\n",
    "        ye=2021\n",
    "    else:\n",
    "        ye=year_end\n",
    "    \n",
    "    years = [str(i) for i in range(2003, ye+1)]\n",
    "    \n",
    "    for year in years:\n",
    "        print('', year)\n",
    "        xx = ds.sel(time=year)\n",
    "        \n",
    "        #annual summaries\n",
    "        xx_mean = xx.resample(time='YE').mean()\n",
    "        xx_sum = xx.resample(time='YE').sum()\n",
    "    \n",
    "        mask = ~np.isnan(xx_mean[var+'_median'])\n",
    "        xx_sum = xx_sum.where(mask).astype(np.float32)\n",
    "    \n",
    "        #update units for annual sums\n",
    "        if var =='ET':\n",
    "            units = 'mm/year'\n",
    "        else:\n",
    "            units = 'gC/m\\N{SUPERSCRIPT TWO}/year'\n",
    "        \n",
    "        xx_sum.attrs['units'] = units\n",
    "        \n",
    "        # hack to make time dim work with OpenDAP which doesn't like datetime64\n",
    "        start_time = xx.time.values[0].astype('datetime64[D]')###first date\n",
    "        # set time as the duration between actual and first date\n",
    "        coords_time = np.array(xx.time, dtype='datetime64[D]') - np.array(xx.time, dtype='datetime64[D]')[0]        \n",
    "        xx['time'] = coords_time.astype('int32')\n",
    "        xx.time.attrs = {'units': f'days since {start_time}'} #make sure attrs explain int32 time\n",
    "    \n",
    "        annual_time = xx_mean.time.values[0].astype('datetime64[D]')\n",
    "        xx_mean['time'] = np.array([0], dtype='timedelta64[D]').astype('int32') #zero days since 'annual_time'\n",
    "        xx_sum['time'] = np.array([0], dtype='timedelta64[D]').astype('int32') #zero days since 'annual_time'\n",
    "        xx_mean.time.attrs = {'units': f'days since {annual_time}'}\n",
    "        xx_sum.time.attrs = {'units': f'days since {annual_time}'}\n",
    "        \n",
    "        if version=='v2.0':\n",
    "            xx.to_netcdf(f'{export}/monthly/{var}/AusEFlux_{var}_{target_grid}_quantiles_{year}_{version}.nc')\n",
    "            xx_mean.to_netcdf(f'{export}/annual/AnnualMean/{var}/AusEFlux_{var}_{target_grid}_AnnualMean_{year}_{version}.nc')\n",
    "            xx_sum.to_netcdf(f'{export}/annual/AnnualSum/{var}/AusEFlux_{var}_{target_grid}_AnnualSum_{year}_{version}.nc')\n",
    "        \n",
    "        else:\n",
    "            xx.to_netcdf(f'{export}/monthly/{var}/AusEFlux_{var}_1km_quantiles_{year}_v1.1.nc')\n",
    "            xx_mean.to_netcdf(f'{export}/annual/AnnualMean/{var}/AusEFlux_{var}_1km_AnnualMean_{year}_v1.1.nc')\n",
    "            xx_sum.to_netcdf(f'{export}/annual/AnnualSum/{var}/AusEFlux_{var}_1km_AnnualSum_{year}_v1.1.nc')"
   ]
  },
  {
   "cell_type": "markdown",
   "id": "f4db7df3-e1eb-48e2-89cb-4c06de96c25e",
   "metadata": {},
   "source": [
    "## Open and plot a dataset through OpenDAP\n",
    "\n",
    "To check that its working as intended"
   ]
  },
  {
   "cell_type": "code",
   "execution_count": null,
   "id": "0eb875cf-07d0-48a1-a9e2-e4e6aa0fc136",
   "metadata": {},
   "outputs": [],
   "source": [
    "url_base = 'https://thredds.nci.org.au/thredds/dodsC/ub8/au/AusEFlux/v2/'\n",
    "path = f'{url_base}annual/AnnualSum/ET/AusEFlux_ET_500m_AnnualSum_{2024}_{version}.nc'\n",
    "ds = xr.open_dataset(path)\n",
    "ds"
   ]
  },
  {
   "cell_type": "code",
   "execution_count": null,
   "id": "21f7cc62-1021-42ec-926b-d23b627df914",
   "metadata": {},
   "outputs": [],
   "source": [
    "ds['ET_median'].squeeze().plot.imshow(robust=True, size=6);"
   ]
  },
  {
   "cell_type": "code",
   "execution_count": null,
   "id": "0b9c7dff-7d79-4ce3-9156-98f65b8b1750",
   "metadata": {},
   "outputs": [],
   "source": []
  }
 ],
 "metadata": {
  "kernelspec": {
   "display_name": "Python 3 (ipykernel)",
   "language": "python",
   "name": "python3"
  },
  "language_info": {
   "codemirror_mode": {
    "name": "ipython",
    "version": 3
   },
   "file_extension": ".py",
   "mimetype": "text/x-python",
   "name": "python",
   "nbconvert_exporter": "python",
   "pygments_lexer": "ipython3",
   "version": "3.10.0"
  }
 },
 "nbformat": 4,
 "nbformat_minor": 5
}
