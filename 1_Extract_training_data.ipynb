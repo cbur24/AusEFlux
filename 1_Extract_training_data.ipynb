{
 "cells": [
  {
   "cell_type": "markdown",
   "metadata": {},
   "source": [
    "## Develop a method for harmonizing data from OzWALD\n",
    "\n",
    "Until we do this we can't extract training data...\n",
    "\n",
    "Try to develop a 1-year prediction. But we'll need to train a model on the full archive...\n",
    "So the training data will require extraction of ~20years of data. Lets test this at 5km resolution...rainfall is 5km anyway so we can't do better than that for now.\n"
   ]
  },
  {
   "cell_type": "code",
   "execution_count": null,
   "metadata": {
    "tags": []
   },
   "outputs": [],
   "source": [
    "import os\n",
    "import pandas as pd\n",
    "import xarray as xr\n",
    "import numpy as np\n",
    "from odc.geo.xr import assign_crs\n",
    "from odc.geo.geobox import zoom_out\n",
    "\n",
    "import sys\n",
    "sys.path.append('/g/data/os22/chad_tmp/AusEFlux/src/')\n",
    "from dask_utils import start_local_dask\n",
    "from _collect_prediction_data import round_coords\n",
    "\n",
    "import warnings\n",
    "warnings.simplefilter(action='ignore', category=FutureWarning)"
   ]
  },
  {
   "cell_type": "code",
   "execution_count": null,
   "metadata": {
    "tags": []
   },
   "outputs": [],
   "source": [
    "client = start_local_dask(mem_safety_margin='2Gb')\n",
    "client"
   ]
  },
  {
   "cell_type": "code",
   "execution_count": null,
   "metadata": {},
   "outputs": [],
   "source": [
    "base = '/g/data/ub8/au/'\n",
    "results='/g/data/os22/chad_tmp/AusEFlux/data/5km/'\n",
    "years = [str(i) for i in range(2004,2023)]\n",
    "chunks=dict(latitude=500, longtiude=500, time=-1)"
   ]
  },
  {
   "cell_type": "code",
   "execution_count": null,
   "metadata": {
    "tags": []
   },
   "outputs": [],
   "source": [
    "def pre_preprocess(ds, var):\n",
    "    ds = ds.transpose('latitude', 'longitude', 'time')\n",
    "    ds = assign_crs(ds, crs='epsg:4326')\n",
    "    if var=='rain':\n",
    "        ds = ds.resample(time='MS', loffset=pd.Timedelta(14, 'd')).sum()\n",
    "    else:\n",
    "        ds = ds.resample(time='MS', loffset=pd.Timedelta(14, 'd')).mean()\n",
    "    ds = ds.to_array()\n",
    "    ds.attrs['nodata'] = np.nan\n",
    "    ds = ds.odc.reproject(common_grid, resampling='average')\n",
    "    ds = ds.squeeze().drop('variable')\n",
    "    ds = round_coords(ds)\n",
    "    ds.attrs['nodata'] = np.nan\n",
    "    return ds"
   ]
  },
  {
   "cell_type": "code",
   "execution_count": null,
   "metadata": {
    "tags": []
   },
   "outputs": [],
   "source": [
    "#grab the common grid to reproject too\n",
    "xx = xr.open_dataset(base+'MODIS/mosaic/MYD11A1.006/MYD11A1.006.LST_Day_1km.2019.nc')\n",
    "xx = assign_crs(xx, crs='epsg:4326')\n",
    "common_grid = zoom_out(xx.odc.geobox, 5)\n",
    "\n",
    "#loop through each year\n",
    "for year in years:\n",
    "    \n",
    "    print(year)\n",
    "    \n",
    "    inputs = {\n",
    "        'rain': 'OzWALD/daily/meteo/Pg/OzWALD.daily.Pg.'+year+'.nc',\n",
    "        'NDVI': 'OzWALD/8day/NDVI/OzWALD.NDVI.'+year+'.nc',\n",
    "        'LST':'MODIS/mosaic/MYD11A1.006/MYD11A1.006.LST_Day_1km.'+year+'.nc',\n",
    "        # 'Tmin': 'OzWALD/daily/meteo/Tmin/OzWALD.Tmin.'+year+'.nc', #tons of memory, deal with differently\n",
    "        # 'Tmax': 'OzWALD/daily/meteo/Tmax/OzWALD.Tmax.'+year+'.nc',\n",
    "        'VPeff': 'OzWALD/daily/meteo/VPeff/OzWALD.VPeff.'+year+'.nc',\n",
    "        'PV': 'OzWALD/8day/PV/OzWALD.PV.'+year+'.nc',\n",
    "        'BS': 'OzWALD/8day/BS/OzWALD.BS.'+year+'.nc',\n",
    "        'WCF': 'OzWALD/annual/OzWALD.WCF.Annual.nc',\n",
    "        'VegH': '/g/data/os22/chad_tmp/NEE_modelling/data/1km/VegH_1km_monthly_2002_2022.nc'\n",
    "         }\n",
    "    \n",
    "    for k,i in inputs.items():\n",
    "        if os.path.exists(results+k+'/'+k+'_5km_monthly_'+year+'.nc'):\n",
    "            print('skipping model '+name)\n",
    "            continue\n",
    "        else:\n",
    "            print('', k)\n",
    "\n",
    "        # Loop through the dataset and process them\n",
    "        # Handle some datasets differently\n",
    "        different = ['WCF', 'VegH']\n",
    "\n",
    "        if any(k in j for j in different):\n",
    "            if k=='VegH':\n",
    "                ds = xr.open_dataset(i, chunks=chunks)\n",
    "                ds = ds.isel(time=-1).squeeze().drop('time') #grab any time, its all the same\n",
    "                \n",
    "            if k=='WCF':    \n",
    "                ds = xr.open_dataset(base+i, chunks=chunks)\n",
    "                ds = ds.sel(time=year).squeeze().drop('time')\n",
    "                ds = ds.transpose('latitude', 'longitude')\n",
    "                ds = assign_crs(ds, crs='epsg:4326')\n",
    "\n",
    "            ds = ds.to_array()\n",
    "            ds.attrs['nodata'] = np.nan\n",
    "            ds = ds.odc.reproject(common_grid, resampling='average')\n",
    "            time = pd.date_range(year+\"-01\", year+\"-12\", freq='MS') \n",
    "            time = [t+pd.Timedelta(14, 'd') for t in time]\n",
    "            ds = ds.expand_dims(time=time)\n",
    "            ds= ds.squeeze().drop('variable')\n",
    "            ds = round_coords(ds)\n",
    "            ds.attrs['nodata'] = np.nan\n",
    "\n",
    "        else:\n",
    "            ds = xr.open_dataset(base+i, chunks=chunks)\n",
    "            ds = pre_preprocess(ds, k)\n",
    "\n",
    "        ds = ds.rename(k)\n",
    "\n",
    "        #bring into memory\n",
    "        ds = ds.compute() \n",
    "\n",
    "        #export result\n",
    "        folder = '/g/data/os22/chad_tmp/AusEFlux/data/5km/'+k\n",
    "\n",
    "        if not os.path.exists(folder):\n",
    "            os.makedirs(folder)\n",
    "\n",
    "        ds.to_netcdf(results+k+'/'+k+'_5km_monthly_'+year+'.nc')\n",
    "\n",
    "        del ds\n"
   ]
  },
  {
   "cell_type": "code",
   "execution_count": null,
   "metadata": {},
   "outputs": [],
   "source": []
  },
  {
   "cell_type": "code",
   "execution_count": null,
   "metadata": {},
   "outputs": [],
   "source": []
  },
  {
   "cell_type": "markdown",
   "metadata": {},
   "source": [
    "# Extract training data from the OzFlux eddy covariance sites\n",
    "\n",
    "More datasets are here https://dap.tern.org.au/thredds/catalog/ecosystem_process/ozflux/catalog.html\n",
    "\n"
   ]
  },
  {
   "cell_type": "markdown",
   "metadata": {},
   "source": [
    "## Load modules"
   ]
  },
  {
   "cell_type": "code",
   "execution_count": null,
   "metadata": {},
   "outputs": [],
   "source": [
    "import sys\n",
    "sys.path.append('/g/data/os22/chad_tmp/AusEFlux/src/')\n",
    "# from _collect_training_data import extract_ec_gridded_data"
   ]
  },
  {
   "cell_type": "markdown",
   "metadata": {},
   "source": [
    "## Collect training data from EC towers, and gridded data at pixel location of EC tower\n",
    "\n",
    "This data is used for training the models.\n"
   ]
  },
  {
   "cell_type": "code",
   "execution_count": null,
   "metadata": {},
   "outputs": [],
   "source": [
    "suffixes = [\n",
    "    'Emerald/2022_v2/L6/default/Emerald_L6_20110610_20131231_Monthly.nc',\n",
    "    'GreatWesternWoodlands/2022_v2/L6/default/GreatWesternWoodlands_L6_20130101_20220601_Monthly.nc',\n",
    "    'CowBay/2022_v2/L6/default/CowBay_L6_20090101_20220816_Monthly.nc',\n",
    "    'Tumbarumba/2022_v2/L6/default/Tumbarumba_L6_20020107_20220530_Monthly.nc',\n",
    "    'Whroo/2022_v2/L6/default/Whroo_L6_20111201_20220821_Monthly.nc',\n",
    "    'WombatStateForest/2022_v2/L6/default/WombatStateForest_L6_20100120_20210529_Monthly.nc',\n",
    "    'WallabyCreek/2022_v2/L6/default/WallabyCreek_L6_20050825_20130409_Monthly.nc',\n",
    "    'RobsonCreek/2022_v2/L6/default/RobsonCreek_L6_20130801_20220816_Monthly.nc',\n",
    "    'CapeTribulation/2022_v2/L6/default/CapeTribulation_L6_20100101_20181102_Monthly.nc',\n",
    "    'AliceSpringsMulga/2022_v2/L6/default/AliceSpringsMulga_L6_20100903_20220806_Monthly.nc',\n",
    "    'CalperumChowilla/2022_v2/L6/default/Calperum_L6_20100730_20220829_Monthly.nc',\n",
    "    'DryRiver/2022_v2/L6/default/DryRiver_L6_20091025_20220820_Monthly.nc',\n",
    "    'Litchfield/2022_v2/L6/default/Litchfield_L6_20150623_20220513_Monthly.nc',\n",
    "    'SturtPlains/2022_v2/L6/default/SturtPlains_L6_20080828_20220513_Monthly.nc',\n",
    "    'RiggsCreek/2022_v2/L6/default/RiggsCreek_L6_20110101_20170712_Monthly.nc', #dryland cropping\n",
    "    'Otway/2022_v2/L6/default/Otway_L6_20070811_20110101_Monthly.nc', # pasture site\n",
    "    'Yanco/2022_v2/L6/default/Yanco_L6_20130101_20220821_Monthly.nc', # soil site\n",
    "    \n",
    "    ## check the location of these ones below as they are new additions\n",
    "    'Gingin/2022_v2/L6/default/Gingin_L6_20111013_20210614_Monthly.nc', # native Banksia woodland\n",
    "    'LongreachMitchellGrassRangeland/2022_v2/L6/default/Longreach_L6_20181009_20220607_Monthly.nc',\n",
    "    'Ridgefield/2022_v2/L6/default/Ridgefield_L6_20160101_20220821_Monthly.nc', #  dryland agriculture\n",
    "    'SilverPlains/2022_v2/L6/default/SilverPlains_L6_20200101_20211231_Monthly.nc', #Australian Mountain Reseach \n",
    "    'Collie/2022_v2/L6/default/Collie_L6_20170804_20191111_Monthly.nc', # wandoo woodland\n",
    "    'AdelaideRiver/2022_v2/L6/default/AdelaideRiver_L6_20071017_20090524_Monthly.nc', #  Savanna dominated by Eucalyptus\n",
    "    'Warra/2022_v2/L6/default/Warra_L6_20130305_20210921_Monthly.nc', #tasmania\n",
    "    \n",
    "    ### ----------Problematic sites--------\n",
    "    #'DalyPasture/2022_v2/L6/default/DalyPasture_L6_20080101_20130908_Monthly.nc', #fragmented landscape, pasture among native veg fragments\n",
    "    #'DalyUncleared/2022_v1/L6/default/DalyUncleared_L6_20080101_20220217_Monthly.nc', #Woodland savanna LOTS OF UNCERTAINTY IN THIS SITE - Peter Isaac\n",
    "    'CumberlandPlain/2022_v2/L6/default/CumberlandPlain_L6_20140101_20220820_Monthly.nc',# small remnant bushland block in ag district\n",
    "    'SamfordEcologicalResearchFacility/2022_v2/L6/default/Samford_L6_20100602_20171231_Monthly.nc', #fragmented landscape 5km resolution not good enough\n",
    "    'Boyagin/2022_v2/L6/default/Boyagin_L6_20171020_20220821_Monthly.nc', # in remnant forest around crops, BORDERLINE MIGHT BE OKAY\n",
    "    'TiTreeEast/2022_v1/L6/default/TiTreeEast_L6_20120718_20220117_Monthly.nc', \n",
    "    #'RedDirtMelonFarm/2021_v1/L6/default/RedDirtMelonFarm_L6_20110923_20130721_Monthly.nc', #small farm in the middle of savannah woodland\n",
    "    'FoggDam/2022_v2/L6/default/FoggDam_L6_20060207_20081031_Monthly.nc', # wetland that floods seasonally\n",
    "    #'Loxton/2022_v1/L6/default/Loxton_L6_20080819_20090609_Monthly.nc' # almond tress, 1 year of data\n",
    "]\n",
    "\n",
    "i=0\n",
    "sites = []\n",
    "for suffix in suffixes:\n",
    "    print(\" {:02}/{:02}\\r\".format(i + 1, len(suffixes)), end=\"\")\n",
    "    xx = extract_ec_gridded_data(suffix,\n",
    "                                 scale='1km',\n",
    "                                 save_ec_data=False,\n",
    "                                 verbose=False,\n",
    "                                 add_comparisons=False,\n",
    "                                 export_path='/g/data/os22/chad_tmp/AusEFlux/results/training_data/'\n",
    "                                )\n",
    "    sites.append(xx)\n",
    "    i+=1\n",
    "    "
   ]
  }
 ],
 "metadata": {
  "kernelspec": {
   "display_name": "Python 3 (ipykernel)",
   "language": "python",
   "name": "python3"
  },
  "language_info": {
   "codemirror_mode": {
    "name": "ipython",
    "version": 3
   },
   "file_extension": ".py",
   "mimetype": "text/x-python",
   "name": "python",
   "nbconvert_exporter": "python",
   "pygments_lexer": "ipython3",
   "version": "3.11.0"
  }
 },
 "nbformat": 4,
 "nbformat_minor": 4
}
